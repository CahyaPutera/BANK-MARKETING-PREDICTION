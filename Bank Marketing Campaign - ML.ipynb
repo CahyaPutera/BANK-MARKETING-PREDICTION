{
 "cells": [
  {
   "cell_type": "markdown",
   "metadata": {},
   "source": [
    "## BANK MARKETING CAMPAIGN - MACHINE LEARNING"
   ]
  },
  {
   "cell_type": "markdown",
   "metadata": {},
   "source": [
    "Data taken from : https://archive.ics.uci.edu/ml/datasets/bank+marketing\n",
    "\n",
    "In this section we will try to find the best and proper model to predict the clients who're deposited and not deposited. This data related with direct marketing campaigns of a Portuguese banking institution. The marketing campaigns were based on phone calls. Often, more than one contact to the same client was required, in order to access if the product (bank term deposit) would be ('yes') or not ('no') subscribed. "
   ]
  },
  {
   "cell_type": "markdown",
   "metadata": {},
   "source": [
    "### IMPORT LIBRARIES"
   ]
  },
  {
   "cell_type": "code",
   "execution_count": 1,
   "metadata": {},
   "outputs": [
    {
     "name": "stderr",
     "output_type": "stream",
     "text": [
      "C:\\Users\\cahya\\Anaconda3\\lib\\site-packages\\sklearn\\utils\\deprecation.py:143: FutureWarning: The sklearn.metrics.classification module is  deprecated in version 0.22 and will be removed in version 0.24. The corresponding classes / functions should instead be imported from sklearn.metrics. Anything that cannot be imported from sklearn.metrics is now part of the private API.\n",
      "  warnings.warn(message, FutureWarning)\n"
     ]
    }
   ],
   "source": [
    "import pandas as pd\n",
    "import numpy as np\n",
    "import matplotlib.pyplot as plt\n",
    "import seaborn as sns\n",
    "\n",
    "from sklearn.metrics import confusion_matrix, classification_report, roc_auc_score, roc_curve, auc, f1_score, precision_score, recall_score, matthews_corrcoef\n",
    "from sklearn.datasets import make_classification\n",
    "\n",
    "from sklearn.model_selection import train_test_split, RandomizedSearchCV, StratifiedKFold , cross_val_score\n",
    "from sklearn.preprocessing import RobustScaler, LabelEncoder\n",
    "\n",
    "from sklearn.feature_selection import SelectKBest, chi2\n",
    "from sklearn.compose import ColumnTransformer\n",
    "\n",
    "from sklearn.ensemble import ExtraTreesClassifier, RandomForestClassifier\n",
    "from sklearn.svm import SVC\n",
    "\n",
    "import scipy.stats as ss\n",
    "import statsmodels.api as sm\n",
    "from sklearn.neighbors import KernelDensity\n",
    "from scipy.stats import mannwhitneyu, chi2_contingency\n",
    "from scipy.stats import anderson\n",
    "\n",
    "from yellowbrick.model_selection import learning_curve, ValidationCurve\n",
    "\n",
    "import warnings\n",
    "warnings.filterwarnings(\"ignore\")\n",
    "warnings.filterwarnings(action='ignore', category=FutureWarning)"
   ]
  },
  {
   "cell_type": "markdown",
   "metadata": {},
   "source": [
    "### OVERVIEW"
   ]
  },
  {
   "cell_type": "code",
   "execution_count": 2,
   "metadata": {},
   "outputs": [],
   "source": [
    "df = pd.read_csv('bank_ready.csv')"
   ]
  },
  {
   "cell_type": "code",
   "execution_count": 3,
   "metadata": {},
   "outputs": [
    {
     "data": {
      "text/html": [
       "<div>\n",
       "<style scoped>\n",
       "    .dataframe tbody tr th:only-of-type {\n",
       "        vertical-align: middle;\n",
       "    }\n",
       "\n",
       "    .dataframe tbody tr th {\n",
       "        vertical-align: top;\n",
       "    }\n",
       "\n",
       "    .dataframe thead th {\n",
       "        text-align: right;\n",
       "    }\n",
       "</style>\n",
       "<table border=\"1\" class=\"dataframe\">\n",
       "  <thead>\n",
       "    <tr style=\"text-align: right;\">\n",
       "      <th></th>\n",
       "      <th>age</th>\n",
       "      <th>balance</th>\n",
       "      <th>day</th>\n",
       "      <th>duration</th>\n",
       "      <th>campaign</th>\n",
       "      <th>pdays</th>\n",
       "      <th>previous</th>\n",
       "      <th>job</th>\n",
       "      <th>marital</th>\n",
       "      <th>education</th>\n",
       "      <th>default</th>\n",
       "      <th>housing</th>\n",
       "      <th>loan</th>\n",
       "      <th>contact</th>\n",
       "      <th>month</th>\n",
       "      <th>poutcome</th>\n",
       "      <th>deposit</th>\n",
       "    </tr>\n",
       "  </thead>\n",
       "  <tbody>\n",
       "    <tr>\n",
       "      <th>0</th>\n",
       "      <td>59</td>\n",
       "      <td>2343</td>\n",
       "      <td>5</td>\n",
       "      <td>1042</td>\n",
       "      <td>1</td>\n",
       "      <td>0</td>\n",
       "      <td>0</td>\n",
       "      <td>admin.</td>\n",
       "      <td>married</td>\n",
       "      <td>secondary</td>\n",
       "      <td>no</td>\n",
       "      <td>yes</td>\n",
       "      <td>no</td>\n",
       "      <td>unknown</td>\n",
       "      <td>may</td>\n",
       "      <td>unknown</td>\n",
       "      <td>yes</td>\n",
       "    </tr>\n",
       "    <tr>\n",
       "      <th>1</th>\n",
       "      <td>56</td>\n",
       "      <td>45</td>\n",
       "      <td>5</td>\n",
       "      <td>1467</td>\n",
       "      <td>1</td>\n",
       "      <td>0</td>\n",
       "      <td>0</td>\n",
       "      <td>admin.</td>\n",
       "      <td>married</td>\n",
       "      <td>secondary</td>\n",
       "      <td>no</td>\n",
       "      <td>no</td>\n",
       "      <td>no</td>\n",
       "      <td>unknown</td>\n",
       "      <td>may</td>\n",
       "      <td>unknown</td>\n",
       "      <td>yes</td>\n",
       "    </tr>\n",
       "    <tr>\n",
       "      <th>2</th>\n",
       "      <td>41</td>\n",
       "      <td>1270</td>\n",
       "      <td>5</td>\n",
       "      <td>1389</td>\n",
       "      <td>1</td>\n",
       "      <td>0</td>\n",
       "      <td>0</td>\n",
       "      <td>technician</td>\n",
       "      <td>married</td>\n",
       "      <td>secondary</td>\n",
       "      <td>no</td>\n",
       "      <td>yes</td>\n",
       "      <td>no</td>\n",
       "      <td>unknown</td>\n",
       "      <td>may</td>\n",
       "      <td>unknown</td>\n",
       "      <td>yes</td>\n",
       "    </tr>\n",
       "    <tr>\n",
       "      <th>3</th>\n",
       "      <td>55</td>\n",
       "      <td>2476</td>\n",
       "      <td>5</td>\n",
       "      <td>579</td>\n",
       "      <td>1</td>\n",
       "      <td>0</td>\n",
       "      <td>0</td>\n",
       "      <td>services</td>\n",
       "      <td>married</td>\n",
       "      <td>secondary</td>\n",
       "      <td>no</td>\n",
       "      <td>yes</td>\n",
       "      <td>no</td>\n",
       "      <td>unknown</td>\n",
       "      <td>may</td>\n",
       "      <td>unknown</td>\n",
       "      <td>yes</td>\n",
       "    </tr>\n",
       "    <tr>\n",
       "      <th>4</th>\n",
       "      <td>54</td>\n",
       "      <td>184</td>\n",
       "      <td>5</td>\n",
       "      <td>673</td>\n",
       "      <td>2</td>\n",
       "      <td>0</td>\n",
       "      <td>0</td>\n",
       "      <td>admin.</td>\n",
       "      <td>married</td>\n",
       "      <td>tertiary</td>\n",
       "      <td>no</td>\n",
       "      <td>no</td>\n",
       "      <td>no</td>\n",
       "      <td>unknown</td>\n",
       "      <td>may</td>\n",
       "      <td>unknown</td>\n",
       "      <td>yes</td>\n",
       "    </tr>\n",
       "  </tbody>\n",
       "</table>\n",
       "</div>"
      ],
      "text/plain": [
       "   age  balance  day  duration  campaign  pdays  previous         job  \\\n",
       "0   59     2343    5      1042         1      0         0      admin.   \n",
       "1   56       45    5      1467         1      0         0      admin.   \n",
       "2   41     1270    5      1389         1      0         0  technician   \n",
       "3   55     2476    5       579         1      0         0    services   \n",
       "4   54      184    5       673         2      0         0      admin.   \n",
       "\n",
       "   marital  education default housing loan  contact month poutcome deposit  \n",
       "0  married  secondary      no     yes   no  unknown   may  unknown     yes  \n",
       "1  married  secondary      no      no   no  unknown   may  unknown     yes  \n",
       "2  married  secondary      no     yes   no  unknown   may  unknown     yes  \n",
       "3  married  secondary      no     yes   no  unknown   may  unknown     yes  \n",
       "4  married   tertiary      no      no   no  unknown   may  unknown     yes  "
      ]
     },
     "execution_count": 3,
     "metadata": {},
     "output_type": "execute_result"
    }
   ],
   "source": [
    "df.head()"
   ]
  },
  {
   "cell_type": "code",
   "execution_count": 4,
   "metadata": {},
   "outputs": [
    {
     "name": "stdout",
     "output_type": "stream",
     "text": [
      "<class 'pandas.core.frame.DataFrame'>\n",
      "RangeIndex: 11162 entries, 0 to 11161\n",
      "Data columns (total 17 columns):\n",
      " #   Column     Non-Null Count  Dtype \n",
      "---  ------     --------------  ----- \n",
      " 0   age        11162 non-null  int64 \n",
      " 1   balance    11162 non-null  int64 \n",
      " 2   day        11162 non-null  int64 \n",
      " 3   duration   11162 non-null  int64 \n",
      " 4   campaign   11162 non-null  int64 \n",
      " 5   pdays      11162 non-null  int64 \n",
      " 6   previous   11162 non-null  int64 \n",
      " 7   job        11162 non-null  object\n",
      " 8   marital    11162 non-null  object\n",
      " 9   education  11162 non-null  object\n",
      " 10  default    11162 non-null  object\n",
      " 11  housing    11162 non-null  object\n",
      " 12  loan       11162 non-null  object\n",
      " 13  contact    11162 non-null  object\n",
      " 14  month      11162 non-null  object\n",
      " 15  poutcome   11162 non-null  object\n",
      " 16  deposit    11162 non-null  object\n",
      "dtypes: int64(7), object(10)\n",
      "memory usage: 1.4+ MB\n"
     ]
    }
   ],
   "source": [
    "df.info()"
   ]
  },
  {
   "cell_type": "code",
   "execution_count": 5,
   "metadata": {},
   "outputs": [
    {
     "data": {
      "text/html": [
       "<div>\n",
       "<style scoped>\n",
       "    .dataframe tbody tr th:only-of-type {\n",
       "        vertical-align: middle;\n",
       "    }\n",
       "\n",
       "    .dataframe tbody tr th {\n",
       "        vertical-align: top;\n",
       "    }\n",
       "\n",
       "    .dataframe thead th {\n",
       "        text-align: right;\n",
       "    }\n",
       "</style>\n",
       "<table border=\"1\" class=\"dataframe\">\n",
       "  <thead>\n",
       "    <tr style=\"text-align: right;\">\n",
       "      <th></th>\n",
       "      <th>Features</th>\n",
       "      <th>dataType</th>\n",
       "      <th>nullvalues</th>\n",
       "      <th>unique</th>\n",
       "      <th>uniqueSample</th>\n",
       "    </tr>\n",
       "  </thead>\n",
       "  <tbody>\n",
       "    <tr>\n",
       "      <th>0</th>\n",
       "      <td>age</td>\n",
       "      <td>int64</td>\n",
       "      <td>0</td>\n",
       "      <td>76</td>\n",
       "      <td>[22, 88]</td>\n",
       "    </tr>\n",
       "    <tr>\n",
       "      <th>1</th>\n",
       "      <td>balance</td>\n",
       "      <td>int64</td>\n",
       "      <td>0</td>\n",
       "      <td>3805</td>\n",
       "      <td>[463, 7119]</td>\n",
       "    </tr>\n",
       "    <tr>\n",
       "      <th>2</th>\n",
       "      <td>day</td>\n",
       "      <td>int64</td>\n",
       "      <td>0</td>\n",
       "      <td>31</td>\n",
       "      <td>[22, 4]</td>\n",
       "    </tr>\n",
       "    <tr>\n",
       "      <th>3</th>\n",
       "      <td>duration</td>\n",
       "      <td>int64</td>\n",
       "      <td>0</td>\n",
       "      <td>1428</td>\n",
       "      <td>[958, 262]</td>\n",
       "    </tr>\n",
       "    <tr>\n",
       "      <th>4</th>\n",
       "      <td>campaign</td>\n",
       "      <td>int64</td>\n",
       "      <td>0</td>\n",
       "      <td>36</td>\n",
       "      <td>[63, 4]</td>\n",
       "    </tr>\n",
       "    <tr>\n",
       "      <th>5</th>\n",
       "      <td>pdays</td>\n",
       "      <td>int64</td>\n",
       "      <td>0</td>\n",
       "      <td>472</td>\n",
       "      <td>[178, 86]</td>\n",
       "    </tr>\n",
       "    <tr>\n",
       "      <th>6</th>\n",
       "      <td>previous</td>\n",
       "      <td>int64</td>\n",
       "      <td>0</td>\n",
       "      <td>34</td>\n",
       "      <td>[12, 7]</td>\n",
       "    </tr>\n",
       "    <tr>\n",
       "      <th>7</th>\n",
       "      <td>job</td>\n",
       "      <td>object</td>\n",
       "      <td>0</td>\n",
       "      <td>12</td>\n",
       "      <td>[unknown, unemployed]</td>\n",
       "    </tr>\n",
       "    <tr>\n",
       "      <th>8</th>\n",
       "      <td>marital</td>\n",
       "      <td>object</td>\n",
       "      <td>0</td>\n",
       "      <td>3</td>\n",
       "      <td>[divorced, single]</td>\n",
       "    </tr>\n",
       "    <tr>\n",
       "      <th>9</th>\n",
       "      <td>education</td>\n",
       "      <td>object</td>\n",
       "      <td>0</td>\n",
       "      <td>4</td>\n",
       "      <td>[tertiary, primary]</td>\n",
       "    </tr>\n",
       "    <tr>\n",
       "      <th>10</th>\n",
       "      <td>default</td>\n",
       "      <td>object</td>\n",
       "      <td>0</td>\n",
       "      <td>2</td>\n",
       "      <td>[no, yes]</td>\n",
       "    </tr>\n",
       "    <tr>\n",
       "      <th>11</th>\n",
       "      <td>housing</td>\n",
       "      <td>object</td>\n",
       "      <td>0</td>\n",
       "      <td>2</td>\n",
       "      <td>[yes, no]</td>\n",
       "    </tr>\n",
       "    <tr>\n",
       "      <th>12</th>\n",
       "      <td>loan</td>\n",
       "      <td>object</td>\n",
       "      <td>0</td>\n",
       "      <td>2</td>\n",
       "      <td>[no, yes]</td>\n",
       "    </tr>\n",
       "    <tr>\n",
       "      <th>13</th>\n",
       "      <td>contact</td>\n",
       "      <td>object</td>\n",
       "      <td>0</td>\n",
       "      <td>3</td>\n",
       "      <td>[unknown, telephone]</td>\n",
       "    </tr>\n",
       "    <tr>\n",
       "      <th>14</th>\n",
       "      <td>month</td>\n",
       "      <td>object</td>\n",
       "      <td>0</td>\n",
       "      <td>12</td>\n",
       "      <td>[sep, nov]</td>\n",
       "    </tr>\n",
       "    <tr>\n",
       "      <th>15</th>\n",
       "      <td>poutcome</td>\n",
       "      <td>object</td>\n",
       "      <td>0</td>\n",
       "      <td>4</td>\n",
       "      <td>[failure, unknown]</td>\n",
       "    </tr>\n",
       "    <tr>\n",
       "      <th>16</th>\n",
       "      <td>deposit</td>\n",
       "      <td>object</td>\n",
       "      <td>0</td>\n",
       "      <td>2</td>\n",
       "      <td>[yes, no]</td>\n",
       "    </tr>\n",
       "  </tbody>\n",
       "</table>\n",
       "</div>"
      ],
      "text/plain": [
       "     Features dataType  nullvalues  unique           uniqueSample\n",
       "0         age    int64           0      76               [22, 88]\n",
       "1     balance    int64           0    3805            [463, 7119]\n",
       "2         day    int64           0      31                [22, 4]\n",
       "3    duration    int64           0    1428             [958, 262]\n",
       "4    campaign    int64           0      36                [63, 4]\n",
       "5       pdays    int64           0     472              [178, 86]\n",
       "6    previous    int64           0      34                [12, 7]\n",
       "7         job   object           0      12  [unknown, unemployed]\n",
       "8     marital   object           0       3     [divorced, single]\n",
       "9   education   object           0       4    [tertiary, primary]\n",
       "10    default   object           0       2              [no, yes]\n",
       "11    housing   object           0       2              [yes, no]\n",
       "12       loan   object           0       2              [no, yes]\n",
       "13    contact   object           0       3   [unknown, telephone]\n",
       "14      month   object           0      12             [sep, nov]\n",
       "15   poutcome   object           0       4     [failure, unknown]\n",
       "16    deposit   object           0       2              [yes, no]"
      ]
     },
     "execution_count": 5,
     "metadata": {},
     "output_type": "execute_result"
    }
   ],
   "source": [
    "pd.DataFrame({'Features' : df.columns, 'dataType' : df.dtypes.values, \n",
    "              'nullvalues' : [df[i].isna().sum() for i in df.columns],\n",
    "              'unique' : [df[i].nunique() for i in df.columns],\n",
    "              'uniqueSample' : [list(pd.Series(df[i].unique()).sample(2)) for i in df.columns]}).reset_index(drop = True)"
   ]
  },
  {
   "cell_type": "markdown",
   "metadata": {},
   "source": [
    "> I'll split the data into two categories for easier indexing."
   ]
  },
  {
   "cell_type": "code",
   "execution_count": 6,
   "metadata": {},
   "outputs": [],
   "source": [
    "df_cat = df.select_dtypes(['object'])"
   ]
  },
  {
   "cell_type": "code",
   "execution_count": 7,
   "metadata": {},
   "outputs": [
    {
     "data": {
      "text/html": [
       "<div>\n",
       "<style scoped>\n",
       "    .dataframe tbody tr th:only-of-type {\n",
       "        vertical-align: middle;\n",
       "    }\n",
       "\n",
       "    .dataframe tbody tr th {\n",
       "        vertical-align: top;\n",
       "    }\n",
       "\n",
       "    .dataframe thead th {\n",
       "        text-align: right;\n",
       "    }\n",
       "</style>\n",
       "<table border=\"1\" class=\"dataframe\">\n",
       "  <thead>\n",
       "    <tr style=\"text-align: right;\">\n",
       "      <th></th>\n",
       "      <th>job</th>\n",
       "      <th>marital</th>\n",
       "      <th>education</th>\n",
       "      <th>default</th>\n",
       "      <th>housing</th>\n",
       "      <th>loan</th>\n",
       "      <th>contact</th>\n",
       "      <th>month</th>\n",
       "      <th>poutcome</th>\n",
       "      <th>deposit</th>\n",
       "    </tr>\n",
       "  </thead>\n",
       "  <tbody>\n",
       "    <tr>\n",
       "      <th>0</th>\n",
       "      <td>admin.</td>\n",
       "      <td>married</td>\n",
       "      <td>secondary</td>\n",
       "      <td>no</td>\n",
       "      <td>yes</td>\n",
       "      <td>no</td>\n",
       "      <td>unknown</td>\n",
       "      <td>may</td>\n",
       "      <td>unknown</td>\n",
       "      <td>yes</td>\n",
       "    </tr>\n",
       "    <tr>\n",
       "      <th>1</th>\n",
       "      <td>admin.</td>\n",
       "      <td>married</td>\n",
       "      <td>secondary</td>\n",
       "      <td>no</td>\n",
       "      <td>no</td>\n",
       "      <td>no</td>\n",
       "      <td>unknown</td>\n",
       "      <td>may</td>\n",
       "      <td>unknown</td>\n",
       "      <td>yes</td>\n",
       "    </tr>\n",
       "    <tr>\n",
       "      <th>2</th>\n",
       "      <td>technician</td>\n",
       "      <td>married</td>\n",
       "      <td>secondary</td>\n",
       "      <td>no</td>\n",
       "      <td>yes</td>\n",
       "      <td>no</td>\n",
       "      <td>unknown</td>\n",
       "      <td>may</td>\n",
       "      <td>unknown</td>\n",
       "      <td>yes</td>\n",
       "    </tr>\n",
       "    <tr>\n",
       "      <th>3</th>\n",
       "      <td>services</td>\n",
       "      <td>married</td>\n",
       "      <td>secondary</td>\n",
       "      <td>no</td>\n",
       "      <td>yes</td>\n",
       "      <td>no</td>\n",
       "      <td>unknown</td>\n",
       "      <td>may</td>\n",
       "      <td>unknown</td>\n",
       "      <td>yes</td>\n",
       "    </tr>\n",
       "    <tr>\n",
       "      <th>4</th>\n",
       "      <td>admin.</td>\n",
       "      <td>married</td>\n",
       "      <td>tertiary</td>\n",
       "      <td>no</td>\n",
       "      <td>no</td>\n",
       "      <td>no</td>\n",
       "      <td>unknown</td>\n",
       "      <td>may</td>\n",
       "      <td>unknown</td>\n",
       "      <td>yes</td>\n",
       "    </tr>\n",
       "  </tbody>\n",
       "</table>\n",
       "</div>"
      ],
      "text/plain": [
       "          job  marital  education default housing loan  contact month  \\\n",
       "0      admin.  married  secondary      no     yes   no  unknown   may   \n",
       "1      admin.  married  secondary      no      no   no  unknown   may   \n",
       "2  technician  married  secondary      no     yes   no  unknown   may   \n",
       "3    services  married  secondary      no     yes   no  unknown   may   \n",
       "4      admin.  married   tertiary      no      no   no  unknown   may   \n",
       "\n",
       "  poutcome deposit  \n",
       "0  unknown     yes  \n",
       "1  unknown     yes  \n",
       "2  unknown     yes  \n",
       "3  unknown     yes  \n",
       "4  unknown     yes  "
      ]
     },
     "execution_count": 7,
     "metadata": {},
     "output_type": "execute_result"
    }
   ],
   "source": [
    "df_cat.head()"
   ]
  },
  {
   "cell_type": "code",
   "execution_count": 8,
   "metadata": {},
   "outputs": [],
   "source": [
    "df_con = df.select_dtypes(['float64', 'int64'])"
   ]
  },
  {
   "cell_type": "code",
   "execution_count": 9,
   "metadata": {},
   "outputs": [
    {
     "data": {
      "text/html": [
       "<div>\n",
       "<style scoped>\n",
       "    .dataframe tbody tr th:only-of-type {\n",
       "        vertical-align: middle;\n",
       "    }\n",
       "\n",
       "    .dataframe tbody tr th {\n",
       "        vertical-align: top;\n",
       "    }\n",
       "\n",
       "    .dataframe thead th {\n",
       "        text-align: right;\n",
       "    }\n",
       "</style>\n",
       "<table border=\"1\" class=\"dataframe\">\n",
       "  <thead>\n",
       "    <tr style=\"text-align: right;\">\n",
       "      <th></th>\n",
       "      <th>age</th>\n",
       "      <th>balance</th>\n",
       "      <th>day</th>\n",
       "      <th>duration</th>\n",
       "      <th>campaign</th>\n",
       "      <th>pdays</th>\n",
       "      <th>previous</th>\n",
       "    </tr>\n",
       "  </thead>\n",
       "  <tbody>\n",
       "    <tr>\n",
       "      <th>0</th>\n",
       "      <td>59</td>\n",
       "      <td>2343</td>\n",
       "      <td>5</td>\n",
       "      <td>1042</td>\n",
       "      <td>1</td>\n",
       "      <td>0</td>\n",
       "      <td>0</td>\n",
       "    </tr>\n",
       "    <tr>\n",
       "      <th>1</th>\n",
       "      <td>56</td>\n",
       "      <td>45</td>\n",
       "      <td>5</td>\n",
       "      <td>1467</td>\n",
       "      <td>1</td>\n",
       "      <td>0</td>\n",
       "      <td>0</td>\n",
       "    </tr>\n",
       "    <tr>\n",
       "      <th>2</th>\n",
       "      <td>41</td>\n",
       "      <td>1270</td>\n",
       "      <td>5</td>\n",
       "      <td>1389</td>\n",
       "      <td>1</td>\n",
       "      <td>0</td>\n",
       "      <td>0</td>\n",
       "    </tr>\n",
       "    <tr>\n",
       "      <th>3</th>\n",
       "      <td>55</td>\n",
       "      <td>2476</td>\n",
       "      <td>5</td>\n",
       "      <td>579</td>\n",
       "      <td>1</td>\n",
       "      <td>0</td>\n",
       "      <td>0</td>\n",
       "    </tr>\n",
       "    <tr>\n",
       "      <th>4</th>\n",
       "      <td>54</td>\n",
       "      <td>184</td>\n",
       "      <td>5</td>\n",
       "      <td>673</td>\n",
       "      <td>2</td>\n",
       "      <td>0</td>\n",
       "      <td>0</td>\n",
       "    </tr>\n",
       "  </tbody>\n",
       "</table>\n",
       "</div>"
      ],
      "text/plain": [
       "   age  balance  day  duration  campaign  pdays  previous\n",
       "0   59     2343    5      1042         1      0         0\n",
       "1   56       45    5      1467         1      0         0\n",
       "2   41     1270    5      1389         1      0         0\n",
       "3   55     2476    5       579         1      0         0\n",
       "4   54      184    5       673         2      0         0"
      ]
     },
     "execution_count": 9,
     "metadata": {},
     "output_type": "execute_result"
    }
   ],
   "source": [
    "df_con.head()"
   ]
  },
  {
   "cell_type": "markdown",
   "metadata": {},
   "source": [
    "> Now we continue to do Feature Engineering, but before we do anything further, let's double check for normality and outliers. "
   ]
  },
  {
   "cell_type": "markdown",
   "metadata": {},
   "source": [
    "### FEATURE ENGINEERING"
   ]
  },
  {
   "cell_type": "markdown",
   "metadata": {},
   "source": [
    "#### NORMALITY AND OUTLIER CHECK"
   ]
  },
  {
   "cell_type": "code",
   "execution_count": 10,
   "metadata": {},
   "outputs": [],
   "source": [
    "def normal(df):\n",
    "    \n",
    "    stat = anderson(df)[0]\n",
    "    cval = anderson(df)[1][2]\n",
    "    if stat < cval :\n",
    "        print('NORMALLY Distributed for ' + i + ' Variable')\n",
    "    else :\n",
    "        print('NOT NORMALLY Distributed for ' + i + ' Variable')"
   ]
  },
  {
   "cell_type": "code",
   "execution_count": 11,
   "metadata": {},
   "outputs": [
    {
     "name": "stdout",
     "output_type": "stream",
     "text": [
      "NOT NORMALLY Distributed for age Variable\n",
      "NOT NORMALLY Distributed for balance Variable\n",
      "NOT NORMALLY Distributed for day Variable\n",
      "NOT NORMALLY Distributed for duration Variable\n",
      "NOT NORMALLY Distributed for campaign Variable\n",
      "NOT NORMALLY Distributed for pdays Variable\n",
      "NOT NORMALLY Distributed for previous Variable\n"
     ]
    }
   ],
   "source": [
    "for i in df_con.columns :\n",
    "    normal(df_con[i])"
   ]
  },
  {
   "cell_type": "code",
   "execution_count": 12,
   "metadata": {},
   "outputs": [
    {
     "data": {
      "text/plain": [
       "<Figure size 864x360 with 0 Axes>"
      ]
     },
     "metadata": {},
     "output_type": "display_data"
    },
    {
     "data": {
      "image/png": "[encoded data removed]",
      "text/plain": [
       "<Figure size 432x288 with 1 Axes>"
      ]
     },
     "metadata": {
      "needs_background": "light"
     },
     "output_type": "display_data"
    },
    {
     "data": {
      "text/plain": [
       "<Figure size 864x360 with 0 Axes>"
      ]
     },
     "metadata": {},
     "output_type": "display_data"
    },
    {
     "data": {
      "image/png": "[encoded data removed]",
      "text/plain": [
       "<Figure size 432x288 with 1 Axes>"
      ]
     },
     "metadata": {
      "needs_background": "light"
     },
     "output_type": "display_data"
    },
    {
     "data": {
      "text/plain": [
       "<Figure size 864x360 with 0 Axes>"
      ]
     },
     "metadata": {},
     "output_type": "display_data"
    },
    {
     "data": {
      "image/png": "[encoded data removed]",
      "text/plain": [
       "<Figure size 432x288 with 1 Axes>"
      ]
     },
     "metadata": {
      "needs_background": "light"
     },
     "output_type": "display_data"
    },
    {
     "data": {
      "text/plain": [
       "<Figure size 864x360 with 0 Axes>"
      ]
     },
     "metadata": {},
     "output_type": "display_data"
    },
    {
     "data": {
      "image/png": "[encoded data removed]",
      "text/plain": [
       "<Figure size 432x288 with 1 Axes>"
      ]
     },
     "metadata": {
      "needs_background": "light"
     },
     "output_type": "display_data"
    },
    {
     "data": {
      "text/plain": [
       "<Figure size 864x360 with 0 Axes>"
      ]
     },
     "metadata": {},
     "output_type": "display_data"
    },
    {
     "data": {
      "image/png": "[encoded data removed]",
      "text/plain": [
       "<Figure size 432x288 with 1 Axes>"
      ]
     },
     "metadata": {
      "needs_background": "light"
     },
     "output_type": "display_data"
    },
    {
     "data": {
      "text/plain": [
       "<Figure size 864x360 with 0 Axes>"
      ]
     },
     "metadata": {},
     "output_type": "display_data"
    },
    {
     "data": {
      "image/png": "[encoded data removed]",
      "text/plain": [
       "<Figure size 432x288 with 1 Axes>"
      ]
     },
     "metadata": {
      "needs_background": "light"
     },
     "output_type": "display_data"
    },
    {
     "data": {
      "text/plain": [
       "<Figure size 864x360 with 0 Axes>"
      ]
     },
     "metadata": {},
     "output_type": "display_data"
    },
    {
     "data": {
      "image/png": "[encoded data removed]",
      "text/plain": [
       "<Figure size 432x288 with 1 Axes>"
      ]
     },
     "metadata": {
      "needs_background": "light"
     },
     "output_type": "display_data"
    }
   ],
   "source": [
    "for col in df_con.columns :\n",
    "    \n",
    "    plt.figure(figsize = (12,5))\n",
    "    \n",
    "    sm.qqplot(df[col], line = '45')\n",
    "    plt.xlabel(col, fontsize = 12)\n",
    "    plt.title('QQ PLOT of ' + col, fontsize = 22)\n",
    "    \n",
    "    plt.tight_layout()\n",
    "    plt.show()"
   ]
  },
  {
   "cell_type": "markdown",
   "metadata": {},
   "source": [
    "> All of the continous features are not normally distributed."
   ]
  },
  {
   "cell_type": "code",
   "execution_count": 13,
   "metadata": {},
   "outputs": [
    {
     "data": {
      "image/png": "[encoded data removed]",
      "text/plain": [
       "<Figure size 1080x648 with 1 Axes>"
      ]
     },
     "metadata": {
      "needs_background": "light"
     },
     "output_type": "display_data"
    }
   ],
   "source": [
    "plt.figure(figsize = (15,9))\n",
    "sns.boxplot(data=df_con)\n",
    "plt.show()"
   ]
  },
  {
   "cell_type": "markdown",
   "metadata": {},
   "source": [
    "> From plot above we can see that the data are rather not on the same scale, also this data contained many outliers. I'll show the indicated outliers below."
   ]
  },
  {
   "cell_type": "code",
   "execution_count": 14,
   "metadata": {},
   "outputs": [],
   "source": [
    "def outliers(df):\n",
    "    Q2 = np.quantile(df, 0.50)\n",
    "    Q1 = np.quantile(df, 0.25)\n",
    "    Q3 = np.quantile(df, 0.75)\n",
    "    \n",
    "    IQR   = (Q3 - Q1) * 1.5\n",
    "    lower =  Q1 - IQR\n",
    "    upper =  Q3 + IQR \n",
    "\n",
    "    outlier = ''\n",
    "    for i in range(len(df)):\n",
    "        if df[i] > upper :\n",
    "            outlier = outlier + str(df[i]) + ', '\n",
    "        if df[i] < lower :\n",
    "            outlier = outlier + str(df[i]) + ', '\n",
    "    return len(outlier)"
   ]
  },
  {
   "cell_type": "code",
   "execution_count": 15,
   "metadata": {},
   "outputs": [
    {
     "name": "stdout",
     "output_type": "stream",
     "text": [
      "There are 684 Outliers on age Features\n",
      "There are 6562 Outliers on balance Features\n",
      "There are 0 Outliers on day Features\n",
      "There are 3816 Outliers on duration Features\n",
      "There are 2065 Outliers on campaign Features\n",
      "There are 13108 Outliers on pdays Features\n",
      "There are 3900 Outliers on previous Features\n"
     ]
    }
   ],
   "source": [
    "for i in df_con.columns:\n",
    "    outlier = outliers(df_con[i])\n",
    "    print(f'There are {outlier} Outliers on {i} Features')"
   ]
  },
  {
   "cell_type": "markdown",
   "metadata": {},
   "source": [
    "#### LABELLING"
   ]
  },
  {
   "cell_type": "markdown",
   "metadata": {},
   "source": [
    "> We will label the data by splitting the categorical features into two categories - Nominal data and Ordinal data."
   ]
  },
  {
   "cell_type": "code",
   "execution_count": 16,
   "metadata": {},
   "outputs": [],
   "source": [
    "df_ready = df.copy()"
   ]
  },
  {
   "cell_type": "code",
   "execution_count": 17,
   "metadata": {},
   "outputs": [],
   "source": [
    "df_ready_cat = df_ready.select_dtypes(['object'])\n",
    "df_ready_con = df_ready.select_dtypes(['float64', 'int64'])"
   ]
  },
  {
   "cell_type": "code",
   "execution_count": 18,
   "metadata": {},
   "outputs": [],
   "source": [
    "# ordinal datatype\n",
    "\n",
    "df_ord = df_ready_cat[['education', 'deposit', 'poutcome']]\n",
    "\n",
    "# nominal datatype\n",
    "\n",
    "df_nom = df_ready_cat.drop(df_ord, axis = 'columns')"
   ]
  },
  {
   "cell_type": "code",
   "execution_count": 19,
   "metadata": {},
   "outputs": [
    {
     "data": {
      "text/html": [
       "<div>\n",
       "<style scoped>\n",
       "    .dataframe tbody tr th:only-of-type {\n",
       "        vertical-align: middle;\n",
       "    }\n",
       "\n",
       "    .dataframe tbody tr th {\n",
       "        vertical-align: top;\n",
       "    }\n",
       "\n",
       "    .dataframe thead th {\n",
       "        text-align: right;\n",
       "    }\n",
       "</style>\n",
       "<table border=\"1\" class=\"dataframe\">\n",
       "  <thead>\n",
       "    <tr style=\"text-align: right;\">\n",
       "      <th></th>\n",
       "      <th>education</th>\n",
       "      <th>deposit</th>\n",
       "      <th>poutcome</th>\n",
       "    </tr>\n",
       "  </thead>\n",
       "  <tbody>\n",
       "    <tr>\n",
       "      <th>0</th>\n",
       "      <td>secondary</td>\n",
       "      <td>yes</td>\n",
       "      <td>unknown</td>\n",
       "    </tr>\n",
       "    <tr>\n",
       "      <th>1</th>\n",
       "      <td>secondary</td>\n",
       "      <td>yes</td>\n",
       "      <td>unknown</td>\n",
       "    </tr>\n",
       "    <tr>\n",
       "      <th>2</th>\n",
       "      <td>secondary</td>\n",
       "      <td>yes</td>\n",
       "      <td>unknown</td>\n",
       "    </tr>\n",
       "    <tr>\n",
       "      <th>3</th>\n",
       "      <td>secondary</td>\n",
       "      <td>yes</td>\n",
       "      <td>unknown</td>\n",
       "    </tr>\n",
       "    <tr>\n",
       "      <th>4</th>\n",
       "      <td>tertiary</td>\n",
       "      <td>yes</td>\n",
       "      <td>unknown</td>\n",
       "    </tr>\n",
       "  </tbody>\n",
       "</table>\n",
       "</div>"
      ],
      "text/plain": [
       "   education deposit poutcome\n",
       "0  secondary     yes  unknown\n",
       "1  secondary     yes  unknown\n",
       "2  secondary     yes  unknown\n",
       "3  secondary     yes  unknown\n",
       "4   tertiary     yes  unknown"
      ]
     },
     "execution_count": 19,
     "metadata": {},
     "output_type": "execute_result"
    }
   ],
   "source": [
    "df_ord.head()"
   ]
  },
  {
   "cell_type": "code",
   "execution_count": 20,
   "metadata": {},
   "outputs": [
    {
     "data": {
      "text/html": [
       "<div>\n",
       "<style scoped>\n",
       "    .dataframe tbody tr th:only-of-type {\n",
       "        vertical-align: middle;\n",
       "    }\n",
       "\n",
       "    .dataframe tbody tr th {\n",
       "        vertical-align: top;\n",
       "    }\n",
       "\n",
       "    .dataframe thead th {\n",
       "        text-align: right;\n",
       "    }\n",
       "</style>\n",
       "<table border=\"1\" class=\"dataframe\">\n",
       "  <thead>\n",
       "    <tr style=\"text-align: right;\">\n",
       "      <th></th>\n",
       "      <th>job</th>\n",
       "      <th>marital</th>\n",
       "      <th>default</th>\n",
       "      <th>housing</th>\n",
       "      <th>loan</th>\n",
       "      <th>contact</th>\n",
       "      <th>month</th>\n",
       "    </tr>\n",
       "  </thead>\n",
       "  <tbody>\n",
       "    <tr>\n",
       "      <th>0</th>\n",
       "      <td>admin.</td>\n",
       "      <td>married</td>\n",
       "      <td>no</td>\n",
       "      <td>yes</td>\n",
       "      <td>no</td>\n",
       "      <td>unknown</td>\n",
       "      <td>may</td>\n",
       "    </tr>\n",
       "    <tr>\n",
       "      <th>1</th>\n",
       "      <td>admin.</td>\n",
       "      <td>married</td>\n",
       "      <td>no</td>\n",
       "      <td>no</td>\n",
       "      <td>no</td>\n",
       "      <td>unknown</td>\n",
       "      <td>may</td>\n",
       "    </tr>\n",
       "    <tr>\n",
       "      <th>2</th>\n",
       "      <td>technician</td>\n",
       "      <td>married</td>\n",
       "      <td>no</td>\n",
       "      <td>yes</td>\n",
       "      <td>no</td>\n",
       "      <td>unknown</td>\n",
       "      <td>may</td>\n",
       "    </tr>\n",
       "    <tr>\n",
       "      <th>3</th>\n",
       "      <td>services</td>\n",
       "      <td>married</td>\n",
       "      <td>no</td>\n",
       "      <td>yes</td>\n",
       "      <td>no</td>\n",
       "      <td>unknown</td>\n",
       "      <td>may</td>\n",
       "    </tr>\n",
       "    <tr>\n",
       "      <th>4</th>\n",
       "      <td>admin.</td>\n",
       "      <td>married</td>\n",
       "      <td>no</td>\n",
       "      <td>no</td>\n",
       "      <td>no</td>\n",
       "      <td>unknown</td>\n",
       "      <td>may</td>\n",
       "    </tr>\n",
       "  </tbody>\n",
       "</table>\n",
       "</div>"
      ],
      "text/plain": [
       "          job  marital default housing loan  contact month\n",
       "0      admin.  married      no     yes   no  unknown   may\n",
       "1      admin.  married      no      no   no  unknown   may\n",
       "2  technician  married      no     yes   no  unknown   may\n",
       "3    services  married      no     yes   no  unknown   may\n",
       "4      admin.  married      no      no   no  unknown   may"
      ]
     },
     "execution_count": 20,
     "metadata": {},
     "output_type": "execute_result"
    }
   ],
   "source": [
    "df_nom.head()"
   ]
  },
  {
   "cell_type": "markdown",
   "metadata": {},
   "source": [
    "> We will use `LabelEncoder()` on the ordinal, and `pd.get_dummies()` on numerical data."
   ]
  },
  {
   "cell_type": "code",
   "execution_count": 21,
   "metadata": {},
   "outputs": [],
   "source": [
    "for i in df_ord.columns :\n",
    "    encoder = LabelEncoder()\n",
    "    df_ord[i] = encoder.fit_transform(df_ord[i])"
   ]
  },
  {
   "cell_type": "code",
   "execution_count": 22,
   "metadata": {
    "scrolled": true
   },
   "outputs": [
    {
     "data": {
      "text/html": [
       "<div>\n",
       "<style scoped>\n",
       "    .dataframe tbody tr th:only-of-type {\n",
       "        vertical-align: middle;\n",
       "    }\n",
       "\n",
       "    .dataframe tbody tr th {\n",
       "        vertical-align: top;\n",
       "    }\n",
       "\n",
       "    .dataframe thead th {\n",
       "        text-align: right;\n",
       "    }\n",
       "</style>\n",
       "<table border=\"1\" class=\"dataframe\">\n",
       "  <thead>\n",
       "    <tr style=\"text-align: right;\">\n",
       "      <th></th>\n",
       "      <th>education</th>\n",
       "      <th>deposit</th>\n",
       "      <th>poutcome</th>\n",
       "    </tr>\n",
       "  </thead>\n",
       "  <tbody>\n",
       "    <tr>\n",
       "      <th>0</th>\n",
       "      <td>1</td>\n",
       "      <td>1</td>\n",
       "      <td>3</td>\n",
       "    </tr>\n",
       "    <tr>\n",
       "      <th>1</th>\n",
       "      <td>1</td>\n",
       "      <td>1</td>\n",
       "      <td>3</td>\n",
       "    </tr>\n",
       "    <tr>\n",
       "      <th>2</th>\n",
       "      <td>1</td>\n",
       "      <td>1</td>\n",
       "      <td>3</td>\n",
       "    </tr>\n",
       "    <tr>\n",
       "      <th>3</th>\n",
       "      <td>1</td>\n",
       "      <td>1</td>\n",
       "      <td>3</td>\n",
       "    </tr>\n",
       "    <tr>\n",
       "      <th>4</th>\n",
       "      <td>2</td>\n",
       "      <td>1</td>\n",
       "      <td>3</td>\n",
       "    </tr>\n",
       "  </tbody>\n",
       "</table>\n",
       "</div>"
      ],
      "text/plain": [
       "   education  deposit  poutcome\n",
       "0          1        1         3\n",
       "1          1        1         3\n",
       "2          1        1         3\n",
       "3          1        1         3\n",
       "4          2        1         3"
      ]
     },
     "execution_count": 22,
     "metadata": {},
     "output_type": "execute_result"
    }
   ],
   "source": [
    "df_ord.head()"
   ]
  },
  {
   "cell_type": "code",
   "execution_count": 23,
   "metadata": {},
   "outputs": [],
   "source": [
    "for i in df_nom.columns :\n",
    "    df_nom = pd.get_dummies(df_nom, drop_first = True)"
   ]
  },
  {
   "cell_type": "code",
   "execution_count": 24,
   "metadata": {},
   "outputs": [
    {
     "data": {
      "text/html": [
       "<div>\n",
       "<style scoped>\n",
       "    .dataframe tbody tr th:only-of-type {\n",
       "        vertical-align: middle;\n",
       "    }\n",
       "\n",
       "    .dataframe tbody tr th {\n",
       "        vertical-align: top;\n",
       "    }\n",
       "\n",
       "    .dataframe thead th {\n",
       "        text-align: right;\n",
       "    }\n",
       "</style>\n",
       "<table border=\"1\" class=\"dataframe\">\n",
       "  <thead>\n",
       "    <tr style=\"text-align: right;\">\n",
       "      <th></th>\n",
       "      <th>job_blue-collar</th>\n",
       "      <th>job_entrepreneur</th>\n",
       "      <th>job_housemaid</th>\n",
       "      <th>job_management</th>\n",
       "      <th>job_retired</th>\n",
       "      <th>job_self-employed</th>\n",
       "      <th>job_services</th>\n",
       "      <th>job_student</th>\n",
       "      <th>job_technician</th>\n",
       "      <th>job_unemployed</th>\n",
       "      <th>...</th>\n",
       "      <th>month_dec</th>\n",
       "      <th>month_feb</th>\n",
       "      <th>month_jan</th>\n",
       "      <th>month_jul</th>\n",
       "      <th>month_jun</th>\n",
       "      <th>month_mar</th>\n",
       "      <th>month_may</th>\n",
       "      <th>month_nov</th>\n",
       "      <th>month_oct</th>\n",
       "      <th>month_sep</th>\n",
       "    </tr>\n",
       "  </thead>\n",
       "  <tbody>\n",
       "    <tr>\n",
       "      <th>0</th>\n",
       "      <td>0</td>\n",
       "      <td>0</td>\n",
       "      <td>0</td>\n",
       "      <td>0</td>\n",
       "      <td>0</td>\n",
       "      <td>0</td>\n",
       "      <td>0</td>\n",
       "      <td>0</td>\n",
       "      <td>0</td>\n",
       "      <td>0</td>\n",
       "      <td>...</td>\n",
       "      <td>0</td>\n",
       "      <td>0</td>\n",
       "      <td>0</td>\n",
       "      <td>0</td>\n",
       "      <td>0</td>\n",
       "      <td>0</td>\n",
       "      <td>1</td>\n",
       "      <td>0</td>\n",
       "      <td>0</td>\n",
       "      <td>0</td>\n",
       "    </tr>\n",
       "    <tr>\n",
       "      <th>1</th>\n",
       "      <td>0</td>\n",
       "      <td>0</td>\n",
       "      <td>0</td>\n",
       "      <td>0</td>\n",
       "      <td>0</td>\n",
       "      <td>0</td>\n",
       "      <td>0</td>\n",
       "      <td>0</td>\n",
       "      <td>0</td>\n",
       "      <td>0</td>\n",
       "      <td>...</td>\n",
       "      <td>0</td>\n",
       "      <td>0</td>\n",
       "      <td>0</td>\n",
       "      <td>0</td>\n",
       "      <td>0</td>\n",
       "      <td>0</td>\n",
       "      <td>1</td>\n",
       "      <td>0</td>\n",
       "      <td>0</td>\n",
       "      <td>0</td>\n",
       "    </tr>\n",
       "    <tr>\n",
       "      <th>2</th>\n",
       "      <td>0</td>\n",
       "      <td>0</td>\n",
       "      <td>0</td>\n",
       "      <td>0</td>\n",
       "      <td>0</td>\n",
       "      <td>0</td>\n",
       "      <td>0</td>\n",
       "      <td>0</td>\n",
       "      <td>1</td>\n",
       "      <td>0</td>\n",
       "      <td>...</td>\n",
       "      <td>0</td>\n",
       "      <td>0</td>\n",
       "      <td>0</td>\n",
       "      <td>0</td>\n",
       "      <td>0</td>\n",
       "      <td>0</td>\n",
       "      <td>1</td>\n",
       "      <td>0</td>\n",
       "      <td>0</td>\n",
       "      <td>0</td>\n",
       "    </tr>\n",
       "    <tr>\n",
       "      <th>3</th>\n",
       "      <td>0</td>\n",
       "      <td>0</td>\n",
       "      <td>0</td>\n",
       "      <td>0</td>\n",
       "      <td>0</td>\n",
       "      <td>0</td>\n",
       "      <td>1</td>\n",
       "      <td>0</td>\n",
       "      <td>0</td>\n",
       "      <td>0</td>\n",
       "      <td>...</td>\n",
       "      <td>0</td>\n",
       "      <td>0</td>\n",
       "      <td>0</td>\n",
       "      <td>0</td>\n",
       "      <td>0</td>\n",
       "      <td>0</td>\n",
       "      <td>1</td>\n",
       "      <td>0</td>\n",
       "      <td>0</td>\n",
       "      <td>0</td>\n",
       "    </tr>\n",
       "    <tr>\n",
       "      <th>4</th>\n",
       "      <td>0</td>\n",
       "      <td>0</td>\n",
       "      <td>0</td>\n",
       "      <td>0</td>\n",
       "      <td>0</td>\n",
       "      <td>0</td>\n",
       "      <td>0</td>\n",
       "      <td>0</td>\n",
       "      <td>0</td>\n",
       "      <td>0</td>\n",
       "      <td>...</td>\n",
       "      <td>0</td>\n",
       "      <td>0</td>\n",
       "      <td>0</td>\n",
       "      <td>0</td>\n",
       "      <td>0</td>\n",
       "      <td>0</td>\n",
       "      <td>1</td>\n",
       "      <td>0</td>\n",
       "      <td>0</td>\n",
       "      <td>0</td>\n",
       "    </tr>\n",
       "  </tbody>\n",
       "</table>\n",
       "<p>5 rows × 29 columns</p>\n",
       "</div>"
      ],
      "text/plain": [
       "   job_blue-collar  job_entrepreneur  job_housemaid  job_management  \\\n",
       "0                0                 0              0               0   \n",
       "1                0                 0              0               0   \n",
       "2                0                 0              0               0   \n",
       "3                0                 0              0               0   \n",
       "4                0                 0              0               0   \n",
       "\n",
       "   job_retired  job_self-employed  job_services  job_student  job_technician  \\\n",
       "0            0                  0             0            0               0   \n",
       "1            0                  0             0            0               0   \n",
       "2            0                  0             0            0               1   \n",
       "3            0                  0             1            0               0   \n",
       "4            0                  0             0            0               0   \n",
       "\n",
       "   job_unemployed  ...  month_dec  month_feb  month_jan  month_jul  month_jun  \\\n",
       "0               0  ...          0          0          0          0          0   \n",
       "1               0  ...          0          0          0          0          0   \n",
       "2               0  ...          0          0          0          0          0   \n",
       "3               0  ...          0          0          0          0          0   \n",
       "4               0  ...          0          0          0          0          0   \n",
       "\n",
       "   month_mar  month_may  month_nov  month_oct  month_sep  \n",
       "0          0          1          0          0          0  \n",
       "1          0          1          0          0          0  \n",
       "2          0          1          0          0          0  \n",
       "3          0          1          0          0          0  \n",
       "4          0          1          0          0          0  \n",
       "\n",
       "[5 rows x 29 columns]"
      ]
     },
     "execution_count": 24,
     "metadata": {},
     "output_type": "execute_result"
    }
   ],
   "source": [
    "df_nom.head()"
   ]
  },
  {
   "cell_type": "code",
   "execution_count": 25,
   "metadata": {},
   "outputs": [],
   "source": [
    "df_ready_cat = pd.concat([df_ord, df_nom], axis = 1)"
   ]
  },
  {
   "cell_type": "markdown",
   "metadata": {},
   "source": [
    "> Afterwards, we concat the data to new dataframe and start doing feature selection."
   ]
  },
  {
   "cell_type": "code",
   "execution_count": 26,
   "metadata": {},
   "outputs": [],
   "source": [
    "df_ready = pd.concat([df_ready_con, df_ready_cat], axis = 1)"
   ]
  },
  {
   "cell_type": "code",
   "execution_count": 27,
   "metadata": {},
   "outputs": [
    {
     "data": {
      "text/html": [
       "<div>\n",
       "<style scoped>\n",
       "    .dataframe tbody tr th:only-of-type {\n",
       "        vertical-align: middle;\n",
       "    }\n",
       "\n",
       "    .dataframe tbody tr th {\n",
       "        vertical-align: top;\n",
       "    }\n",
       "\n",
       "    .dataframe thead th {\n",
       "        text-align: right;\n",
       "    }\n",
       "</style>\n",
       "<table border=\"1\" class=\"dataframe\">\n",
       "  <thead>\n",
       "    <tr style=\"text-align: right;\">\n",
       "      <th></th>\n",
       "      <th>age</th>\n",
       "      <th>balance</th>\n",
       "      <th>day</th>\n",
       "      <th>duration</th>\n",
       "      <th>campaign</th>\n",
       "      <th>pdays</th>\n",
       "      <th>previous</th>\n",
       "      <th>education</th>\n",
       "      <th>deposit</th>\n",
       "      <th>poutcome</th>\n",
       "      <th>...</th>\n",
       "      <th>month_dec</th>\n",
       "      <th>month_feb</th>\n",
       "      <th>month_jan</th>\n",
       "      <th>month_jul</th>\n",
       "      <th>month_jun</th>\n",
       "      <th>month_mar</th>\n",
       "      <th>month_may</th>\n",
       "      <th>month_nov</th>\n",
       "      <th>month_oct</th>\n",
       "      <th>month_sep</th>\n",
       "    </tr>\n",
       "  </thead>\n",
       "  <tbody>\n",
       "    <tr>\n",
       "      <th>0</th>\n",
       "      <td>59</td>\n",
       "      <td>2343</td>\n",
       "      <td>5</td>\n",
       "      <td>1042</td>\n",
       "      <td>1</td>\n",
       "      <td>0</td>\n",
       "      <td>0</td>\n",
       "      <td>1</td>\n",
       "      <td>1</td>\n",
       "      <td>3</td>\n",
       "      <td>...</td>\n",
       "      <td>0</td>\n",
       "      <td>0</td>\n",
       "      <td>0</td>\n",
       "      <td>0</td>\n",
       "      <td>0</td>\n",
       "      <td>0</td>\n",
       "      <td>1</td>\n",
       "      <td>0</td>\n",
       "      <td>0</td>\n",
       "      <td>0</td>\n",
       "    </tr>\n",
       "    <tr>\n",
       "      <th>1</th>\n",
       "      <td>56</td>\n",
       "      <td>45</td>\n",
       "      <td>5</td>\n",
       "      <td>1467</td>\n",
       "      <td>1</td>\n",
       "      <td>0</td>\n",
       "      <td>0</td>\n",
       "      <td>1</td>\n",
       "      <td>1</td>\n",
       "      <td>3</td>\n",
       "      <td>...</td>\n",
       "      <td>0</td>\n",
       "      <td>0</td>\n",
       "      <td>0</td>\n",
       "      <td>0</td>\n",
       "      <td>0</td>\n",
       "      <td>0</td>\n",
       "      <td>1</td>\n",
       "      <td>0</td>\n",
       "      <td>0</td>\n",
       "      <td>0</td>\n",
       "    </tr>\n",
       "    <tr>\n",
       "      <th>2</th>\n",
       "      <td>41</td>\n",
       "      <td>1270</td>\n",
       "      <td>5</td>\n",
       "      <td>1389</td>\n",
       "      <td>1</td>\n",
       "      <td>0</td>\n",
       "      <td>0</td>\n",
       "      <td>1</td>\n",
       "      <td>1</td>\n",
       "      <td>3</td>\n",
       "      <td>...</td>\n",
       "      <td>0</td>\n",
       "      <td>0</td>\n",
       "      <td>0</td>\n",
       "      <td>0</td>\n",
       "      <td>0</td>\n",
       "      <td>0</td>\n",
       "      <td>1</td>\n",
       "      <td>0</td>\n",
       "      <td>0</td>\n",
       "      <td>0</td>\n",
       "    </tr>\n",
       "    <tr>\n",
       "      <th>3</th>\n",
       "      <td>55</td>\n",
       "      <td>2476</td>\n",
       "      <td>5</td>\n",
       "      <td>579</td>\n",
       "      <td>1</td>\n",
       "      <td>0</td>\n",
       "      <td>0</td>\n",
       "      <td>1</td>\n",
       "      <td>1</td>\n",
       "      <td>3</td>\n",
       "      <td>...</td>\n",
       "      <td>0</td>\n",
       "      <td>0</td>\n",
       "      <td>0</td>\n",
       "      <td>0</td>\n",
       "      <td>0</td>\n",
       "      <td>0</td>\n",
       "      <td>1</td>\n",
       "      <td>0</td>\n",
       "      <td>0</td>\n",
       "      <td>0</td>\n",
       "    </tr>\n",
       "    <tr>\n",
       "      <th>4</th>\n",
       "      <td>54</td>\n",
       "      <td>184</td>\n",
       "      <td>5</td>\n",
       "      <td>673</td>\n",
       "      <td>2</td>\n",
       "      <td>0</td>\n",
       "      <td>0</td>\n",
       "      <td>2</td>\n",
       "      <td>1</td>\n",
       "      <td>3</td>\n",
       "      <td>...</td>\n",
       "      <td>0</td>\n",
       "      <td>0</td>\n",
       "      <td>0</td>\n",
       "      <td>0</td>\n",
       "      <td>0</td>\n",
       "      <td>0</td>\n",
       "      <td>1</td>\n",
       "      <td>0</td>\n",
       "      <td>0</td>\n",
       "      <td>0</td>\n",
       "    </tr>\n",
       "  </tbody>\n",
       "</table>\n",
       "<p>5 rows × 39 columns</p>\n",
       "</div>"
      ],
      "text/plain": [
       "   age  balance  day  duration  campaign  pdays  previous  education  deposit  \\\n",
       "0   59     2343    5      1042         1      0         0          1        1   \n",
       "1   56       45    5      1467         1      0         0          1        1   \n",
       "2   41     1270    5      1389         1      0         0          1        1   \n",
       "3   55     2476    5       579         1      0         0          1        1   \n",
       "4   54      184    5       673         2      0         0          2        1   \n",
       "\n",
       "   poutcome  ...  month_dec  month_feb  month_jan  month_jul  month_jun  \\\n",
       "0         3  ...          0          0          0          0          0   \n",
       "1         3  ...          0          0          0          0          0   \n",
       "2         3  ...          0          0          0          0          0   \n",
       "3         3  ...          0          0          0          0          0   \n",
       "4         3  ...          0          0          0          0          0   \n",
       "\n",
       "   month_mar  month_may  month_nov  month_oct  month_sep  \n",
       "0          0          1          0          0          0  \n",
       "1          0          1          0          0          0  \n",
       "2          0          1          0          0          0  \n",
       "3          0          1          0          0          0  \n",
       "4          0          1          0          0          0  \n",
       "\n",
       "[5 rows x 39 columns]"
      ]
     },
     "execution_count": 27,
     "metadata": {},
     "output_type": "execute_result"
    }
   ],
   "source": [
    "df_ready.head()"
   ]
  },
  {
   "cell_type": "markdown",
   "metadata": {},
   "source": [
    "#### SPLIT DATA FOR FEATURE IMPORTANCE"
   ]
  },
  {
   "cell_type": "code",
   "execution_count": 28,
   "metadata": {},
   "outputs": [],
   "source": [
    "X = df_ready.drop(['deposit'], axis = 1)\n",
    "y = df_ready['deposit']"
   ]
  },
  {
   "cell_type": "markdown",
   "metadata": {},
   "source": [
    "#### FEATURE IMPORTANCE - CORRELATION"
   ]
  },
  {
   "cell_type": "code",
   "execution_count": 29,
   "metadata": {},
   "outputs": [],
   "source": [
    "#Correlation measurement between discrete and continous features\n",
    "\n",
    "def correlation_ratio(categories, measurement):\n",
    "    fcat,_ = pd.factorize(categories)\n",
    "    cat_num = np.max(fcat)+1\n",
    "    y_avg_array = np.zeros(cat_num)\n",
    "    n_array = np.zeros(cat_num)\n",
    "    for i in range(0, cat_num):\n",
    "        cat_measures = measurement[np.argwhere(fcat == i).flatten()]\n",
    "        n_array[i] = len(cat_measures)\n",
    "        y_avg_array[i] = np.average(cat_measures)\n",
    "    y_total_avg = np.sum(np.multiply(y_avg_array,n_array))/np.sum(n_array)\n",
    "    numerator = np.sum(np.multiply(n_array,np.power(np.subtract(y_avg_array, y_total_avg),2)))\n",
    "    denominator = np.sum(np.power(np.subtract(measurement,y_total_avg),2))\n",
    "    if numerator == 0:\n",
    "        eta = 0.0\n",
    "    else:\n",
    "        eta = np.sqrt(numerator/denominator)\n",
    "    return eta\n",
    "\n",
    "#Correlation measurement between categorical features\n",
    "\n",
    "def cramers_v(x, y):\n",
    "    confusion_matrix = pd.crosstab(x,y)\n",
    "    chi2 = ss.chi2_contingency(confusion_matrix)[0]\n",
    "    n = confusion_matrix.sum().sum()\n",
    "    phi2 = chi2/n\n",
    "    r,k = confusion_matrix.shape\n",
    "    phi2corr = max(0, phi2-((k-1)*(r-1))/(n-1))\n",
    "    rcorr = r - ((r-1)**2)/(n-1)\n",
    "    kcorr = k - ((k-1)**2)/(n-1)\n",
    "    return np.sqrt(phi2corr/min((kcorr-1),(rcorr-1)))"
   ]
  },
  {
   "cell_type": "code",
   "execution_count": 30,
   "metadata": {},
   "outputs": [
    {
     "data": {
      "text/plain": [
       "<matplotlib.axes._subplots.AxesSubplot at 0x181d2178d88>"
      ]
     },
     "execution_count": 30,
     "metadata": {},
     "output_type": "execute_result"
    },
    {
     "data": {
      "image/png": "[encoded data removed]",
      "text/plain": [
       "<Figure size 1080x720 with 2 Axes>"
      ]
     },
     "metadata": {
      "needs_background": "light"
     },
     "output_type": "display_data"
    }
   ],
   "source": [
    "#Correlation measurement between continous features\n",
    "\n",
    "plt.figure(figsize = (15,10))\n",
    "sns.heatmap(df_con.corr('spearman'), annot = True)"
   ]
  },
  {
   "cell_type": "code",
   "execution_count": 31,
   "metadata": {},
   "outputs": [
    {
     "data": {
      "text/plain": [
       "<matplotlib.axes._subplots.AxesSubplot at 0x181d1fe4408>"
      ]
     },
     "execution_count": 31,
     "metadata": {},
     "output_type": "execute_result"
    },
    {
     "data": {
      "image/png": "[encoded data removed]",
      "text/plain": [
       "<Figure size 1080x720 with 2 Axes>"
      ]
     },
     "metadata": {
      "needs_background": "light"
     },
     "output_type": "display_data"
    }
   ],
   "source": [
    "corr = []\n",
    "\n",
    "for i in df_cat.columns:\n",
    "    mat = []\n",
    "    for j in df_cat.columns:\n",
    "        mat.append(cramers_v(df_cat[i],df_cat[j]))\n",
    "    corr.append(mat)\n",
    "    \n",
    "cramers = pd.DataFrame(corr, index = df_cat.columns, columns = df_cat.columns)\n",
    "plt.figure(figsize = (15,10))\n",
    "sns.heatmap(cramers,annot = True)"
   ]
  },
  {
   "cell_type": "code",
   "execution_count": 32,
   "metadata": {},
   "outputs": [],
   "source": [
    "corr = []\n",
    "\n",
    "for i in df_cat.columns:\n",
    "    mat = []\n",
    "    for j in df_con.columns:\n",
    "        mat.append(correlation_ratio(df[i], df[j]))\n",
    "    corr.append(mat)\n",
    "    \n",
    "cramers = pd.DataFrame(corr, index = df_cat.columns, columns = df_con.columns)"
   ]
  },
  {
   "cell_type": "code",
   "execution_count": 33,
   "metadata": {},
   "outputs": [
    {
     "data": {
      "text/plain": [
       "<matplotlib.axes._subplots.AxesSubplot at 0x181d1d5d748>"
      ]
     },
     "execution_count": 33,
     "metadata": {},
     "output_type": "execute_result"
    },
    {
     "data": {
      "image/png": "[encoded data removed]",
      "text/plain": [
       "<Figure size 1080x720 with 2 Axes>"
      ]
     },
     "metadata": {
      "needs_background": "light"
     },
     "output_type": "display_data"
    }
   ],
   "source": [
    "plt.figure(figsize = (15,10))\n",
    "sns.heatmap(cramers, annot = True)"
   ]
  },
  {
   "cell_type": "markdown",
   "metadata": {},
   "source": [
    "> We can manually get our best feature using correlation method. But it's better if we use *Tree Based Classifier* to extract best feature."
   ]
  },
  {
   "cell_type": "markdown",
   "metadata": {},
   "source": [
    "#### FEATURE IMPORTANCE - TREE BASED CLASSIFIER"
   ]
  },
  {
   "cell_type": "code",
   "execution_count": 34,
   "metadata": {},
   "outputs": [
    {
     "name": "stdout",
     "output_type": "stream",
     "text": [
      "[0.07147813 0.07145267 0.07795421 0.26723214 0.05026604 0.03107529\n",
      " 0.02042985 0.03286223 0.04110301 0.01072741 0.00512207 0.00428972\n",
      " 0.0124568  0.00803349 0.00600692 0.00849688 0.00612491 0.01262802\n",
      " 0.00552151 0.00167452 0.01373062 0.01181817 0.00335904 0.03119412\n",
      " 0.01523199 0.01055112 0.04501535 0.01584215 0.0036721  0.00924742\n",
      " 0.00824913 0.01251016 0.01250098 0.01319165 0.01612139 0.01087546\n",
      " 0.01248956 0.00946376]\n"
     ]
    },
    {
     "data": {
      "image/png": "[encoded data removed]",
      "text/plain": [
       "<Figure size 432x288 with 1 Axes>"
      ]
     },
     "metadata": {
      "needs_background": "light"
     },
     "output_type": "display_data"
    }
   ],
   "source": [
    "# feature importances using Tree Based Classifier\n",
    "\n",
    "model = ExtraTreesClassifier()\n",
    "model.fit(X,y)\n",
    "print(model.feature_importances_)\n",
    "\n",
    "# plot graph of feature importances for better visualization\n",
    "\n",
    "feat_importances = pd.Series(model.feature_importances_, index=X.columns)\n",
    "feat_importances.nlargest(10).plot(kind = 'barh')\n",
    "plt.show()"
   ]
  },
  {
   "cell_type": "markdown",
   "metadata": {},
   "source": [
    "> Alhough it's basically the same, we use this method for better visualization and automation."
   ]
  },
  {
   "cell_type": "code",
   "execution_count": 35,
   "metadata": {},
   "outputs": [],
   "source": [
    "feat_col = feat_importances.nlargest(10).index.tolist()\n",
    "feat_tgt = pd.DataFrame(df_ready['deposit'])"
   ]
  },
  {
   "cell_type": "code",
   "execution_count": 36,
   "metadata": {},
   "outputs": [],
   "source": [
    "df_new = pd.concat([df_ready[feat_col], feat_tgt], axis=1)"
   ]
  },
  {
   "cell_type": "code",
   "execution_count": 37,
   "metadata": {},
   "outputs": [
    {
     "data": {
      "text/html": [
       "<div>\n",
       "<style scoped>\n",
       "    .dataframe tbody tr th:only-of-type {\n",
       "        vertical-align: middle;\n",
       "    }\n",
       "\n",
       "    .dataframe tbody tr th {\n",
       "        vertical-align: top;\n",
       "    }\n",
       "\n",
       "    .dataframe thead th {\n",
       "        text-align: right;\n",
       "    }\n",
       "</style>\n",
       "<table border=\"1\" class=\"dataframe\">\n",
       "  <thead>\n",
       "    <tr style=\"text-align: right;\">\n",
       "      <th></th>\n",
       "      <th>duration</th>\n",
       "      <th>day</th>\n",
       "      <th>age</th>\n",
       "      <th>balance</th>\n",
       "      <th>campaign</th>\n",
       "      <th>contact_unknown</th>\n",
       "      <th>poutcome</th>\n",
       "      <th>education</th>\n",
       "      <th>housing_yes</th>\n",
       "      <th>pdays</th>\n",
       "      <th>deposit</th>\n",
       "    </tr>\n",
       "  </thead>\n",
       "  <tbody>\n",
       "    <tr>\n",
       "      <th>0</th>\n",
       "      <td>1042</td>\n",
       "      <td>5</td>\n",
       "      <td>59</td>\n",
       "      <td>2343</td>\n",
       "      <td>1</td>\n",
       "      <td>1</td>\n",
       "      <td>3</td>\n",
       "      <td>1</td>\n",
       "      <td>1</td>\n",
       "      <td>0</td>\n",
       "      <td>1</td>\n",
       "    </tr>\n",
       "    <tr>\n",
       "      <th>1</th>\n",
       "      <td>1467</td>\n",
       "      <td>5</td>\n",
       "      <td>56</td>\n",
       "      <td>45</td>\n",
       "      <td>1</td>\n",
       "      <td>1</td>\n",
       "      <td>3</td>\n",
       "      <td>1</td>\n",
       "      <td>0</td>\n",
       "      <td>0</td>\n",
       "      <td>1</td>\n",
       "    </tr>\n",
       "    <tr>\n",
       "      <th>2</th>\n",
       "      <td>1389</td>\n",
       "      <td>5</td>\n",
       "      <td>41</td>\n",
       "      <td>1270</td>\n",
       "      <td>1</td>\n",
       "      <td>1</td>\n",
       "      <td>3</td>\n",
       "      <td>1</td>\n",
       "      <td>1</td>\n",
       "      <td>0</td>\n",
       "      <td>1</td>\n",
       "    </tr>\n",
       "    <tr>\n",
       "      <th>3</th>\n",
       "      <td>579</td>\n",
       "      <td>5</td>\n",
       "      <td>55</td>\n",
       "      <td>2476</td>\n",
       "      <td>1</td>\n",
       "      <td>1</td>\n",
       "      <td>3</td>\n",
       "      <td>1</td>\n",
       "      <td>1</td>\n",
       "      <td>0</td>\n",
       "      <td>1</td>\n",
       "    </tr>\n",
       "    <tr>\n",
       "      <th>4</th>\n",
       "      <td>673</td>\n",
       "      <td>5</td>\n",
       "      <td>54</td>\n",
       "      <td>184</td>\n",
       "      <td>2</td>\n",
       "      <td>1</td>\n",
       "      <td>3</td>\n",
       "      <td>2</td>\n",
       "      <td>0</td>\n",
       "      <td>0</td>\n",
       "      <td>1</td>\n",
       "    </tr>\n",
       "  </tbody>\n",
       "</table>\n",
       "</div>"
      ],
      "text/plain": [
       "   duration  day  age  balance  campaign  contact_unknown  poutcome  \\\n",
       "0      1042    5   59     2343         1                1         3   \n",
       "1      1467    5   56       45         1                1         3   \n",
       "2      1389    5   41     1270         1                1         3   \n",
       "3       579    5   55     2476         1                1         3   \n",
       "4       673    5   54      184         2                1         3   \n",
       "\n",
       "   education  housing_yes  pdays  deposit  \n",
       "0          1            1      0        1  \n",
       "1          1            0      0        1  \n",
       "2          1            1      0        1  \n",
       "3          1            1      0        1  \n",
       "4          2            0      0        1  "
      ]
     },
     "execution_count": 37,
     "metadata": {},
     "output_type": "execute_result"
    }
   ],
   "source": [
    "df_new.head()"
   ]
  },
  {
   "cell_type": "code",
   "execution_count": 38,
   "metadata": {},
   "outputs": [],
   "source": [
    "df_new.to_csv('bank_HP.csv', index = False)"
   ]
  },
  {
   "cell_type": "markdown",
   "metadata": {},
   "source": [
    "#### SPLIT DATA FOR MODELLING"
   ]
  },
  {
   "cell_type": "code",
   "execution_count": 39,
   "metadata": {},
   "outputs": [],
   "source": [
    "X = df_new.drop(['deposit'], axis = 1)\n",
    "y = df_new['deposit']"
   ]
  },
  {
   "cell_type": "code",
   "execution_count": 40,
   "metadata": {},
   "outputs": [
    {
     "name": "stdout",
     "output_type": "stream",
     "text": [
      "       duration  day  age  balance  campaign  contact_unknown  poutcome  \\\n",
      "0          1042    5   59     2343         1                1         3   \n",
      "1          1467    5   56       45         1                1         3   \n",
      "2          1389    5   41     1270         1                1         3   \n",
      "3           579    5   55     2476         1                1         3   \n",
      "4           673    5   54      184         2                1         3   \n",
      "...         ...  ...  ...      ...       ...              ...       ...   \n",
      "11157       257   20   33        1         1                0         3   \n",
      "11158        83   16   39      733         4                1         3   \n",
      "11159       156   19   32       29         2                0         3   \n",
      "11160         9    8   43        0         2                0         0   \n",
      "11161       628    9   34        0         1                0         3   \n",
      "\n",
      "       education  housing_yes  pdays  \n",
      "0              1            1      0  \n",
      "1              1            0      0  \n",
      "2              1            1      0  \n",
      "3              1            1      0  \n",
      "4              2            0      0  \n",
      "...          ...          ...    ...  \n",
      "11157          0            1      0  \n",
      "11158          1            0      0  \n",
      "11159          1            0      0  \n",
      "11160          1            0    172  \n",
      "11161          1            0      0  \n",
      "\n",
      "[11162 rows x 10 columns] 0        1\n",
      "1        1\n",
      "2        1\n",
      "3        1\n",
      "4        1\n",
      "        ..\n",
      "11157    0\n",
      "11158    0\n",
      "11159    0\n",
      "11160    0\n",
      "11161    0\n",
      "Name: deposit, Length: 11162, dtype: int32\n"
     ]
    }
   ],
   "source": [
    "print(X, y)"
   ]
  },
  {
   "cell_type": "code",
   "execution_count": 41,
   "metadata": {},
   "outputs": [],
   "source": [
    "#Split train data 80%, test data 20%\n",
    "\n",
    "X_train, X_test, y_train, y_test = train_test_split(X, y, train_size = .8, random_state = 42)"
   ]
  },
  {
   "cell_type": "markdown",
   "metadata": {},
   "source": [
    "### MODEL PREPARATION"
   ]
  },
  {
   "cell_type": "markdown",
   "metadata": {},
   "source": [
    "> After we split the data, we will now continue to prepare the model for prediction."
   ]
  },
  {
   "cell_type": "code",
   "execution_count": 42,
   "metadata": {},
   "outputs": [],
   "source": [
    "# Random Forest Classifier model with default parameter\n",
    "\n",
    "RFC = RandomForestClassifier().fit(X_train, y_train)\n",
    "\n",
    "# Support Vector Machine Classifier with default parameter\n",
    "\n",
    "SVM = SVC(kernel = 'rbf').fit(X_train, y_train)"
   ]
  },
  {
   "cell_type": "code",
   "execution_count": 43,
   "metadata": {},
   "outputs": [],
   "source": [
    "# Random Forest Classifier model with previously tuned hyperparameter\n",
    "\n",
    "hyper_RFC = RandomForestClassifier(n_estimators = 500, min_samples_split = 10, min_samples_leaf = 4, max_depth = 40).fit(X_train, y_train)\n",
    "\n",
    "# Support Vector Machine Classifier model with previously tuned hyperparameter\n",
    "\n",
    "hyper_SVM = SVC(kernel='rbf', gamma = 'scale', C = 10).fit(X_train, y_train)"
   ]
  },
  {
   "cell_type": "markdown",
   "metadata": {},
   "source": [
    "### CROSS VALIDATION"
   ]
  },
  {
   "cell_type": "markdown",
   "metadata": {},
   "source": [
    "> Now we will examine whether there are overfitting or underfitting on this data using Kfold cross validation method."
   ]
  },
  {
   "cell_type": "code",
   "execution_count": 44,
   "metadata": {},
   "outputs": [],
   "source": [
    "# Train data\n",
    "\n",
    "RFC_score_tr = RFC.score(X_train, y_train)\n",
    "SVM_score_tr = SVM.score(X_train, y_train)\n",
    "hyper_RFC_score_tr = hyper_RFC.score(X_train, y_train)\n",
    "hyper_SVM_score_tr = hyper_SVM.score(X_train, y_train)"
   ]
  },
  {
   "cell_type": "code",
   "execution_count": 45,
   "metadata": {},
   "outputs": [],
   "source": [
    "# Test data\n",
    "\n",
    "RFC_score_ts = RFC.score(X_test, y_test)\n",
    "SVM_score_ts = SVM.score(X_test, y_test)\n",
    "hyper_RFC_score_ts = hyper_RFC.score(X_test, y_test)\n",
    "hyper_SVM_score_ts = hyper_SVM.score(X_test, y_test)"
   ]
  },
  {
   "cell_type": "code",
   "execution_count": 46,
   "metadata": {},
   "outputs": [],
   "source": [
    "train_score = pd.DataFrame({'Model' : ['Random Forest', 'Support Vector'], \n",
    "                            'Normal': [RFC_score_tr, SVM_score_tr], \n",
    "                            'Hyper' : [hyper_RFC_score_tr, hyper_SVM_score_tr]})"
   ]
  },
  {
   "cell_type": "code",
   "execution_count": 47,
   "metadata": {},
   "outputs": [],
   "source": [
    "test_score = pd.DataFrame({'Model' : ['Random Forest', 'Support Vector'], \n",
    "                           'Normal': [RFC_score_ts, SVM_score_ts], \n",
    "                           'Hyper' : [hyper_RFC_score_ts, hyper_SVM_score_ts]})"
   ]
  },
  {
   "cell_type": "code",
   "execution_count": 48,
   "metadata": {},
   "outputs": [
    {
     "data": {
      "text/html": [
       "<div>\n",
       "<style scoped>\n",
       "    .dataframe tbody tr th:only-of-type {\n",
       "        vertical-align: middle;\n",
       "    }\n",
       "\n",
       "    .dataframe tbody tr th {\n",
       "        vertical-align: top;\n",
       "    }\n",
       "\n",
       "    .dataframe thead th {\n",
       "        text-align: right;\n",
       "    }\n",
       "</style>\n",
       "<table border=\"1\" class=\"dataframe\">\n",
       "  <thead>\n",
       "    <tr style=\"text-align: right;\">\n",
       "      <th></th>\n",
       "      <th></th>\n",
       "      <th>Model</th>\n",
       "      <th>Normal</th>\n",
       "      <th>Hyper</th>\n",
       "    </tr>\n",
       "  </thead>\n",
       "  <tbody>\n",
       "    <tr>\n",
       "      <th rowspan=\"2\" valign=\"top\">Train Score</th>\n",
       "      <th>0</th>\n",
       "      <td>Random Forest</td>\n",
       "      <td>0.999776</td>\n",
       "      <td>0.902453</td>\n",
       "    </tr>\n",
       "    <tr>\n",
       "      <th>1</th>\n",
       "      <td>Support Vector</td>\n",
       "      <td>0.743420</td>\n",
       "      <td>0.750924</td>\n",
       "    </tr>\n",
       "    <tr>\n",
       "      <th rowspan=\"2\" valign=\"top\">Test Score</th>\n",
       "      <th>0</th>\n",
       "      <td>Random Forest</td>\n",
       "      <td>0.802508</td>\n",
       "      <td>0.805643</td>\n",
       "    </tr>\n",
       "    <tr>\n",
       "      <th>1</th>\n",
       "      <td>Support Vector</td>\n",
       "      <td>0.726825</td>\n",
       "      <td>0.737125</td>\n",
       "    </tr>\n",
       "  </tbody>\n",
       "</table>\n",
       "</div>"
      ],
      "text/plain": [
       "                        Model    Normal     Hyper\n",
       "Train Score 0   Random Forest  0.999776  0.902453\n",
       "            1  Support Vector  0.743420  0.750924\n",
       "Test Score  0   Random Forest  0.802508  0.805643\n",
       "            1  Support Vector  0.726825  0.737125"
      ]
     },
     "execution_count": 48,
     "metadata": {},
     "output_type": "execute_result"
    }
   ],
   "source": [
    "pd.concat([train_score, test_score], keys = ['Train Score', 'Test Score'])"
   ]
  },
  {
   "cell_type": "markdown",
   "metadata": {},
   "source": [
    "> Seeing the differences in the score above, I think there are overfitting on Random Forest default parameter. We'll see it using cross validation."
   ]
  },
  {
   "cell_type": "code",
   "execution_count": 49,
   "metadata": {},
   "outputs": [
    {
     "data": {
      "text/html": [
       "<div>\n",
       "<style scoped>\n",
       "    .dataframe tbody tr th:only-of-type {\n",
       "        vertical-align: middle;\n",
       "    }\n",
       "\n",
       "    .dataframe tbody tr th {\n",
       "        vertical-align: top;\n",
       "    }\n",
       "\n",
       "    .dataframe thead th {\n",
       "        text-align: right;\n",
       "    }\n",
       "</style>\n",
       "<table border=\"1\" class=\"dataframe\">\n",
       "  <thead>\n",
       "    <tr style=\"text-align: right;\">\n",
       "      <th></th>\n",
       "      <th>RFC kfold</th>\n",
       "      <th>SVM kfold</th>\n",
       "    </tr>\n",
       "  </thead>\n",
       "  <tbody>\n",
       "    <tr>\n",
       "      <th>0</th>\n",
       "      <td>0.837626</td>\n",
       "      <td>0.746920</td>\n",
       "    </tr>\n",
       "    <tr>\n",
       "      <th>1</th>\n",
       "      <td>0.812990</td>\n",
       "      <td>0.707727</td>\n",
       "    </tr>\n",
       "    <tr>\n",
       "      <th>2</th>\n",
       "      <td>0.821948</td>\n",
       "      <td>0.748040</td>\n",
       "    </tr>\n",
       "    <tr>\n",
       "      <th>3</th>\n",
       "      <td>0.833147</td>\n",
       "      <td>0.726764</td>\n",
       "    </tr>\n",
       "    <tr>\n",
       "      <th>4</th>\n",
       "      <td>0.828667</td>\n",
       "      <td>0.762598</td>\n",
       "    </tr>\n",
       "    <tr>\n",
       "      <th>5</th>\n",
       "      <td>0.826428</td>\n",
       "      <td>0.741321</td>\n",
       "    </tr>\n",
       "    <tr>\n",
       "      <th>6</th>\n",
       "      <td>0.842105</td>\n",
       "      <td>0.765957</td>\n",
       "    </tr>\n",
       "    <tr>\n",
       "      <th>7</th>\n",
       "      <td>0.809630</td>\n",
       "      <td>0.749160</td>\n",
       "    </tr>\n",
       "    <tr>\n",
       "      <th>8</th>\n",
       "      <td>0.845465</td>\n",
       "      <td>0.742441</td>\n",
       "    </tr>\n",
       "    <tr>\n",
       "      <th>9</th>\n",
       "      <td>0.800448</td>\n",
       "      <td>0.715247</td>\n",
       "    </tr>\n",
       "  </tbody>\n",
       "</table>\n",
       "</div>"
      ],
      "text/plain": [
       "   RFC kfold  SVM kfold\n",
       "0   0.837626   0.746920\n",
       "1   0.812990   0.707727\n",
       "2   0.821948   0.748040\n",
       "3   0.833147   0.726764\n",
       "4   0.828667   0.762598\n",
       "5   0.826428   0.741321\n",
       "6   0.842105   0.765957\n",
       "7   0.809630   0.749160\n",
       "8   0.845465   0.742441\n",
       "9   0.800448   0.715247"
      ]
     },
     "execution_count": 49,
     "metadata": {},
     "output_type": "execute_result"
    }
   ],
   "source": [
    "# Check overfit on default data\n",
    "\n",
    "cv = StratifiedKFold(n_splits = 10, shuffle= True, random_state=0)\n",
    "RFC_kfold = cross_val_score(RFC, X_train, y_train, cv = cv, scoring = 'accuracy')\n",
    "SVM_kfold = cross_val_score(SVM, X_train, y_train, cv = cv, scoring = 'accuracy')\n",
    "\n",
    "pd.DataFrame({'RFC kfold' : RFC_kfold.tolist(),\n",
    "              'SVM kfold' : SVM_kfold.tolist()})"
   ]
  },
  {
   "cell_type": "code",
   "execution_count": 50,
   "metadata": {},
   "outputs": [
    {
     "data": {
      "image/png": "[encoded data removed]",
      "text/plain": [
       "<Figure size 432x288 with 1 Axes>"
      ]
     },
     "metadata": {
      "needs_background": "light"
     },
     "output_type": "display_data"
    }
   ],
   "source": [
    "learning_curve(RFC, X, y, scoring='accuracy')\n",
    "plt.show()"
   ]
  },
  {
   "cell_type": "code",
   "execution_count": 51,
   "metadata": {},
   "outputs": [
    {
     "data": {
      "image/png": "[encoded data removed]",
      "text/plain": [
       "<Figure size 432x288 with 1 Axes>"
      ]
     },
     "metadata": {
      "needs_background": "light"
     },
     "output_type": "display_data"
    }
   ],
   "source": [
    "learning_curve(SVM, X, y, scoring='accuracy')\n",
    "plt.show()"
   ]
  },
  {
   "cell_type": "code",
   "execution_count": 52,
   "metadata": {},
   "outputs": [
    {
     "data": {
      "text/html": [
       "<div>\n",
       "<style scoped>\n",
       "    .dataframe tbody tr th:only-of-type {\n",
       "        vertical-align: middle;\n",
       "    }\n",
       "\n",
       "    .dataframe tbody tr th {\n",
       "        vertical-align: top;\n",
       "    }\n",
       "\n",
       "    .dataframe thead th {\n",
       "        text-align: right;\n",
       "    }\n",
       "</style>\n",
       "<table border=\"1\" class=\"dataframe\">\n",
       "  <thead>\n",
       "    <tr style=\"text-align: right;\">\n",
       "      <th></th>\n",
       "      <th>Model</th>\n",
       "      <th>Normal</th>\n",
       "      <th>Mean Kfold</th>\n",
       "    </tr>\n",
       "  </thead>\n",
       "  <tbody>\n",
       "    <tr>\n",
       "      <th>0</th>\n",
       "      <td>Random Forest</td>\n",
       "      <td>0.999776</td>\n",
       "      <td>0.825846</td>\n",
       "    </tr>\n",
       "    <tr>\n",
       "      <th>1</th>\n",
       "      <td>Support Vector</td>\n",
       "      <td>0.743420</td>\n",
       "      <td>0.740618</td>\n",
       "    </tr>\n",
       "  </tbody>\n",
       "</table>\n",
       "</div>"
      ],
      "text/plain": [
       "            Model    Normal  Mean Kfold\n",
       "0   Random Forest  0.999776    0.825846\n",
       "1  Support Vector  0.743420    0.740618"
      ]
     },
     "execution_count": 52,
     "metadata": {},
     "output_type": "execute_result"
    }
   ],
   "source": [
    "pd.DataFrame({'Model' : ['Random Forest', 'Support Vector'], \n",
    "                        'Normal': [RFC_score_tr, SVM_score_tr], \n",
    "                        'Mean Kfold' : [RFC_kfold.mean(), SVM_kfold.mean()]})"
   ]
  },
  {
   "cell_type": "markdown",
   "metadata": {},
   "source": [
    "> We can clearly see the overfitting on Random Forest using default parameter model by seeing the `learning_curve()` and **Kfold Cross Validation above**. Now we examine the hyperparameter tuned model."
   ]
  },
  {
   "cell_type": "code",
   "execution_count": 53,
   "metadata": {},
   "outputs": [
    {
     "data": {
      "text/html": [
       "<div>\n",
       "<style scoped>\n",
       "    .dataframe tbody tr th:only-of-type {\n",
       "        vertical-align: middle;\n",
       "    }\n",
       "\n",
       "    .dataframe tbody tr th {\n",
       "        vertical-align: top;\n",
       "    }\n",
       "\n",
       "    .dataframe thead th {\n",
       "        text-align: right;\n",
       "    }\n",
       "</style>\n",
       "<table border=\"1\" class=\"dataframe\">\n",
       "  <thead>\n",
       "    <tr style=\"text-align: right;\">\n",
       "      <th></th>\n",
       "      <th>Hyper RFC kfold</th>\n",
       "      <th>Hyper SVM kfold</th>\n",
       "    </tr>\n",
       "  </thead>\n",
       "  <tbody>\n",
       "    <tr>\n",
       "      <th>0</th>\n",
       "      <td>0.830907</td>\n",
       "      <td>0.750280</td>\n",
       "    </tr>\n",
       "    <tr>\n",
       "      <th>1</th>\n",
       "      <td>0.810750</td>\n",
       "      <td>0.718925</td>\n",
       "    </tr>\n",
       "    <tr>\n",
       "      <th>2</th>\n",
       "      <td>0.826428</td>\n",
       "      <td>0.759239</td>\n",
       "    </tr>\n",
       "    <tr>\n",
       "      <th>3</th>\n",
       "      <td>0.830907</td>\n",
       "      <td>0.737962</td>\n",
       "    </tr>\n",
       "    <tr>\n",
       "      <th>4</th>\n",
       "      <td>0.832027</td>\n",
       "      <td>0.760358</td>\n",
       "    </tr>\n",
       "    <tr>\n",
       "      <th>5</th>\n",
       "      <td>0.838746</td>\n",
       "      <td>0.742441</td>\n",
       "    </tr>\n",
       "    <tr>\n",
       "      <th>6</th>\n",
       "      <td>0.855543</td>\n",
       "      <td>0.781635</td>\n",
       "    </tr>\n",
       "    <tr>\n",
       "      <th>7</th>\n",
       "      <td>0.814110</td>\n",
       "      <td>0.750280</td>\n",
       "    </tr>\n",
       "    <tr>\n",
       "      <th>8</th>\n",
       "      <td>0.844345</td>\n",
       "      <td>0.756999</td>\n",
       "    </tr>\n",
       "    <tr>\n",
       "      <th>9</th>\n",
       "      <td>0.812780</td>\n",
       "      <td>0.718610</td>\n",
       "    </tr>\n",
       "  </tbody>\n",
       "</table>\n",
       "</div>"
      ],
      "text/plain": [
       "   Hyper RFC kfold  Hyper SVM kfold\n",
       "0         0.830907         0.750280\n",
       "1         0.810750         0.718925\n",
       "2         0.826428         0.759239\n",
       "3         0.830907         0.737962\n",
       "4         0.832027         0.760358\n",
       "5         0.838746         0.742441\n",
       "6         0.855543         0.781635\n",
       "7         0.814110         0.750280\n",
       "8         0.844345         0.756999\n",
       "9         0.812780         0.718610"
      ]
     },
     "execution_count": 53,
     "metadata": {},
     "output_type": "execute_result"
    }
   ],
   "source": [
    "# Check overfit on hyperparameter tuned data\n",
    "\n",
    "cv = StratifiedKFold(n_splits = 10, shuffle= True, random_state=0)\n",
    "hyper_RFC_kfold = cross_val_score(hyper_RFC, X_train, y_train, cv = cv, scoring = 'accuracy')\n",
    "hyper_SVM_kfold = cross_val_score(hyper_SVM, X_train, y_train, cv = cv, scoring = 'accuracy')\n",
    "\n",
    "pd.DataFrame({'Hyper RFC kfold' : hyper_RFC_kfold.tolist(),\n",
    "              'Hyper SVM kfold' : hyper_SVM_kfold.tolist()})"
   ]
  },
  {
   "cell_type": "code",
   "execution_count": 54,
   "metadata": {},
   "outputs": [
    {
     "data": {
      "image/png": "[encoded data removed]",
      "text/plain": [
       "<Figure size 432x288 with 1 Axes>"
      ]
     },
     "metadata": {
      "needs_background": "light"
     },
     "output_type": "display_data"
    }
   ],
   "source": [
    "learning_curve(hyper_RFC, X, y, scoring='accuracy')\n",
    "plt.show()"
   ]
  },
  {
   "cell_type": "code",
   "execution_count": 55,
   "metadata": {},
   "outputs": [
    {
     "data": {
      "image/png": "[encoded data removed]",
      "text/plain": [
       "<Figure size 432x288 with 1 Axes>"
      ]
     },
     "metadata": {
      "needs_background": "light"
     },
     "output_type": "display_data"
    }
   ],
   "source": [
    "learning_curve(hyper_SVM, X, y, scoring='accuracy')\n",
    "plt.show()"
   ]
  },
  {
   "cell_type": "code",
   "execution_count": 56,
   "metadata": {},
   "outputs": [
    {
     "data": {
      "text/html": [
       "<div>\n",
       "<style scoped>\n",
       "    .dataframe tbody tr th:only-of-type {\n",
       "        vertical-align: middle;\n",
       "    }\n",
       "\n",
       "    .dataframe tbody tr th {\n",
       "        vertical-align: top;\n",
       "    }\n",
       "\n",
       "    .dataframe thead th {\n",
       "        text-align: right;\n",
       "    }\n",
       "</style>\n",
       "<table border=\"1\" class=\"dataframe\">\n",
       "  <thead>\n",
       "    <tr style=\"text-align: right;\">\n",
       "      <th></th>\n",
       "      <th>Model</th>\n",
       "      <th>Hyper</th>\n",
       "      <th>Mean Kfold</th>\n",
       "    </tr>\n",
       "  </thead>\n",
       "  <tbody>\n",
       "    <tr>\n",
       "      <th>0</th>\n",
       "      <td>Random Forest</td>\n",
       "      <td>0.902453</td>\n",
       "      <td>0.829654</td>\n",
       "    </tr>\n",
       "    <tr>\n",
       "      <th>1</th>\n",
       "      <td>Support Vector</td>\n",
       "      <td>0.750924</td>\n",
       "      <td>0.747673</td>\n",
       "    </tr>\n",
       "  </tbody>\n",
       "</table>\n",
       "</div>"
      ],
      "text/plain": [
       "            Model     Hyper  Mean Kfold\n",
       "0   Random Forest  0.902453    0.829654\n",
       "1  Support Vector  0.750924    0.747673"
      ]
     },
     "execution_count": 56,
     "metadata": {},
     "output_type": "execute_result"
    }
   ],
   "source": [
    "pd.DataFrame({'Model' : ['Random Forest', 'Support Vector'], \n",
    "                        'Hyper': [hyper_RFC_score_tr, hyper_SVM_score_tr], \n",
    "                        'Mean Kfold' : [hyper_RFC_kfold.mean(), hyper_SVM_kfold.mean()]})"
   ]
  },
  {
   "cell_type": "markdown",
   "metadata": {},
   "source": [
    "> Although there are still some ovefitting on the Random Forest model, but the overfitting are not extreme as before. Therefore I think using hyperparameter tuned model is a better choice, as the Support Vector model also perform better with hyperparameter tuning."
   ]
  },
  {
   "cell_type": "markdown",
   "metadata": {},
   "source": [
    "### MODEL PREDICTION AND PERFORMANCE EVALUATION"
   ]
  },
  {
   "cell_type": "markdown",
   "metadata": {},
   "source": [
    "> We will be using the hyperparameter tuned model, for reasons mentioned before."
   ]
  },
  {
   "cell_type": "code",
   "execution_count": 57,
   "metadata": {},
   "outputs": [],
   "source": [
    "# Random Forest Classifier\n",
    "yp_RFC = hyper_RFC.predict(X_test)\n",
    "\n",
    "# Support Vector Machine Classifier\n",
    "yp_SVM = hyper_SVM.predict(X_test)"
   ]
  },
  {
   "cell_type": "markdown",
   "metadata": {},
   "source": [
    "#### RANDOM FOREST CLASSIFIER"
   ]
  },
  {
   "cell_type": "code",
   "execution_count": 58,
   "metadata": {},
   "outputs": [
    {
     "data": {
      "text/plain": [
       "array([[917, 249],\n",
       "       [185, 882]], dtype=int64)"
      ]
     },
     "execution_count": 58,
     "metadata": {},
     "output_type": "execute_result"
    }
   ],
   "source": [
    "cm_RFC = confusion_matrix(y_test, yp_RFC)\n",
    "cm_RFC"
   ]
  },
  {
   "cell_type": "code",
   "execution_count": 59,
   "metadata": {},
   "outputs": [],
   "source": [
    "labels = ['Default No', 'Default Yes']"
   ]
  },
  {
   "cell_type": "code",
   "execution_count": 60,
   "metadata": {},
   "outputs": [
    {
     "name": "stdout",
     "output_type": "stream",
     "text": [
      "              precision    recall  f1-score   support\n",
      "\n",
      "  Default No       0.83      0.79      0.81      1166\n",
      " Default Yes       0.78      0.83      0.80      1067\n",
      "\n",
      "    accuracy                           0.81      2233\n",
      "   macro avg       0.81      0.81      0.81      2233\n",
      "weighted avg       0.81      0.81      0.81      2233\n",
      "\n"
     ]
    },
    {
     "data": {
      "image/png": "[encoded data removed]",
      "text/plain": [
       "<Figure size 576x360 with 2 Axes>"
      ]
     },
     "metadata": {
      "needs_background": "light"
     },
     "output_type": "display_data"
    }
   ],
   "source": [
    "print(classification_report(y_test, yp_RFC, target_names = labels))\n",
    "f, ax = plt.subplots(figsize=(8,5))\n",
    "sns.heatmap(cm_RFC, annot=True, fmt=\".0f\", ax=ax, cmap = 'Blues')\n",
    "\n",
    "ax.xaxis.set_ticklabels(labels)\n",
    "ax.yaxis.set_ticklabels(labels)\n",
    "\n",
    "plt.title('Random Forest Classifier Matrix')\n",
    "plt.xlabel('PREDICTED')\n",
    "plt.ylabel('ACTUAL')\n",
    "plt.show()"
   ]
  },
  {
   "cell_type": "markdown",
   "metadata": {},
   "source": [
    "> This model performed excellent. It can predict both the client who are default and not default."
   ]
  },
  {
   "cell_type": "markdown",
   "metadata": {},
   "source": [
    "#### SUPPORT VECTOR MACHINE CLASSIFIER"
   ]
  },
  {
   "cell_type": "code",
   "execution_count": 61,
   "metadata": {},
   "outputs": [
    {
     "data": {
      "text/plain": [
       "array([[911, 255],\n",
       "       [332, 735]], dtype=int64)"
      ]
     },
     "execution_count": 61,
     "metadata": {},
     "output_type": "execute_result"
    }
   ],
   "source": [
    "cm_SVM = confusion_matrix(y_test, yp_SVM)\n",
    "cm_SVM"
   ]
  },
  {
   "cell_type": "code",
   "execution_count": 62,
   "metadata": {},
   "outputs": [
    {
     "name": "stdout",
     "output_type": "stream",
     "text": [
      "              precision    recall  f1-score   support\n",
      "\n",
      "  Default No       0.73      0.78      0.76      1166\n",
      " Default Yes       0.74      0.69      0.71      1067\n",
      "\n",
      "    accuracy                           0.74      2233\n",
      "   macro avg       0.74      0.74      0.74      2233\n",
      "weighted avg       0.74      0.74      0.74      2233\n",
      "\n"
     ]
    },
    {
     "data": {
      "image/png": "[encoded data removed]",
      "text/plain": [
       "<Figure size 576x360 with 2 Axes>"
      ]
     },
     "metadata": {
      "needs_background": "light"
     },
     "output_type": "display_data"
    }
   ],
   "source": [
    "print(classification_report(y_test, yp_SVM, target_names = labels))\n",
    "f, ax = plt.subplots(figsize=(8,5))\n",
    "sns.heatmap(cm_SVM, annot=True, fmt=\".0f\", ax=ax, cmap = 'Blues')\n",
    "\n",
    "ax.xaxis.set_ticklabels(labels)\n",
    "ax.yaxis.set_ticklabels(labels)\n",
    "\n",
    "plt.title('Support Vector Machine Matrix')\n",
    "plt.xlabel('PREDICTED')\n",
    "plt.ylabel('ACTUAL')\n",
    "plt.show()"
   ]
  },
  {
   "cell_type": "markdown",
   "metadata": {},
   "source": [
    "> This model performed good. But Random Forest still hold the better score. Let's experiment more, we'll try to add more features by doing another feature selection."
   ]
  },
  {
   "cell_type": "markdown",
   "metadata": {},
   "source": [
    "### FEATURE ENGINEERING - PART 2"
   ]
  },
  {
   "cell_type": "markdown",
   "metadata": {},
   "source": [
    "#### SPLIT DATA FOR FEATURE IMPORTANCES"
   ]
  },
  {
   "cell_type": "code",
   "execution_count": 63,
   "metadata": {},
   "outputs": [],
   "source": [
    "X1 = df_ready.drop(['deposit'], axis = 1)\n",
    "y1 = df_ready['deposit']"
   ]
  },
  {
   "cell_type": "markdown",
   "metadata": {},
   "source": [
    "#### FEATURE IMPORTANCES - TREE BASED CLASSIFIER"
   ]
  },
  {
   "cell_type": "code",
   "execution_count": 64,
   "metadata": {},
   "outputs": [
    {
     "name": "stdout",
     "output_type": "stream",
     "text": [
      "[0.0705994  0.07109896 0.07741441 0.2705944  0.05061378 0.02973542\n",
      " 0.02039983 0.03316299 0.04096355 0.01101564 0.00506048 0.00427201\n",
      " 0.0127878  0.00808143 0.00580057 0.00825521 0.00637059 0.01236035\n",
      " 0.00544725 0.00164949 0.01332736 0.01120032 0.00325981 0.03041891\n",
      " 0.01572137 0.0101245  0.04569677 0.01513803 0.00378828 0.00967338\n",
      " 0.00775667 0.01221177 0.01228831 0.01306541 0.01648563 0.01144912\n",
      " 0.01307546 0.00963534]\n"
     ]
    },
    {
     "data": {
      "image/png": "[encoded data removed]",
      "text/plain": [
       "<Figure size 432x288 with 1 Axes>"
      ]
     },
     "metadata": {
      "needs_background": "light"
     },
     "output_type": "display_data"
    }
   ],
   "source": [
    "# feature importances using Tree Based Classifier\n",
    "\n",
    "model = ExtraTreesClassifier()\n",
    "model.fit(X1,y1)\n",
    "print(model.feature_importances_)\n",
    "\n",
    "# plot graph of feature importances for better visualization\n",
    "\n",
    "feat_importances = pd.Series(model.feature_importances_, index=X1.columns)\n",
    "feat_importances.nlargest(15).plot(kind = 'barh')\n",
    "plt.show()"
   ]
  },
  {
   "cell_type": "code",
   "execution_count": 65,
   "metadata": {},
   "outputs": [],
   "source": [
    "feat_col = feat_importances.nlargest(15).index.tolist()\n",
    "feat_tgt = pd.DataFrame(df_ready['deposit'])"
   ]
  },
  {
   "cell_type": "code",
   "execution_count": 66,
   "metadata": {},
   "outputs": [],
   "source": [
    "df_new1 = pd.concat([df_ready[feat_col], feat_tgt], axis=1)"
   ]
  },
  {
   "cell_type": "code",
   "execution_count": 67,
   "metadata": {},
   "outputs": [
    {
     "data": {
      "text/html": [
       "<div>\n",
       "<style scoped>\n",
       "    .dataframe tbody tr th:only-of-type {\n",
       "        vertical-align: middle;\n",
       "    }\n",
       "\n",
       "    .dataframe tbody tr th {\n",
       "        vertical-align: top;\n",
       "    }\n",
       "\n",
       "    .dataframe thead th {\n",
       "        text-align: right;\n",
       "    }\n",
       "</style>\n",
       "<table border=\"1\" class=\"dataframe\">\n",
       "  <thead>\n",
       "    <tr style=\"text-align: right;\">\n",
       "      <th></th>\n",
       "      <th>duration</th>\n",
       "      <th>day</th>\n",
       "      <th>balance</th>\n",
       "      <th>age</th>\n",
       "      <th>campaign</th>\n",
       "      <th>contact_unknown</th>\n",
       "      <th>poutcome</th>\n",
       "      <th>education</th>\n",
       "      <th>housing_yes</th>\n",
       "      <th>pdays</th>\n",
       "      <th>previous</th>\n",
       "      <th>month_may</th>\n",
       "      <th>loan_yes</th>\n",
       "      <th>month_aug</th>\n",
       "      <th>marital_married</th>\n",
       "      <th>deposit</th>\n",
       "    </tr>\n",
       "  </thead>\n",
       "  <tbody>\n",
       "    <tr>\n",
       "      <th>0</th>\n",
       "      <td>1042</td>\n",
       "      <td>5</td>\n",
       "      <td>2343</td>\n",
       "      <td>59</td>\n",
       "      <td>1</td>\n",
       "      <td>1</td>\n",
       "      <td>3</td>\n",
       "      <td>1</td>\n",
       "      <td>1</td>\n",
       "      <td>0</td>\n",
       "      <td>0</td>\n",
       "      <td>1</td>\n",
       "      <td>0</td>\n",
       "      <td>0</td>\n",
       "      <td>1</td>\n",
       "      <td>1</td>\n",
       "    </tr>\n",
       "    <tr>\n",
       "      <th>1</th>\n",
       "      <td>1467</td>\n",
       "      <td>5</td>\n",
       "      <td>45</td>\n",
       "      <td>56</td>\n",
       "      <td>1</td>\n",
       "      <td>1</td>\n",
       "      <td>3</td>\n",
       "      <td>1</td>\n",
       "      <td>0</td>\n",
       "      <td>0</td>\n",
       "      <td>0</td>\n",
       "      <td>1</td>\n",
       "      <td>0</td>\n",
       "      <td>0</td>\n",
       "      <td>1</td>\n",
       "      <td>1</td>\n",
       "    </tr>\n",
       "    <tr>\n",
       "      <th>2</th>\n",
       "      <td>1389</td>\n",
       "      <td>5</td>\n",
       "      <td>1270</td>\n",
       "      <td>41</td>\n",
       "      <td>1</td>\n",
       "      <td>1</td>\n",
       "      <td>3</td>\n",
       "      <td>1</td>\n",
       "      <td>1</td>\n",
       "      <td>0</td>\n",
       "      <td>0</td>\n",
       "      <td>1</td>\n",
       "      <td>0</td>\n",
       "      <td>0</td>\n",
       "      <td>1</td>\n",
       "      <td>1</td>\n",
       "    </tr>\n",
       "    <tr>\n",
       "      <th>3</th>\n",
       "      <td>579</td>\n",
       "      <td>5</td>\n",
       "      <td>2476</td>\n",
       "      <td>55</td>\n",
       "      <td>1</td>\n",
       "      <td>1</td>\n",
       "      <td>3</td>\n",
       "      <td>1</td>\n",
       "      <td>1</td>\n",
       "      <td>0</td>\n",
       "      <td>0</td>\n",
       "      <td>1</td>\n",
       "      <td>0</td>\n",
       "      <td>0</td>\n",
       "      <td>1</td>\n",
       "      <td>1</td>\n",
       "    </tr>\n",
       "    <tr>\n",
       "      <th>4</th>\n",
       "      <td>673</td>\n",
       "      <td>5</td>\n",
       "      <td>184</td>\n",
       "      <td>54</td>\n",
       "      <td>2</td>\n",
       "      <td>1</td>\n",
       "      <td>3</td>\n",
       "      <td>2</td>\n",
       "      <td>0</td>\n",
       "      <td>0</td>\n",
       "      <td>0</td>\n",
       "      <td>1</td>\n",
       "      <td>0</td>\n",
       "      <td>0</td>\n",
       "      <td>1</td>\n",
       "      <td>1</td>\n",
       "    </tr>\n",
       "  </tbody>\n",
       "</table>\n",
       "</div>"
      ],
      "text/plain": [
       "   duration  day  balance  age  campaign  contact_unknown  poutcome  \\\n",
       "0      1042    5     2343   59         1                1         3   \n",
       "1      1467    5       45   56         1                1         3   \n",
       "2      1389    5     1270   41         1                1         3   \n",
       "3       579    5     2476   55         1                1         3   \n",
       "4       673    5      184   54         2                1         3   \n",
       "\n",
       "   education  housing_yes  pdays  previous  month_may  loan_yes  month_aug  \\\n",
       "0          1            1      0         0          1         0          0   \n",
       "1          1            0      0         0          1         0          0   \n",
       "2          1            1      0         0          1         0          0   \n",
       "3          1            1      0         0          1         0          0   \n",
       "4          2            0      0         0          1         0          0   \n",
       "\n",
       "   marital_married  deposit  \n",
       "0                1        1  \n",
       "1                1        1  \n",
       "2                1        1  \n",
       "3                1        1  \n",
       "4                1        1  "
      ]
     },
     "execution_count": 67,
     "metadata": {},
     "output_type": "execute_result"
    }
   ],
   "source": [
    "df_new1.head()"
   ]
  },
  {
   "cell_type": "markdown",
   "metadata": {},
   "source": [
    "> Now we've got another set of data. We will do the process all over again, and see the result."
   ]
  },
  {
   "cell_type": "markdown",
   "metadata": {},
   "source": [
    "#### SPLIT DATA FOR MODELLING"
   ]
  },
  {
   "cell_type": "code",
   "execution_count": 68,
   "metadata": {},
   "outputs": [],
   "source": [
    "X1 = df_new1.drop(['deposit'], axis = 1)\n",
    "y1 = df_new1['deposit']"
   ]
  },
  {
   "cell_type": "code",
   "execution_count": 69,
   "metadata": {},
   "outputs": [
    {
     "name": "stdout",
     "output_type": "stream",
     "text": [
      "       duration  day  balance  age  campaign  contact_unknown  poutcome  \\\n",
      "0          1042    5     2343   59         1                1         3   \n",
      "1          1467    5       45   56         1                1         3   \n",
      "2          1389    5     1270   41         1                1         3   \n",
      "3           579    5     2476   55         1                1         3   \n",
      "4           673    5      184   54         2                1         3   \n",
      "...         ...  ...      ...  ...       ...              ...       ...   \n",
      "11157       257   20        1   33         1                0         3   \n",
      "11158        83   16      733   39         4                1         3   \n",
      "11159       156   19       29   32         2                0         3   \n",
      "11160         9    8        0   43         2                0         0   \n",
      "11161       628    9        0   34         1                0         3   \n",
      "\n",
      "       education  housing_yes  pdays  previous  month_may  loan_yes  \\\n",
      "0              1            1      0         0          1         0   \n",
      "1              1            0      0         0          1         0   \n",
      "2              1            1      0         0          1         0   \n",
      "3              1            1      0         0          1         0   \n",
      "4              2            0      0         0          1         0   \n",
      "...          ...          ...    ...       ...        ...       ...   \n",
      "11157          0            1      0         0          0         0   \n",
      "11158          1            0      0         0          0         0   \n",
      "11159          1            0      0         0          0         0   \n",
      "11160          1            0    172         5          1         1   \n",
      "11161          1            0      0         0          0         0   \n",
      "\n",
      "       month_aug  marital_married  \n",
      "0              0                1  \n",
      "1              0                1  \n",
      "2              0                1  \n",
      "3              0                1  \n",
      "4              0                1  \n",
      "...          ...              ...  \n",
      "11157          0                0  \n",
      "11158          0                1  \n",
      "11159          1                0  \n",
      "11160          0                1  \n",
      "11161          0                1  \n",
      "\n",
      "[11162 rows x 15 columns] 0        1\n",
      "1        1\n",
      "2        1\n",
      "3        1\n",
      "4        1\n",
      "        ..\n",
      "11157    0\n",
      "11158    0\n",
      "11159    0\n",
      "11160    0\n",
      "11161    0\n",
      "Name: deposit, Length: 11162, dtype: int32\n"
     ]
    }
   ],
   "source": [
    "print(X1, y1)"
   ]
  },
  {
   "cell_type": "code",
   "execution_count": 70,
   "metadata": {},
   "outputs": [],
   "source": [
    "#Split train data 80%, test data 20%\n",
    "\n",
    "X1_train, X1_test, y1_train, y1_test = train_test_split(X1, y1, train_size = .8, random_state = 42)"
   ]
  },
  {
   "cell_type": "markdown",
   "metadata": {},
   "source": [
    "### MODEL PREPARATION - PART 2"
   ]
  },
  {
   "cell_type": "code",
   "execution_count": 71,
   "metadata": {},
   "outputs": [],
   "source": [
    "# Random Forest Classifier model with default parameter\n",
    "\n",
    "RFC1 = RandomForestClassifier().fit(X1_train, y1_train)\n",
    "\n",
    "# Support Vector Machine Classifier with default parameter\n",
    "\n",
    "SVM1 = SVC(kernel = 'rbf').fit(X1_train, y1_train)"
   ]
  },
  {
   "cell_type": "code",
   "execution_count": 72,
   "metadata": {},
   "outputs": [],
   "source": [
    "# Random Forest Classifier model with previously tuned hyperparameter\n",
    "\n",
    "hyper_RFC1 = RandomForestClassifier(n_estimators = 500, min_samples_split = 10, min_samples_leaf = 4, max_depth = 40).fit(X1_train, y1_train)\n",
    "\n",
    "# Support Vector Machine Classifier model with previously tuned hyperparameter\n",
    "\n",
    "hyper_SVM1 = SVC(kernel='rbf', gamma = 'scale', C = 10).fit(X1_train, y1_train)"
   ]
  },
  {
   "cell_type": "markdown",
   "metadata": {},
   "source": [
    "### CROSS VALIDATION - PART 2"
   ]
  },
  {
   "cell_type": "code",
   "execution_count": 73,
   "metadata": {},
   "outputs": [],
   "source": [
    "# Train data\n",
    "\n",
    "RFC_score_tr1 = RFC1.score(X1_train, y1_train)\n",
    "SVM_score_tr1 = SVM1.score(X1_train, y1_train)\n",
    "hyper_RFC_score_tr1 = hyper_RFC1.score(X1_train, y1_train)\n",
    "hyper_SVM_score_tr1 = hyper_SVM1.score(X1_train, y1_train)"
   ]
  },
  {
   "cell_type": "code",
   "execution_count": 74,
   "metadata": {},
   "outputs": [],
   "source": [
    "# Test data\n",
    "\n",
    "RFC_score_ts1 = RFC1.score(X1_test, y1_test)\n",
    "SVM_score_ts1 = SVM1.score(X1_test, y1_test)\n",
    "hyper_RFC_score_ts1 = hyper_RFC1.score(X1_test, y1_test)\n",
    "hyper_SVM_score_ts1 = hyper_SVM1.score(X1_test, y1_test)"
   ]
  },
  {
   "cell_type": "code",
   "execution_count": 75,
   "metadata": {},
   "outputs": [],
   "source": [
    "train_score1 = pd.DataFrame({'Model' : ['Random Forest', 'Support Vector'], \n",
    "                            'Normal': [RFC_score_tr1, SVM_score_tr1], \n",
    "                            'Hyper' : [hyper_RFC_score_tr1, hyper_SVM_score_tr1]})"
   ]
  },
  {
   "cell_type": "code",
   "execution_count": 76,
   "metadata": {},
   "outputs": [],
   "source": [
    "test_score1 = pd.DataFrame({'Model' : ['Random Forest', 'Support Vector'], \n",
    "                           'Normal': [RFC_score_ts1, SVM_score_ts1], \n",
    "                           'Hyper' : [hyper_RFC_score_ts1, hyper_SVM_score_ts1]})"
   ]
  },
  {
   "cell_type": "code",
   "execution_count": 77,
   "metadata": {
    "scrolled": true
   },
   "outputs": [
    {
     "data": {
      "text/html": [
       "<div>\n",
       "<style scoped>\n",
       "    .dataframe tbody tr th:only-of-type {\n",
       "        vertical-align: middle;\n",
       "    }\n",
       "\n",
       "    .dataframe tbody tr th {\n",
       "        vertical-align: top;\n",
       "    }\n",
       "\n",
       "    .dataframe thead th {\n",
       "        text-align: right;\n",
       "    }\n",
       "</style>\n",
       "<table border=\"1\" class=\"dataframe\">\n",
       "  <thead>\n",
       "    <tr style=\"text-align: right;\">\n",
       "      <th></th>\n",
       "      <th></th>\n",
       "      <th>Model</th>\n",
       "      <th>Normal</th>\n",
       "      <th>Hyper</th>\n",
       "    </tr>\n",
       "  </thead>\n",
       "  <tbody>\n",
       "    <tr>\n",
       "      <th rowspan=\"2\" valign=\"top\">Train Score</th>\n",
       "      <th>0</th>\n",
       "      <td>Random Forest</td>\n",
       "      <td>1.000000</td>\n",
       "      <td>0.901333</td>\n",
       "    </tr>\n",
       "    <tr>\n",
       "      <th>1</th>\n",
       "      <td>Support Vector</td>\n",
       "      <td>0.743420</td>\n",
       "      <td>0.751260</td>\n",
       "    </tr>\n",
       "    <tr>\n",
       "      <th rowspan=\"2\" valign=\"top\">Test Score</th>\n",
       "      <th>0</th>\n",
       "      <td>Random Forest</td>\n",
       "      <td>0.811464</td>\n",
       "      <td>0.815047</td>\n",
       "    </tr>\n",
       "    <tr>\n",
       "      <th>1</th>\n",
       "      <td>Support Vector</td>\n",
       "      <td>0.726825</td>\n",
       "      <td>0.737573</td>\n",
       "    </tr>\n",
       "  </tbody>\n",
       "</table>\n",
       "</div>"
      ],
      "text/plain": [
       "                        Model    Normal     Hyper\n",
       "Train Score 0   Random Forest  1.000000  0.901333\n",
       "            1  Support Vector  0.743420  0.751260\n",
       "Test Score  0   Random Forest  0.811464  0.815047\n",
       "            1  Support Vector  0.726825  0.737573"
      ]
     },
     "execution_count": 77,
     "metadata": {},
     "output_type": "execute_result"
    }
   ],
   "source": [
    "pd.concat([train_score1, test_score1], keys = ['Train Score', 'Test Score'])"
   ]
  },
  {
   "cell_type": "markdown",
   "metadata": {},
   "source": [
    "> we can still see the overfitting here on Random Forest."
   ]
  },
  {
   "cell_type": "code",
   "execution_count": 78,
   "metadata": {},
   "outputs": [
    {
     "data": {
      "text/html": [
       "<div>\n",
       "<style scoped>\n",
       "    .dataframe tbody tr th:only-of-type {\n",
       "        vertical-align: middle;\n",
       "    }\n",
       "\n",
       "    .dataframe tbody tr th {\n",
       "        vertical-align: top;\n",
       "    }\n",
       "\n",
       "    .dataframe thead th {\n",
       "        text-align: right;\n",
       "    }\n",
       "</style>\n",
       "<table border=\"1\" class=\"dataframe\">\n",
       "  <thead>\n",
       "    <tr style=\"text-align: right;\">\n",
       "      <th></th>\n",
       "      <th>RFC kfold</th>\n",
       "      <th>SVM kfold</th>\n",
       "    </tr>\n",
       "  </thead>\n",
       "  <tbody>\n",
       "    <tr>\n",
       "      <th>0</th>\n",
       "      <td>0.843225</td>\n",
       "      <td>0.746920</td>\n",
       "    </tr>\n",
       "    <tr>\n",
       "      <th>1</th>\n",
       "      <td>0.818589</td>\n",
       "      <td>0.706607</td>\n",
       "    </tr>\n",
       "    <tr>\n",
       "      <th>2</th>\n",
       "      <td>0.837626</td>\n",
       "      <td>0.748040</td>\n",
       "    </tr>\n",
       "    <tr>\n",
       "      <th>3</th>\n",
       "      <td>0.842105</td>\n",
       "      <td>0.726764</td>\n",
       "    </tr>\n",
       "    <tr>\n",
       "      <th>4</th>\n",
       "      <td>0.830907</td>\n",
       "      <td>0.762598</td>\n",
       "    </tr>\n",
       "    <tr>\n",
       "      <th>5</th>\n",
       "      <td>0.838746</td>\n",
       "      <td>0.740202</td>\n",
       "    </tr>\n",
       "    <tr>\n",
       "      <th>6</th>\n",
       "      <td>0.864502</td>\n",
       "      <td>0.764838</td>\n",
       "    </tr>\n",
       "    <tr>\n",
       "      <th>7</th>\n",
       "      <td>0.821948</td>\n",
       "      <td>0.749160</td>\n",
       "    </tr>\n",
       "    <tr>\n",
       "      <th>8</th>\n",
       "      <td>0.851064</td>\n",
       "      <td>0.742441</td>\n",
       "    </tr>\n",
       "    <tr>\n",
       "      <th>9</th>\n",
       "      <td>0.816143</td>\n",
       "      <td>0.715247</td>\n",
       "    </tr>\n",
       "  </tbody>\n",
       "</table>\n",
       "</div>"
      ],
      "text/plain": [
       "   RFC kfold  SVM kfold\n",
       "0   0.843225   0.746920\n",
       "1   0.818589   0.706607\n",
       "2   0.837626   0.748040\n",
       "3   0.842105   0.726764\n",
       "4   0.830907   0.762598\n",
       "5   0.838746   0.740202\n",
       "6   0.864502   0.764838\n",
       "7   0.821948   0.749160\n",
       "8   0.851064   0.742441\n",
       "9   0.816143   0.715247"
      ]
     },
     "execution_count": 78,
     "metadata": {},
     "output_type": "execute_result"
    }
   ],
   "source": [
    "# Check overfit on default data\n",
    "\n",
    "cv = StratifiedKFold(n_splits = 10, shuffle= True, random_state=0)\n",
    "RFC_kfold1 = cross_val_score(RFC1, X1_train, y1_train, cv = cv, scoring = 'accuracy')\n",
    "SVM_kfold1 = cross_val_score(SVM1, X1_train, y1_train, cv = cv, scoring = 'accuracy')\n",
    "\n",
    "pd.DataFrame({'RFC kfold' : RFC_kfold1.tolist(),\n",
    "              'SVM kfold' : SVM_kfold1.tolist()})"
   ]
  },
  {
   "cell_type": "code",
   "execution_count": 79,
   "metadata": {},
   "outputs": [
    {
     "data": {
      "image/png": "[encoded data removed]",
      "text/plain": [
       "<Figure size 432x288 with 1 Axes>"
      ]
     },
     "metadata": {
      "needs_background": "light"
     },
     "output_type": "display_data"
    }
   ],
   "source": [
    "learning_curve(RFC1, X1, y1, scoring='accuracy')\n",
    "plt.show()"
   ]
  },
  {
   "cell_type": "code",
   "execution_count": 80,
   "metadata": {},
   "outputs": [
    {
     "data": {
      "image/png": "[encoded data removed]",
      "text/plain": [
       "<Figure size 432x288 with 1 Axes>"
      ]
     },
     "metadata": {
      "needs_background": "light"
     },
     "output_type": "display_data"
    }
   ],
   "source": [
    "learning_curve(SVM1, X1, y1, scoring='accuracy')\n",
    "plt.show()"
   ]
  },
  {
   "cell_type": "code",
   "execution_count": 81,
   "metadata": {},
   "outputs": [
    {
     "data": {
      "text/html": [
       "<div>\n",
       "<style scoped>\n",
       "    .dataframe tbody tr th:only-of-type {\n",
       "        vertical-align: middle;\n",
       "    }\n",
       "\n",
       "    .dataframe tbody tr th {\n",
       "        vertical-align: top;\n",
       "    }\n",
       "\n",
       "    .dataframe thead th {\n",
       "        text-align: right;\n",
       "    }\n",
       "</style>\n",
       "<table border=\"1\" class=\"dataframe\">\n",
       "  <thead>\n",
       "    <tr style=\"text-align: right;\">\n",
       "      <th></th>\n",
       "      <th>Model</th>\n",
       "      <th>Normal</th>\n",
       "      <th>Mean Kfold</th>\n",
       "    </tr>\n",
       "  </thead>\n",
       "  <tbody>\n",
       "    <tr>\n",
       "      <th>0</th>\n",
       "      <td>Random Forest</td>\n",
       "      <td>1.00000</td>\n",
       "      <td>0.836486</td>\n",
       "    </tr>\n",
       "    <tr>\n",
       "      <th>1</th>\n",
       "      <td>Support Vector</td>\n",
       "      <td>0.74342</td>\n",
       "      <td>0.740282</td>\n",
       "    </tr>\n",
       "  </tbody>\n",
       "</table>\n",
       "</div>"
      ],
      "text/plain": [
       "            Model   Normal  Mean Kfold\n",
       "0   Random Forest  1.00000    0.836486\n",
       "1  Support Vector  0.74342    0.740282"
      ]
     },
     "execution_count": 81,
     "metadata": {},
     "output_type": "execute_result"
    }
   ],
   "source": [
    "pd.DataFrame({'Model' : ['Random Forest', 'Support Vector'], \n",
    "                        'Normal': [RFC_score_tr1, SVM_score_tr1], \n",
    "                        'Mean Kfold' : [RFC_kfold1.mean(), SVM_kfold1.mean()]})"
   ]
  },
  {
   "cell_type": "markdown",
   "metadata": {},
   "source": [
    "> Both from `learningcurves()` and **mean kfold** score are also showing the similar result here. Let's check the hyperparameter tuned model."
   ]
  },
  {
   "cell_type": "code",
   "execution_count": 82,
   "metadata": {},
   "outputs": [
    {
     "data": {
      "text/html": [
       "<div>\n",
       "<style scoped>\n",
       "    .dataframe tbody tr th:only-of-type {\n",
       "        vertical-align: middle;\n",
       "    }\n",
       "\n",
       "    .dataframe tbody tr th {\n",
       "        vertical-align: top;\n",
       "    }\n",
       "\n",
       "    .dataframe thead th {\n",
       "        text-align: right;\n",
       "    }\n",
       "</style>\n",
       "<table border=\"1\" class=\"dataframe\">\n",
       "  <thead>\n",
       "    <tr style=\"text-align: right;\">\n",
       "      <th></th>\n",
       "      <th>Hyper RFC kfold</th>\n",
       "      <th>Hyper SVM kfold</th>\n",
       "    </tr>\n",
       "  </thead>\n",
       "  <tbody>\n",
       "    <tr>\n",
       "      <th>0</th>\n",
       "      <td>0.842105</td>\n",
       "      <td>0.751400</td>\n",
       "    </tr>\n",
       "    <tr>\n",
       "      <th>1</th>\n",
       "      <td>0.826428</td>\n",
       "      <td>0.718925</td>\n",
       "    </tr>\n",
       "    <tr>\n",
       "      <th>2</th>\n",
       "      <td>0.837626</td>\n",
       "      <td>0.760358</td>\n",
       "    </tr>\n",
       "    <tr>\n",
       "      <th>3</th>\n",
       "      <td>0.833147</td>\n",
       "      <td>0.737962</td>\n",
       "    </tr>\n",
       "    <tr>\n",
       "      <th>4</th>\n",
       "      <td>0.835386</td>\n",
       "      <td>0.760358</td>\n",
       "    </tr>\n",
       "    <tr>\n",
       "      <th>5</th>\n",
       "      <td>0.844345</td>\n",
       "      <td>0.742441</td>\n",
       "    </tr>\n",
       "    <tr>\n",
       "      <th>6</th>\n",
       "      <td>0.870101</td>\n",
       "      <td>0.781635</td>\n",
       "    </tr>\n",
       "    <tr>\n",
       "      <th>7</th>\n",
       "      <td>0.821948</td>\n",
       "      <td>0.750280</td>\n",
       "    </tr>\n",
       "    <tr>\n",
       "      <th>8</th>\n",
       "      <td>0.846585</td>\n",
       "      <td>0.758119</td>\n",
       "    </tr>\n",
       "    <tr>\n",
       "      <th>9</th>\n",
       "      <td>0.817265</td>\n",
       "      <td>0.718610</td>\n",
       "    </tr>\n",
       "  </tbody>\n",
       "</table>\n",
       "</div>"
      ],
      "text/plain": [
       "   Hyper RFC kfold  Hyper SVM kfold\n",
       "0         0.842105         0.751400\n",
       "1         0.826428         0.718925\n",
       "2         0.837626         0.760358\n",
       "3         0.833147         0.737962\n",
       "4         0.835386         0.760358\n",
       "5         0.844345         0.742441\n",
       "6         0.870101         0.781635\n",
       "7         0.821948         0.750280\n",
       "8         0.846585         0.758119\n",
       "9         0.817265         0.718610"
      ]
     },
     "execution_count": 82,
     "metadata": {},
     "output_type": "execute_result"
    }
   ],
   "source": [
    "# Check overfit on hyperparameter tuned data\n",
    "\n",
    "cv = StratifiedKFold(n_splits = 10, shuffle= True, random_state=0)\n",
    "hyper_RFC_kfold1 = cross_val_score(hyper_RFC1, X1_train, y1_train, cv = cv, scoring = 'accuracy')\n",
    "hyper_SVM_kfold1 = cross_val_score(hyper_SVM1, X1_train, y1_train, cv = cv, scoring = 'accuracy')\n",
    "\n",
    "pd.DataFrame({'Hyper RFC kfold' : hyper_RFC_kfold1.tolist(),\n",
    "              'Hyper SVM kfold' : hyper_SVM_kfold1.tolist()})"
   ]
  },
  {
   "cell_type": "code",
   "execution_count": 83,
   "metadata": {},
   "outputs": [
    {
     "data": {
      "image/png": "[encoded data removed]",
      "text/plain": [
       "<Figure size 432x288 with 1 Axes>"
      ]
     },
     "metadata": {
      "needs_background": "light"
     },
     "output_type": "display_data"
    }
   ],
   "source": [
    "learning_curve(hyper_RFC1, X1, y1, scoring='accuracy')\n",
    "plt.show()"
   ]
  },
  {
   "cell_type": "markdown",
   "metadata": {},
   "source": [
    "> By the looks of it, the hyperparameter tuned model are showing promising result than before."
   ]
  },
  {
   "cell_type": "code",
   "execution_count": 84,
   "metadata": {},
   "outputs": [
    {
     "data": {
      "image/png": "[encoded data removed]",
      "text/plain": [
       "<Figure size 432x288 with 1 Axes>"
      ]
     },
     "metadata": {
      "needs_background": "light"
     },
     "output_type": "display_data"
    }
   ],
   "source": [
    "learning_curve(hyper_SVM1, X1, y1, scoring='accuracy')\n",
    "plt.show()"
   ]
  },
  {
   "cell_type": "code",
   "execution_count": 85,
   "metadata": {},
   "outputs": [
    {
     "data": {
      "text/html": [
       "<div>\n",
       "<style scoped>\n",
       "    .dataframe tbody tr th:only-of-type {\n",
       "        vertical-align: middle;\n",
       "    }\n",
       "\n",
       "    .dataframe tbody tr th {\n",
       "        vertical-align: top;\n",
       "    }\n",
       "\n",
       "    .dataframe thead th {\n",
       "        text-align: right;\n",
       "    }\n",
       "</style>\n",
       "<table border=\"1\" class=\"dataframe\">\n",
       "  <thead>\n",
       "    <tr style=\"text-align: right;\">\n",
       "      <th></th>\n",
       "      <th>Model</th>\n",
       "      <th>Hyper</th>\n",
       "      <th>Mean Kfold</th>\n",
       "    </tr>\n",
       "  </thead>\n",
       "  <tbody>\n",
       "    <tr>\n",
       "      <th>0</th>\n",
       "      <td>Random Forest</td>\n",
       "      <td>0.901333</td>\n",
       "      <td>0.837494</td>\n",
       "    </tr>\n",
       "    <tr>\n",
       "      <th>1</th>\n",
       "      <td>Support Vector</td>\n",
       "      <td>0.751260</td>\n",
       "      <td>0.748009</td>\n",
       "    </tr>\n",
       "  </tbody>\n",
       "</table>\n",
       "</div>"
      ],
      "text/plain": [
       "            Model     Hyper  Mean Kfold\n",
       "0   Random Forest  0.901333    0.837494\n",
       "1  Support Vector  0.751260    0.748009"
      ]
     },
     "execution_count": 85,
     "metadata": {},
     "output_type": "execute_result"
    }
   ],
   "source": [
    "pd.DataFrame({'Model' : ['Random Forest', 'Support Vector'], \n",
    "                        'Hyper': [hyper_RFC_score_tr1, hyper_SVM_score_tr1], \n",
    "                        'Mean Kfold' : [hyper_RFC_kfold1.mean(), hyper_SVM_kfold1.mean()]})"
   ]
  },
  {
   "cell_type": "markdown",
   "metadata": {},
   "source": [
    "> Random Forest models are slightly overfit, but I assume it's still within a tolerable amount."
   ]
  },
  {
   "cell_type": "markdown",
   "metadata": {},
   "source": [
    "### MODEL PREDICTION AND PERFORMANCE EVALUATION - PART 2"
   ]
  },
  {
   "cell_type": "code",
   "execution_count": 86,
   "metadata": {},
   "outputs": [],
   "source": [
    "# Random Forest Classifier\n",
    "yp_RFC1 = hyper_RFC1.predict(X1_test)\n",
    "\n",
    "# Support Vector Machine Classifier\n",
    "yp_SVM1 = hyper_SVM1.predict(X1_test)"
   ]
  },
  {
   "cell_type": "markdown",
   "metadata": {},
   "source": [
    "> Now let's check the performances of each models."
   ]
  },
  {
   "cell_type": "markdown",
   "metadata": {},
   "source": [
    "#### RANDOM FOREST CLASSIFIER"
   ]
  },
  {
   "cell_type": "code",
   "execution_count": 87,
   "metadata": {},
   "outputs": [
    {
     "data": {
      "text/plain": [
       "array([[922, 244],\n",
       "       [169, 898]], dtype=int64)"
      ]
     },
     "execution_count": 87,
     "metadata": {},
     "output_type": "execute_result"
    }
   ],
   "source": [
    "cm_RFC1 = confusion_matrix(y1_test, yp_RFC1)\n",
    "cm_RFC1"
   ]
  },
  {
   "cell_type": "code",
   "execution_count": 88,
   "metadata": {},
   "outputs": [
    {
     "name": "stdout",
     "output_type": "stream",
     "text": [
      "              precision    recall  f1-score   support\n",
      "\n",
      "  Default No       0.85      0.79      0.82      1166\n",
      " Default Yes       0.79      0.84      0.81      1067\n",
      "\n",
      "    accuracy                           0.82      2233\n",
      "   macro avg       0.82      0.82      0.82      2233\n",
      "weighted avg       0.82      0.82      0.82      2233\n",
      "\n"
     ]
    },
    {
     "data": {
      "image/png": "[encoded data removed]",
      "text/plain": [
       "<Figure size 576x360 with 2 Axes>"
      ]
     },
     "metadata": {
      "needs_background": "light"
     },
     "output_type": "display_data"
    }
   ],
   "source": [
    "print(classification_report(y1_test, yp_RFC1, target_names = labels))\n",
    "f, ax = plt.subplots(figsize=(8,5))\n",
    "sns.heatmap(cm_RFC1, annot=True, fmt=\".0f\", ax=ax, cmap = 'Blues')\n",
    "\n",
    "ax.xaxis.set_ticklabels(labels)\n",
    "ax.yaxis.set_ticklabels(labels)\n",
    "\n",
    "plt.title('Random Forest Classifier Matrix')\n",
    "plt.xlabel('PREDICTED')\n",
    "plt.ylabel('ACTUAL')\n",
    "plt.show()"
   ]
  },
  {
   "cell_type": "markdown",
   "metadata": {},
   "source": [
    "> Well, it rather performs better."
   ]
  },
  {
   "cell_type": "markdown",
   "metadata": {},
   "source": [
    "#### SUPPORT VECTOR MACHINE CLASSIFIER"
   ]
  },
  {
   "cell_type": "code",
   "execution_count": 89,
   "metadata": {},
   "outputs": [
    {
     "data": {
      "text/plain": [
       "array([[912, 254],\n",
       "       [332, 735]], dtype=int64)"
      ]
     },
     "execution_count": 89,
     "metadata": {},
     "output_type": "execute_result"
    }
   ],
   "source": [
    "cm_SVM1 = confusion_matrix(y1_test, yp_SVM1)\n",
    "cm_SVM1"
   ]
  },
  {
   "cell_type": "code",
   "execution_count": 90,
   "metadata": {},
   "outputs": [
    {
     "name": "stdout",
     "output_type": "stream",
     "text": [
      "              precision    recall  f1-score   support\n",
      "\n",
      "  Default No       0.73      0.78      0.76      1166\n",
      " Default Yes       0.74      0.69      0.71      1067\n",
      "\n",
      "    accuracy                           0.74      2233\n",
      "   macro avg       0.74      0.74      0.74      2233\n",
      "weighted avg       0.74      0.74      0.74      2233\n",
      "\n"
     ]
    },
    {
     "data": {
      "image/png": "[encoded data removed]",
      "text/plain": [
       "<Figure size 576x360 with 2 Axes>"
      ]
     },
     "metadata": {
      "needs_background": "light"
     },
     "output_type": "display_data"
    }
   ],
   "source": [
    "print(classification_report(y1_test, yp_SVM1, target_names = labels))\n",
    "f, ax = plt.subplots(figsize=(8,5))\n",
    "sns.heatmap(cm_SVM1, annot=True, fmt=\".0f\", ax=ax, cmap = 'Blues')\n",
    "\n",
    "ax.xaxis.set_ticklabels(labels)\n",
    "ax.yaxis.set_ticklabels(labels)\n",
    "\n",
    "plt.title('Support Vector Machine Matrix')\n",
    "plt.xlabel('PREDICTED')\n",
    "plt.ylabel('ACTUAL')\n",
    "plt.show()"
   ]
  },
  {
   "cell_type": "markdown",
   "metadata": {},
   "source": [
    "> The SVM are also still pretty much the same. Although we can see that there are some improvement for this. Nevertheless, let's try to scale the data, maybe the outliers are taking part in this model. We'll use `RobustScaler()`."
   ]
  },
  {
   "cell_type": "markdown",
   "metadata": {},
   "source": [
    "### SCALING"
   ]
  },
  {
   "cell_type": "markdown",
   "metadata": {},
   "source": [
    "> We will scale the continous data so that we'll get the same data scale as well as handling the outliers."
   ]
  },
  {
   "cell_type": "code",
   "execution_count": 91,
   "metadata": {},
   "outputs": [],
   "source": [
    "df_new2 = df_new.copy()"
   ]
  },
  {
   "cell_type": "code",
   "execution_count": 92,
   "metadata": {},
   "outputs": [
    {
     "data": {
      "text/html": [
       "<div>\n",
       "<style scoped>\n",
       "    .dataframe tbody tr th:only-of-type {\n",
       "        vertical-align: middle;\n",
       "    }\n",
       "\n",
       "    .dataframe tbody tr th {\n",
       "        vertical-align: top;\n",
       "    }\n",
       "\n",
       "    .dataframe thead th {\n",
       "        text-align: right;\n",
       "    }\n",
       "</style>\n",
       "<table border=\"1\" class=\"dataframe\">\n",
       "  <thead>\n",
       "    <tr style=\"text-align: right;\">\n",
       "      <th></th>\n",
       "      <th>duration</th>\n",
       "      <th>day</th>\n",
       "      <th>age</th>\n",
       "      <th>balance</th>\n",
       "      <th>campaign</th>\n",
       "      <th>contact_unknown</th>\n",
       "      <th>poutcome</th>\n",
       "      <th>education</th>\n",
       "      <th>housing_yes</th>\n",
       "      <th>pdays</th>\n",
       "      <th>deposit</th>\n",
       "    </tr>\n",
       "  </thead>\n",
       "  <tbody>\n",
       "    <tr>\n",
       "      <th>0</th>\n",
       "      <td>1042</td>\n",
       "      <td>5</td>\n",
       "      <td>59</td>\n",
       "      <td>2343</td>\n",
       "      <td>1</td>\n",
       "      <td>1</td>\n",
       "      <td>3</td>\n",
       "      <td>1</td>\n",
       "      <td>1</td>\n",
       "      <td>0</td>\n",
       "      <td>1</td>\n",
       "    </tr>\n",
       "    <tr>\n",
       "      <th>1</th>\n",
       "      <td>1467</td>\n",
       "      <td>5</td>\n",
       "      <td>56</td>\n",
       "      <td>45</td>\n",
       "      <td>1</td>\n",
       "      <td>1</td>\n",
       "      <td>3</td>\n",
       "      <td>1</td>\n",
       "      <td>0</td>\n",
       "      <td>0</td>\n",
       "      <td>1</td>\n",
       "    </tr>\n",
       "    <tr>\n",
       "      <th>2</th>\n",
       "      <td>1389</td>\n",
       "      <td>5</td>\n",
       "      <td>41</td>\n",
       "      <td>1270</td>\n",
       "      <td>1</td>\n",
       "      <td>1</td>\n",
       "      <td>3</td>\n",
       "      <td>1</td>\n",
       "      <td>1</td>\n",
       "      <td>0</td>\n",
       "      <td>1</td>\n",
       "    </tr>\n",
       "    <tr>\n",
       "      <th>3</th>\n",
       "      <td>579</td>\n",
       "      <td>5</td>\n",
       "      <td>55</td>\n",
       "      <td>2476</td>\n",
       "      <td>1</td>\n",
       "      <td>1</td>\n",
       "      <td>3</td>\n",
       "      <td>1</td>\n",
       "      <td>1</td>\n",
       "      <td>0</td>\n",
       "      <td>1</td>\n",
       "    </tr>\n",
       "    <tr>\n",
       "      <th>4</th>\n",
       "      <td>673</td>\n",
       "      <td>5</td>\n",
       "      <td>54</td>\n",
       "      <td>184</td>\n",
       "      <td>2</td>\n",
       "      <td>1</td>\n",
       "      <td>3</td>\n",
       "      <td>2</td>\n",
       "      <td>0</td>\n",
       "      <td>0</td>\n",
       "      <td>1</td>\n",
       "    </tr>\n",
       "  </tbody>\n",
       "</table>\n",
       "</div>"
      ],
      "text/plain": [
       "   duration  day  age  balance  campaign  contact_unknown  poutcome  \\\n",
       "0      1042    5   59     2343         1                1         3   \n",
       "1      1467    5   56       45         1                1         3   \n",
       "2      1389    5   41     1270         1                1         3   \n",
       "3       579    5   55     2476         1                1         3   \n",
       "4       673    5   54      184         2                1         3   \n",
       "\n",
       "   education  housing_yes  pdays  deposit  \n",
       "0          1            1      0        1  \n",
       "1          1            0      0        1  \n",
       "2          1            1      0        1  \n",
       "3          1            1      0        1  \n",
       "4          2            0      0        1  "
      ]
     },
     "execution_count": 92,
     "metadata": {},
     "output_type": "execute_result"
    }
   ],
   "source": [
    "df_new2.head()"
   ]
  },
  {
   "cell_type": "code",
   "execution_count": 93,
   "metadata": {},
   "outputs": [
    {
     "data": {
      "text/plain": [
       "Index(['age', 'balance', 'day', 'duration', 'campaign', 'pdays'], dtype='object')"
      ]
     },
     "execution_count": 93,
     "metadata": {},
     "output_type": "execute_result"
    }
   ],
   "source": [
    "df_con.columns.intersection(df_new2.columns)"
   ]
  },
  {
   "cell_type": "code",
   "execution_count": 94,
   "metadata": {},
   "outputs": [],
   "source": [
    "for i in df_new2[['age', 'balance', 'day', 'duration', 'campaign', 'pdays']]:\n",
    "    scaler = RobustScaler()\n",
    "    df_new2[i] = scaler.fit_transform(df_new2[[i]])"
   ]
  },
  {
   "cell_type": "code",
   "execution_count": 95,
   "metadata": {},
   "outputs": [
    {
     "data": {
      "text/html": [
       "<div>\n",
       "<style scoped>\n",
       "    .dataframe tbody tr th:only-of-type {\n",
       "        vertical-align: middle;\n",
       "    }\n",
       "\n",
       "    .dataframe tbody tr th {\n",
       "        vertical-align: top;\n",
       "    }\n",
       "\n",
       "    .dataframe thead th {\n",
       "        text-align: right;\n",
       "    }\n",
       "</style>\n",
       "<table border=\"1\" class=\"dataframe\">\n",
       "  <thead>\n",
       "    <tr style=\"text-align: right;\">\n",
       "      <th></th>\n",
       "      <th>duration</th>\n",
       "      <th>day</th>\n",
       "      <th>age</th>\n",
       "      <th>balance</th>\n",
       "      <th>campaign</th>\n",
       "      <th>contact_unknown</th>\n",
       "      <th>poutcome</th>\n",
       "      <th>education</th>\n",
       "      <th>housing_yes</th>\n",
       "      <th>pdays</th>\n",
       "      <th>deposit</th>\n",
       "    </tr>\n",
       "  </thead>\n",
       "  <tbody>\n",
       "    <tr>\n",
       "      <th>0</th>\n",
       "      <td>2.198324</td>\n",
       "      <td>-0.714286</td>\n",
       "      <td>1.176471</td>\n",
       "      <td>1.130517</td>\n",
       "      <td>-0.5</td>\n",
       "      <td>1</td>\n",
       "      <td>3</td>\n",
       "      <td>1</td>\n",
       "      <td>1</td>\n",
       "      <td>0.0</td>\n",
       "      <td>1</td>\n",
       "    </tr>\n",
       "    <tr>\n",
       "      <th>1</th>\n",
       "      <td>3.385475</td>\n",
       "      <td>-0.714286</td>\n",
       "      <td>1.000000</td>\n",
       "      <td>-0.318411</td>\n",
       "      <td>-0.5</td>\n",
       "      <td>1</td>\n",
       "      <td>3</td>\n",
       "      <td>1</td>\n",
       "      <td>0</td>\n",
       "      <td>0.0</td>\n",
       "      <td>1</td>\n",
       "    </tr>\n",
       "    <tr>\n",
       "      <th>2</th>\n",
       "      <td>3.167598</td>\n",
       "      <td>-0.714286</td>\n",
       "      <td>0.117647</td>\n",
       "      <td>0.453972</td>\n",
       "      <td>-0.5</td>\n",
       "      <td>1</td>\n",
       "      <td>3</td>\n",
       "      <td>1</td>\n",
       "      <td>1</td>\n",
       "      <td>0.0</td>\n",
       "      <td>1</td>\n",
       "    </tr>\n",
       "    <tr>\n",
       "      <th>3</th>\n",
       "      <td>0.905028</td>\n",
       "      <td>-0.714286</td>\n",
       "      <td>0.941176</td>\n",
       "      <td>1.214376</td>\n",
       "      <td>-0.5</td>\n",
       "      <td>1</td>\n",
       "      <td>3</td>\n",
       "      <td>1</td>\n",
       "      <td>1</td>\n",
       "      <td>0.0</td>\n",
       "      <td>1</td>\n",
       "    </tr>\n",
       "    <tr>\n",
       "      <th>4</th>\n",
       "      <td>1.167598</td>\n",
       "      <td>-0.714286</td>\n",
       "      <td>0.882353</td>\n",
       "      <td>-0.230769</td>\n",
       "      <td>0.0</td>\n",
       "      <td>1</td>\n",
       "      <td>3</td>\n",
       "      <td>2</td>\n",
       "      <td>0</td>\n",
       "      <td>0.0</td>\n",
       "      <td>1</td>\n",
       "    </tr>\n",
       "  </tbody>\n",
       "</table>\n",
       "</div>"
      ],
      "text/plain": [
       "   duration       day       age   balance  campaign  contact_unknown  \\\n",
       "0  2.198324 -0.714286  1.176471  1.130517      -0.5                1   \n",
       "1  3.385475 -0.714286  1.000000 -0.318411      -0.5                1   \n",
       "2  3.167598 -0.714286  0.117647  0.453972      -0.5                1   \n",
       "3  0.905028 -0.714286  0.941176  1.214376      -0.5                1   \n",
       "4  1.167598 -0.714286  0.882353 -0.230769       0.0                1   \n",
       "\n",
       "   poutcome  education  housing_yes  pdays  deposit  \n",
       "0         3          1            1    0.0        1  \n",
       "1         3          1            0    0.0        1  \n",
       "2         3          1            1    0.0        1  \n",
       "3         3          1            1    0.0        1  \n",
       "4         3          2            0    0.0        1  "
      ]
     },
     "execution_count": 95,
     "metadata": {},
     "output_type": "execute_result"
    }
   ],
   "source": [
    "df_new2.head()"
   ]
  },
  {
   "cell_type": "markdown",
   "metadata": {},
   "source": [
    "> We've successfully scaled the data. "
   ]
  },
  {
   "cell_type": "markdown",
   "metadata": {},
   "source": [
    "### SPLIT DATA FOR MODELLING - PART 3"
   ]
  },
  {
   "cell_type": "code",
   "execution_count": 96,
   "metadata": {},
   "outputs": [],
   "source": [
    "X2 = df_new2.drop(['deposit'], axis = 1)\n",
    "y2 = df_new2['deposit']"
   ]
  },
  {
   "cell_type": "code",
   "execution_count": 97,
   "metadata": {},
   "outputs": [],
   "source": [
    "#Split train data 80%, test data 20%\n",
    "\n",
    "X2_train, X2_test, y2_train, y2_test = train_test_split(X2, y2, train_size = .8, random_state = 42)"
   ]
  },
  {
   "cell_type": "markdown",
   "metadata": {},
   "source": [
    "### MODEL PREPARATION - PART 3"
   ]
  },
  {
   "cell_type": "code",
   "execution_count": 98,
   "metadata": {},
   "outputs": [],
   "source": [
    "# Random Forest Classifier model with default parameter\n",
    "\n",
    "RFC2 = RandomForestClassifier().fit(X2_train, y2_train)\n",
    "\n",
    "# Support Vector Machine Classifier with default parameter\n",
    "\n",
    "SVM2 = SVC(kernel = 'rbf').fit(X2_train, y2_train)"
   ]
  },
  {
   "cell_type": "code",
   "execution_count": 99,
   "metadata": {},
   "outputs": [],
   "source": [
    "# Random Forest Classifier model with previously tuned hyperparameter\n",
    "\n",
    "hyper_RFC2 = RandomForestClassifier(n_estimators = 500, min_samples_split = 10, min_samples_leaf = 4, max_depth = 40).fit(X2_train, y2_train)\n",
    "\n",
    "# Support Vector Machine Classifier model with previously tuned hyperparameter\n",
    "\n",
    "hyper_SVM2 = SVC(kernel='rbf', gamma = 'scale', C = 10).fit(X2_train, y2_train)"
   ]
  },
  {
   "cell_type": "markdown",
   "metadata": {},
   "source": [
    "### CROSS VALIDATION - PART 3"
   ]
  },
  {
   "cell_type": "code",
   "execution_count": 100,
   "metadata": {},
   "outputs": [],
   "source": [
    "# Train data\n",
    "\n",
    "RFC_score_tr2 = RFC2.score(X2_train, y2_train)\n",
    "SVM_score_tr2 = SVM2.score(X2_train, y2_train)\n",
    "hyper_RFC_score_tr2 = hyper_RFC2.score(X2_train, y2_train)\n",
    "hyper_SVM_score_tr2 = hyper_SVM2.score(X2_train, y2_train)"
   ]
  },
  {
   "cell_type": "code",
   "execution_count": 101,
   "metadata": {},
   "outputs": [],
   "source": [
    "# Test data\n",
    "\n",
    "RFC_score_ts2 = RFC2.score(X2_test, y2_test)\n",
    "SVM_score_ts2 = SVM2.score(X2_test, y2_test)\n",
    "hyper_RFC_score_ts2 = hyper_RFC2.score(X2_test, y2_test)\n",
    "hyper_SVM_score_ts2 = hyper_SVM2.score(X2_test, y2_test)"
   ]
  },
  {
   "cell_type": "code",
   "execution_count": 102,
   "metadata": {},
   "outputs": [],
   "source": [
    "train_score2 = pd.DataFrame({'Model' : ['Random Forest', 'Support Vector'], \n",
    "                            'Normal': [RFC_score_tr2, SVM_score_tr2], \n",
    "                            'Hyper' : [hyper_RFC_score_tr2, hyper_SVM_score_tr2]})"
   ]
  },
  {
   "cell_type": "code",
   "execution_count": 103,
   "metadata": {},
   "outputs": [],
   "source": [
    "test_score2 = pd.DataFrame({'Model' : ['Random Forest', 'Support Vector'], \n",
    "                           'Normal': [RFC_score_ts2, SVM_score_ts2], \n",
    "                           'Hyper' : [hyper_RFC_score_ts2, hyper_SVM_score_ts2]})"
   ]
  },
  {
   "cell_type": "code",
   "execution_count": 104,
   "metadata": {
    "scrolled": true
   },
   "outputs": [
    {
     "data": {
      "text/html": [
       "<div>\n",
       "<style scoped>\n",
       "    .dataframe tbody tr th:only-of-type {\n",
       "        vertical-align: middle;\n",
       "    }\n",
       "\n",
       "    .dataframe tbody tr th {\n",
       "        vertical-align: top;\n",
       "    }\n",
       "\n",
       "    .dataframe thead th {\n",
       "        text-align: right;\n",
       "    }\n",
       "</style>\n",
       "<table border=\"1\" class=\"dataframe\">\n",
       "  <thead>\n",
       "    <tr style=\"text-align: right;\">\n",
       "      <th></th>\n",
       "      <th></th>\n",
       "      <th>Model</th>\n",
       "      <th>Normal</th>\n",
       "      <th>Hyper</th>\n",
       "    </tr>\n",
       "  </thead>\n",
       "  <tbody>\n",
       "    <tr>\n",
       "      <th rowspan=\"2\" valign=\"top\">Train Score</th>\n",
       "      <th>0</th>\n",
       "      <td>Random Forest</td>\n",
       "      <td>1.000000</td>\n",
       "      <td>0.902789</td>\n",
       "    </tr>\n",
       "    <tr>\n",
       "      <th>1</th>\n",
       "      <td>Support Vector</td>\n",
       "      <td>0.816777</td>\n",
       "      <td>0.827304</td>\n",
       "    </tr>\n",
       "    <tr>\n",
       "      <th rowspan=\"2\" valign=\"top\">Test Score</th>\n",
       "      <th>0</th>\n",
       "      <td>Random Forest</td>\n",
       "      <td>0.801164</td>\n",
       "      <td>0.807882</td>\n",
       "    </tr>\n",
       "    <tr>\n",
       "      <th>1</th>\n",
       "      <td>Support Vector</td>\n",
       "      <td>0.800717</td>\n",
       "      <td>0.810569</td>\n",
       "    </tr>\n",
       "  </tbody>\n",
       "</table>\n",
       "</div>"
      ],
      "text/plain": [
       "                        Model    Normal     Hyper\n",
       "Train Score 0   Random Forest  1.000000  0.902789\n",
       "            1  Support Vector  0.816777  0.827304\n",
       "Test Score  0   Random Forest  0.801164  0.807882\n",
       "            1  Support Vector  0.800717  0.810569"
      ]
     },
     "execution_count": 104,
     "metadata": {},
     "output_type": "execute_result"
    }
   ],
   "source": [
    "pd.concat([train_score2, test_score2], keys = ['Train Score', 'Test Score'])"
   ]
  },
  {
   "cell_type": "markdown",
   "metadata": {},
   "source": [
    "> Again, we can still see the overfitting. But the accuracy score are higher."
   ]
  },
  {
   "cell_type": "code",
   "execution_count": 105,
   "metadata": {},
   "outputs": [
    {
     "data": {
      "text/html": [
       "<div>\n",
       "<style scoped>\n",
       "    .dataframe tbody tr th:only-of-type {\n",
       "        vertical-align: middle;\n",
       "    }\n",
       "\n",
       "    .dataframe tbody tr th {\n",
       "        vertical-align: top;\n",
       "    }\n",
       "\n",
       "    .dataframe thead th {\n",
       "        text-align: right;\n",
       "    }\n",
       "</style>\n",
       "<table border=\"1\" class=\"dataframe\">\n",
       "  <thead>\n",
       "    <tr style=\"text-align: right;\">\n",
       "      <th></th>\n",
       "      <th>RFC kfold</th>\n",
       "      <th>SVM kfold</th>\n",
       "    </tr>\n",
       "  </thead>\n",
       "  <tbody>\n",
       "    <tr>\n",
       "      <th>0</th>\n",
       "      <td>0.833147</td>\n",
       "      <td>0.812990</td>\n",
       "    </tr>\n",
       "    <tr>\n",
       "      <th>1</th>\n",
       "      <td>0.817469</td>\n",
       "      <td>0.810750</td>\n",
       "    </tr>\n",
       "    <tr>\n",
       "      <th>2</th>\n",
       "      <td>0.828667</td>\n",
       "      <td>0.820829</td>\n",
       "    </tr>\n",
       "    <tr>\n",
       "      <th>3</th>\n",
       "      <td>0.821948</td>\n",
       "      <td>0.804031</td>\n",
       "    </tr>\n",
       "    <tr>\n",
       "      <th>4</th>\n",
       "      <td>0.824188</td>\n",
       "      <td>0.810750</td>\n",
       "    </tr>\n",
       "    <tr>\n",
       "      <th>5</th>\n",
       "      <td>0.824188</td>\n",
       "      <td>0.814110</td>\n",
       "    </tr>\n",
       "    <tr>\n",
       "      <th>6</th>\n",
       "      <td>0.853303</td>\n",
       "      <td>0.833147</td>\n",
       "    </tr>\n",
       "    <tr>\n",
       "      <th>7</th>\n",
       "      <td>0.805151</td>\n",
       "      <td>0.801792</td>\n",
       "    </tr>\n",
       "    <tr>\n",
       "      <th>8</th>\n",
       "      <td>0.836506</td>\n",
       "      <td>0.821948</td>\n",
       "    </tr>\n",
       "    <tr>\n",
       "      <th>9</th>\n",
       "      <td>0.800448</td>\n",
       "      <td>0.784753</td>\n",
       "    </tr>\n",
       "  </tbody>\n",
       "</table>\n",
       "</div>"
      ],
      "text/plain": [
       "   RFC kfold  SVM kfold\n",
       "0   0.833147   0.812990\n",
       "1   0.817469   0.810750\n",
       "2   0.828667   0.820829\n",
       "3   0.821948   0.804031\n",
       "4   0.824188   0.810750\n",
       "5   0.824188   0.814110\n",
       "6   0.853303   0.833147\n",
       "7   0.805151   0.801792\n",
       "8   0.836506   0.821948\n",
       "9   0.800448   0.784753"
      ]
     },
     "execution_count": 105,
     "metadata": {},
     "output_type": "execute_result"
    }
   ],
   "source": [
    "# Check overfit on default data\n",
    "\n",
    "cv = StratifiedKFold(n_splits = 10, shuffle= True, random_state=0)\n",
    "RFC_kfold2 = cross_val_score(RFC, X2_train, y2_train, cv = cv, scoring = 'accuracy')\n",
    "SVM_kfold2 = cross_val_score(SVM, X2_train, y2_train, cv = cv, scoring = 'accuracy')\n",
    "\n",
    "pd.DataFrame({'RFC kfold' : RFC_kfold2.tolist(),\n",
    "              'SVM kfold' : SVM_kfold2.tolist()})"
   ]
  },
  {
   "cell_type": "code",
   "execution_count": 106,
   "metadata": {},
   "outputs": [
    {
     "data": {
      "image/png": "[encoded data removed]",
      "text/plain": [
       "<Figure size 432x288 with 1 Axes>"
      ]
     },
     "metadata": {
      "needs_background": "light"
     },
     "output_type": "display_data"
    }
   ],
   "source": [
    "learning_curve(RFC2, X2, y2, scoring='accuracy')\n",
    "plt.show()"
   ]
  },
  {
   "cell_type": "code",
   "execution_count": 107,
   "metadata": {},
   "outputs": [
    {
     "data": {
      "image/png": "[encoded data removed]",
      "text/plain": [
       "<Figure size 432x288 with 1 Axes>"
      ]
     },
     "metadata": {
      "needs_background": "light"
     },
     "output_type": "display_data"
    }
   ],
   "source": [
    "learning_curve(SVM2, X2, y2, scoring='accuracy')\n",
    "plt.show()"
   ]
  },
  {
   "cell_type": "code",
   "execution_count": 108,
   "metadata": {},
   "outputs": [
    {
     "data": {
      "text/html": [
       "<div>\n",
       "<style scoped>\n",
       "    .dataframe tbody tr th:only-of-type {\n",
       "        vertical-align: middle;\n",
       "    }\n",
       "\n",
       "    .dataframe tbody tr th {\n",
       "        vertical-align: top;\n",
       "    }\n",
       "\n",
       "    .dataframe thead th {\n",
       "        text-align: right;\n",
       "    }\n",
       "</style>\n",
       "<table border=\"1\" class=\"dataframe\">\n",
       "  <thead>\n",
       "    <tr style=\"text-align: right;\">\n",
       "      <th></th>\n",
       "      <th>Model</th>\n",
       "      <th>Normal</th>\n",
       "      <th>Mean Kfold</th>\n",
       "    </tr>\n",
       "  </thead>\n",
       "  <tbody>\n",
       "    <tr>\n",
       "      <th>0</th>\n",
       "      <td>Random Forest</td>\n",
       "      <td>1.000000</td>\n",
       "      <td>0.824502</td>\n",
       "    </tr>\n",
       "    <tr>\n",
       "      <th>1</th>\n",
       "      <td>Support Vector</td>\n",
       "      <td>0.816777</td>\n",
       "      <td>0.811510</td>\n",
       "    </tr>\n",
       "  </tbody>\n",
       "</table>\n",
       "</div>"
      ],
      "text/plain": [
       "            Model    Normal  Mean Kfold\n",
       "0   Random Forest  1.000000    0.824502\n",
       "1  Support Vector  0.816777    0.811510"
      ]
     },
     "execution_count": 108,
     "metadata": {},
     "output_type": "execute_result"
    }
   ],
   "source": [
    "pd.DataFrame({'Model' : ['Random Forest', 'Support Vector'], \n",
    "                        'Normal': [RFC_score_tr2, SVM_score_tr2], \n",
    "                        'Mean Kfold' : [RFC_kfold2.mean(), SVM_kfold2.mean()]})"
   ]
  },
  {
   "cell_type": "markdown",
   "metadata": {},
   "source": [
    "> Both from `learningcurves()` and **mean kfold** score are also showing the similar result here. Let's check the hyperparameter tuned model."
   ]
  },
  {
   "cell_type": "code",
   "execution_count": 109,
   "metadata": {},
   "outputs": [
    {
     "data": {
      "text/html": [
       "<div>\n",
       "<style scoped>\n",
       "    .dataframe tbody tr th:only-of-type {\n",
       "        vertical-align: middle;\n",
       "    }\n",
       "\n",
       "    .dataframe tbody tr th {\n",
       "        vertical-align: top;\n",
       "    }\n",
       "\n",
       "    .dataframe thead th {\n",
       "        text-align: right;\n",
       "    }\n",
       "</style>\n",
       "<table border=\"1\" class=\"dataframe\">\n",
       "  <thead>\n",
       "    <tr style=\"text-align: right;\">\n",
       "      <th></th>\n",
       "      <th>Hyper RFC kfold</th>\n",
       "      <th>Hyper SVM kfold</th>\n",
       "    </tr>\n",
       "  </thead>\n",
       "  <tbody>\n",
       "    <tr>\n",
       "      <th>0</th>\n",
       "      <td>0.830907</td>\n",
       "      <td>0.750280</td>\n",
       "    </tr>\n",
       "    <tr>\n",
       "      <th>1</th>\n",
       "      <td>0.810750</td>\n",
       "      <td>0.718925</td>\n",
       "    </tr>\n",
       "    <tr>\n",
       "      <th>2</th>\n",
       "      <td>0.828667</td>\n",
       "      <td>0.759239</td>\n",
       "    </tr>\n",
       "    <tr>\n",
       "      <th>3</th>\n",
       "      <td>0.828667</td>\n",
       "      <td>0.737962</td>\n",
       "    </tr>\n",
       "    <tr>\n",
       "      <th>4</th>\n",
       "      <td>0.827548</td>\n",
       "      <td>0.760358</td>\n",
       "    </tr>\n",
       "    <tr>\n",
       "      <th>5</th>\n",
       "      <td>0.834267</td>\n",
       "      <td>0.742441</td>\n",
       "    </tr>\n",
       "    <tr>\n",
       "      <th>6</th>\n",
       "      <td>0.852184</td>\n",
       "      <td>0.781635</td>\n",
       "    </tr>\n",
       "    <tr>\n",
       "      <th>7</th>\n",
       "      <td>0.815230</td>\n",
       "      <td>0.750280</td>\n",
       "    </tr>\n",
       "    <tr>\n",
       "      <th>8</th>\n",
       "      <td>0.840985</td>\n",
       "      <td>0.756999</td>\n",
       "    </tr>\n",
       "    <tr>\n",
       "      <th>9</th>\n",
       "      <td>0.807175</td>\n",
       "      <td>0.718610</td>\n",
       "    </tr>\n",
       "  </tbody>\n",
       "</table>\n",
       "</div>"
      ],
      "text/plain": [
       "   Hyper RFC kfold  Hyper SVM kfold\n",
       "0         0.830907         0.750280\n",
       "1         0.810750         0.718925\n",
       "2         0.828667         0.759239\n",
       "3         0.828667         0.737962\n",
       "4         0.827548         0.760358\n",
       "5         0.834267         0.742441\n",
       "6         0.852184         0.781635\n",
       "7         0.815230         0.750280\n",
       "8         0.840985         0.756999\n",
       "9         0.807175         0.718610"
      ]
     },
     "execution_count": 109,
     "metadata": {},
     "output_type": "execute_result"
    }
   ],
   "source": [
    "# Check overfit on hyperparameter tuned data\n",
    "\n",
    "cv = StratifiedKFold(n_splits = 10, shuffle= True, random_state=0)\n",
    "hyper_RFC_kfold2 = cross_val_score(hyper_RFC2, X_train, y2_train, cv = cv, scoring = 'accuracy')\n",
    "hyper_SVM_kfold2 = cross_val_score(hyper_SVM2, X_train, y2_train, cv = cv, scoring = 'accuracy')\n",
    "\n",
    "pd.DataFrame({'Hyper RFC kfold' : hyper_RFC_kfold2.tolist(),\n",
    "              'Hyper SVM kfold' : hyper_SVM_kfold2.tolist()})"
   ]
  },
  {
   "cell_type": "code",
   "execution_count": 110,
   "metadata": {},
   "outputs": [
    {
     "data": {
      "image/png": "[encoded data removed]",
      "text/plain": [
       "<Figure size 432x288 with 1 Axes>"
      ]
     },
     "metadata": {
      "needs_background": "light"
     },
     "output_type": "display_data"
    }
   ],
   "source": [
    "learning_curve(hyper_RFC2, X2, y2, scoring='accuracy')\n",
    "plt.show()"
   ]
  },
  {
   "cell_type": "markdown",
   "metadata": {},
   "source": [
    "> The hyperparameter tuned Random Forest model are also showing promising result just like before."
   ]
  },
  {
   "cell_type": "code",
   "execution_count": 111,
   "metadata": {},
   "outputs": [
    {
     "data": {
      "image/png": "[encoded data removed]",
      "text/plain": [
       "<Figure size 432x288 with 1 Axes>"
      ]
     },
     "metadata": {
      "needs_background": "light"
     },
     "output_type": "display_data"
    }
   ],
   "source": [
    "learning_curve(hyper_SVM2, X2, y2, scoring='accuracy')\n",
    "plt.show()"
   ]
  },
  {
   "cell_type": "code",
   "execution_count": 112,
   "metadata": {},
   "outputs": [
    {
     "data": {
      "text/html": [
       "<div>\n",
       "<style scoped>\n",
       "    .dataframe tbody tr th:only-of-type {\n",
       "        vertical-align: middle;\n",
       "    }\n",
       "\n",
       "    .dataframe tbody tr th {\n",
       "        vertical-align: top;\n",
       "    }\n",
       "\n",
       "    .dataframe thead th {\n",
       "        text-align: right;\n",
       "    }\n",
       "</style>\n",
       "<table border=\"1\" class=\"dataframe\">\n",
       "  <thead>\n",
       "    <tr style=\"text-align: right;\">\n",
       "      <th></th>\n",
       "      <th>Model</th>\n",
       "      <th>Hyper</th>\n",
       "      <th>Mean Kfold</th>\n",
       "    </tr>\n",
       "  </thead>\n",
       "  <tbody>\n",
       "    <tr>\n",
       "      <th>0</th>\n",
       "      <td>Random Forest</td>\n",
       "      <td>0.902789</td>\n",
       "      <td>0.827638</td>\n",
       "    </tr>\n",
       "    <tr>\n",
       "      <th>1</th>\n",
       "      <td>Support Vector</td>\n",
       "      <td>0.827304</td>\n",
       "      <td>0.747673</td>\n",
       "    </tr>\n",
       "  </tbody>\n",
       "</table>\n",
       "</div>"
      ],
      "text/plain": [
       "            Model     Hyper  Mean Kfold\n",
       "0   Random Forest  0.902789    0.827638\n",
       "1  Support Vector  0.827304    0.747673"
      ]
     },
     "execution_count": 112,
     "metadata": {},
     "output_type": "execute_result"
    }
   ],
   "source": [
    "pd.DataFrame({'Model' : ['Random Forest', 'Support Vector'], \n",
    "                        'Hyper': [hyper_RFC_score_tr2, hyper_SVM_score_tr2], \n",
    "                        'Mean Kfold' : [hyper_RFC_kfold2.mean(), hyper_SVM_kfold2.mean()]})"
   ]
  },
  {
   "cell_type": "markdown",
   "metadata": {},
   "source": [
    "> Both models are slightly overfit by using hyperparameter. But it's still tolerable."
   ]
  },
  {
   "cell_type": "markdown",
   "metadata": {},
   "source": [
    "### MODEL PREDICTION AND PERFORMANCE EVALUATION - PART 3"
   ]
  },
  {
   "cell_type": "code",
   "execution_count": 113,
   "metadata": {},
   "outputs": [],
   "source": [
    "# Random Forest Classifier\n",
    "yp_RFC2 = hyper_RFC2.predict(X2_test)\n",
    "\n",
    "# Support Vector Machine Classifier\n",
    "yp_SVM2 = hyper_SVM2.predict(X2_test)"
   ]
  },
  {
   "cell_type": "markdown",
   "metadata": {},
   "source": [
    "> Now let's check the performances of each models."
   ]
  },
  {
   "cell_type": "markdown",
   "metadata": {},
   "source": [
    "#### RANDOM FOREST CLASSIFIER"
   ]
  },
  {
   "cell_type": "code",
   "execution_count": 114,
   "metadata": {},
   "outputs": [
    {
     "data": {
      "text/plain": [
       "array([[918, 248],\n",
       "       [181, 886]], dtype=int64)"
      ]
     },
     "execution_count": 114,
     "metadata": {},
     "output_type": "execute_result"
    }
   ],
   "source": [
    "cm_RFC2 = confusion_matrix(y2_test, yp_RFC2)\n",
    "cm_RFC2"
   ]
  },
  {
   "cell_type": "code",
   "execution_count": 115,
   "metadata": {},
   "outputs": [
    {
     "name": "stdout",
     "output_type": "stream",
     "text": [
      "              precision    recall  f1-score   support\n",
      "\n",
      "  Default No       0.84      0.79      0.81      1166\n",
      " Default Yes       0.78      0.83      0.81      1067\n",
      "\n",
      "    accuracy                           0.81      2233\n",
      "   macro avg       0.81      0.81      0.81      2233\n",
      "weighted avg       0.81      0.81      0.81      2233\n",
      "\n"
     ]
    },
    {
     "data": {
      "image/png": "[encoded data removed]",
      "text/plain": [
       "<Figure size 576x360 with 2 Axes>"
      ]
     },
     "metadata": {
      "needs_background": "light"
     },
     "output_type": "display_data"
    }
   ],
   "source": [
    "print(classification_report(y2_test, yp_RFC2, target_names = labels))\n",
    "f, ax = plt.subplots(figsize=(8,5))\n",
    "sns.heatmap(cm_RFC2, annot=True, fmt=\".0f\", ax=ax, cmap = 'Blues')\n",
    "\n",
    "ax.xaxis.set_ticklabels(labels)\n",
    "ax.yaxis.set_ticklabels(labels)\n",
    "\n",
    "plt.title('Random Forest Classifier Matrix')\n",
    "plt.xlabel('PREDICTED')\n",
    "plt.ylabel('ACTUAL')\n",
    "plt.show()"
   ]
  },
  {
   "cell_type": "markdown",
   "metadata": {},
   "source": [
    "> Again, Random Forest still performs good."
   ]
  },
  {
   "cell_type": "markdown",
   "metadata": {},
   "source": [
    "#### SUPPORT VECTOR MACHINE CLASSIFIER"
   ]
  },
  {
   "cell_type": "code",
   "execution_count": 116,
   "metadata": {},
   "outputs": [
    {
     "data": {
      "text/plain": [
       "array([[939, 227],\n",
       "       [196, 871]], dtype=int64)"
      ]
     },
     "execution_count": 116,
     "metadata": {},
     "output_type": "execute_result"
    }
   ],
   "source": [
    "cm_SVM2 = confusion_matrix(y2_test, yp_SVM2)\n",
    "cm_SVM2"
   ]
  },
  {
   "cell_type": "code",
   "execution_count": 117,
   "metadata": {},
   "outputs": [
    {
     "name": "stdout",
     "output_type": "stream",
     "text": [
      "              precision    recall  f1-score   support\n",
      "\n",
      "  Default No       0.83      0.81      0.82      1166\n",
      " Default Yes       0.79      0.82      0.80      1067\n",
      "\n",
      "    accuracy                           0.81      2233\n",
      "   macro avg       0.81      0.81      0.81      2233\n",
      "weighted avg       0.81      0.81      0.81      2233\n",
      "\n"
     ]
    },
    {
     "data": {
      "image/png": "[encoded data removed]",
      "text/plain": [
       "<Figure size 576x360 with 2 Axes>"
      ]
     },
     "metadata": {
      "needs_background": "light"
     },
     "output_type": "display_data"
    }
   ],
   "source": [
    "print(classification_report(y2_test, yp_SVM2, target_names = labels))\n",
    "f, ax = plt.subplots(figsize=(8,5))\n",
    "sns.heatmap(cm_SVM2, annot=True, fmt=\".0f\", ax=ax, cmap = 'Blues')\n",
    "\n",
    "ax.xaxis.set_ticklabels(labels)\n",
    "ax.yaxis.set_ticklabels(labels)\n",
    "\n",
    "plt.title('Support Vector Machine Matrix')\n",
    "plt.xlabel('PREDICTED')\n",
    "plt.ylabel('ACTUAL')\n",
    "plt.show()"
   ]
  },
  {
   "cell_type": "markdown",
   "metadata": {},
   "source": [
    "> Apparently after using scaler, SVM models performed far better. This means that maybe the outliers are influencing on performances of the SVM models. There are still a lot more variation we can do, but I think this far is enough. We've got our best model to predict this case."
   ]
  },
  {
   "cell_type": "markdown",
   "metadata": {},
   "source": [
    "### MODEL COMPARISON"
   ]
  },
  {
   "cell_type": "markdown",
   "metadata": {},
   "source": [
    "> Finally we'll compare the result on our best models."
   ]
  },
  {
   "cell_type": "code",
   "execution_count": 118,
   "metadata": {},
   "outputs": [],
   "source": [
    "report_RFC = pd.DataFrame(classification_report(y1_test, yp_RFC1, target_names = labels, output_dict = True)).T\n",
    "report_SVM = pd.DataFrame(classification_report(y2_test, yp_SVM2, target_names = labels, output_dict = True)).T"
   ]
  },
  {
   "cell_type": "code",
   "execution_count": 119,
   "metadata": {},
   "outputs": [
    {
     "data": {
      "image/png": "[encoded data removed]",
      "text/plain": [
       "<Figure size 1152x432 with 4 Axes>"
      ]
     },
     "metadata": {
      "needs_background": "light"
     },
     "output_type": "display_data"
    }
   ],
   "source": [
    "fig, (ax1,ax2) = plt.subplots(1,2, figsize=(16,6))\n",
    "\n",
    "sns.heatmap(cm_RFC1, annot=True, fmt=\".0f\", ax=ax1, cmap='Blues')\n",
    "sns.heatmap(cm_SVM2, annot=True, fmt=\".0f\", ax=ax2, cmap = 'Blues')\n",
    "\n",
    "ax1.xaxis.set_ticklabels(labels), ax1.yaxis.set_ticklabels(labels)\n",
    "ax2.xaxis.set_ticklabels(labels), ax2.yaxis.set_ticklabels(labels)\n",
    "\n",
    "ax1.set_title('Random Forest Classifier Unscaled'), ax2.set_title('Support Vector Classifier Scaled')\n",
    "ax1.set_xlabel('PREDICTED'), ax2.set_xlabel('PREDICTED')\n",
    "ax1.set_ylabel('ACTUAL'), ax2.set_ylabel('ACTUAL')\n",
    "\n",
    "plt.show()"
   ]
  },
  {
   "cell_type": "code",
   "execution_count": 120,
   "metadata": {},
   "outputs": [
    {
     "data": {
      "text/html": [
       "<div>\n",
       "<style scoped>\n",
       "    .dataframe tbody tr th:only-of-type {\n",
       "        vertical-align: middle;\n",
       "    }\n",
       "\n",
       "    .dataframe tbody tr th {\n",
       "        vertical-align: top;\n",
       "    }\n",
       "\n",
       "    .dataframe thead th {\n",
       "        text-align: right;\n",
       "    }\n",
       "</style>\n",
       "<table border=\"1\" class=\"dataframe\">\n",
       "  <thead>\n",
       "    <tr style=\"text-align: right;\">\n",
       "      <th></th>\n",
       "      <th></th>\n",
       "      <th>precision</th>\n",
       "      <th>recall</th>\n",
       "      <th>f1-score</th>\n",
       "      <th>support</th>\n",
       "    </tr>\n",
       "  </thead>\n",
       "  <tbody>\n",
       "    <tr>\n",
       "      <th rowspan=\"5\" valign=\"top\">Random Forest Unscaled</th>\n",
       "      <th>Default No</th>\n",
       "      <td>0.845096</td>\n",
       "      <td>0.790738</td>\n",
       "      <td>0.817014</td>\n",
       "      <td>1166.000000</td>\n",
       "    </tr>\n",
       "    <tr>\n",
       "      <th>Default Yes</th>\n",
       "      <td>0.786340</td>\n",
       "      <td>0.841612</td>\n",
       "      <td>0.813038</td>\n",
       "      <td>1067.000000</td>\n",
       "    </tr>\n",
       "    <tr>\n",
       "      <th>accuracy</th>\n",
       "      <td>0.815047</td>\n",
       "      <td>0.815047</td>\n",
       "      <td>0.815047</td>\n",
       "      <td>0.815047</td>\n",
       "    </tr>\n",
       "    <tr>\n",
       "      <th>macro avg</th>\n",
       "      <td>0.815718</td>\n",
       "      <td>0.816175</td>\n",
       "      <td>0.815026</td>\n",
       "      <td>2233.000000</td>\n",
       "    </tr>\n",
       "    <tr>\n",
       "      <th>weighted avg</th>\n",
       "      <td>0.817020</td>\n",
       "      <td>0.815047</td>\n",
       "      <td>0.815114</td>\n",
       "      <td>2233.000000</td>\n",
       "    </tr>\n",
       "    <tr>\n",
       "      <th rowspan=\"5\" valign=\"top\">Support Vector Scaled</th>\n",
       "      <th>Default No</th>\n",
       "      <td>0.827313</td>\n",
       "      <td>0.805317</td>\n",
       "      <td>0.816167</td>\n",
       "      <td>1166.000000</td>\n",
       "    </tr>\n",
       "    <tr>\n",
       "      <th>Default Yes</th>\n",
       "      <td>0.793260</td>\n",
       "      <td>0.816307</td>\n",
       "      <td>0.804619</td>\n",
       "      <td>1067.000000</td>\n",
       "    </tr>\n",
       "    <tr>\n",
       "      <th>accuracy</th>\n",
       "      <td>0.810569</td>\n",
       "      <td>0.810569</td>\n",
       "      <td>0.810569</td>\n",
       "      <td>0.810569</td>\n",
       "    </tr>\n",
       "    <tr>\n",
       "      <th>macro avg</th>\n",
       "      <td>0.810287</td>\n",
       "      <td>0.810812</td>\n",
       "      <td>0.810393</td>\n",
       "      <td>2233.000000</td>\n",
       "    </tr>\n",
       "    <tr>\n",
       "      <th>weighted avg</th>\n",
       "      <td>0.811041</td>\n",
       "      <td>0.810569</td>\n",
       "      <td>0.810649</td>\n",
       "      <td>2233.000000</td>\n",
       "    </tr>\n",
       "  </tbody>\n",
       "</table>\n",
       "</div>"
      ],
      "text/plain": [
       "                                     precision    recall  f1-score  \\\n",
       "Random Forest Unscaled Default No     0.845096  0.790738  0.817014   \n",
       "                       Default Yes    0.786340  0.841612  0.813038   \n",
       "                       accuracy       0.815047  0.815047  0.815047   \n",
       "                       macro avg      0.815718  0.816175  0.815026   \n",
       "                       weighted avg   0.817020  0.815047  0.815114   \n",
       "Support Vector Scaled  Default No     0.827313  0.805317  0.816167   \n",
       "                       Default Yes    0.793260  0.816307  0.804619   \n",
       "                       accuracy       0.810569  0.810569  0.810569   \n",
       "                       macro avg      0.810287  0.810812  0.810393   \n",
       "                       weighted avg   0.811041  0.810569  0.810649   \n",
       "\n",
       "                                         support  \n",
       "Random Forest Unscaled Default No    1166.000000  \n",
       "                       Default Yes   1067.000000  \n",
       "                       accuracy         0.815047  \n",
       "                       macro avg     2233.000000  \n",
       "                       weighted avg  2233.000000  \n",
       "Support Vector Scaled  Default No    1166.000000  \n",
       "                       Default Yes   1067.000000  \n",
       "                       accuracy         0.810569  \n",
       "                       macro avg     2233.000000  \n",
       "                       weighted avg  2233.000000  "
      ]
     },
     "execution_count": 120,
     "metadata": {},
     "output_type": "execute_result"
    }
   ],
   "source": [
    "pd.concat([report_RFC, report_SVM], keys = ['Random Forest Unscaled', 'Support Vector Scaled'])"
   ]
  },
  {
   "cell_type": "markdown",
   "metadata": {},
   "source": [
    "> In conclusion, by comparing both result above we can say that **Support Vector Machine** model performed better with the **scaled data**, while the **Random Forest** model are better leave with **unscaled data**. Both are the best model algorithm to predict this dataset on their respective conditions."
   ]
  }
 ],
 "metadata": {
  "kernelspec": {
   "display_name": "Python 3",
   "language": "python",
   "name": "python3"
  },
  "language_info": {
   "codemirror_mode": {
    "name": "ipython",
    "version": 3
   },
   "file_extension": ".py",
   "mimetype": "text/x-python",
   "name": "python",
   "nbconvert_exporter": "python",
   "pygments_lexer": "ipython3",
   "version": "3.7.4"
  }
 },
 "nbformat": 4,
 "nbformat_minor": 4
}
