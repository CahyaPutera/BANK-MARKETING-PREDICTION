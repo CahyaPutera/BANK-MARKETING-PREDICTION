{
 "cells": [
  {
   "cell_type": "markdown",
   "metadata": {},
   "source": [
    "## BANK MARKETING CAMPAIGN - HYPERPARAMETER TUNING"
   ]
  },
  {
   "cell_type": "markdown",
   "metadata": {},
   "source": [
    "Data taken from : https://archive.ics.uci.edu/ml/datasets/bank+marketing\n",
    "\n",
    "In this section we will try to find the best hyperparameter to best tune the respected models. This data related with direct marketing campaigns of a Portuguese banking institution. The marketing campaigns were based on phone calls. Often, more than one contact to the same client was required, in order to access if the product (bank term deposit) would be ('yes') or not ('no') subscribed. "
   ]
  },
  {
   "cell_type": "markdown",
   "metadata": {},
   "source": [
    "### IMPORT LIBRARIES"
   ]
  },
  {
   "cell_type": "code",
   "execution_count": 1,
   "metadata": {},
   "outputs": [],
   "source": [
    "import pandas as pd\n",
    "import numpy as np\n",
    "import seaborn as sns\n",
    "import matplotlib.pyplot as plt\n",
    "\n",
    "from sklearn.model_selection import train_test_split\n",
    "from sklearn.preprocessing import LabelEncoder\n",
    "\n",
    "from sklearn import tree\n",
    "from sklearn.ensemble import ExtraTreesClassifier, RandomForestClassifier\n",
    "from sklearn.svm import SVC\n",
    "\n",
    "from sklearn.metrics import confusion_matrix, classification_report, recall_score\n",
    "from sklearn.model_selection import RandomizedSearchCV\n",
    "\n",
    "import warnings\n",
    "warnings.filterwarnings('ignore')"
   ]
  },
  {
   "cell_type": "code",
   "execution_count": 2,
   "metadata": {},
   "outputs": [],
   "source": [
    "df = pd.read_csv('bank_HP.csv')"
   ]
  },
  {
   "cell_type": "code",
   "execution_count": 3,
   "metadata": {},
   "outputs": [
    {
     "data": {
      "text/html": [
       "<div>\n",
       "<style scoped>\n",
       "    .dataframe tbody tr th:only-of-type {\n",
       "        vertical-align: middle;\n",
       "    }\n",
       "\n",
       "    .dataframe tbody tr th {\n",
       "        vertical-align: top;\n",
       "    }\n",
       "\n",
       "    .dataframe thead th {\n",
       "        text-align: right;\n",
       "    }\n",
       "</style>\n",
       "<table border=\"1\" class=\"dataframe\">\n",
       "  <thead>\n",
       "    <tr style=\"text-align: right;\">\n",
       "      <th></th>\n",
       "      <th>duration</th>\n",
       "      <th>day</th>\n",
       "      <th>balance</th>\n",
       "      <th>age</th>\n",
       "      <th>campaign</th>\n",
       "      <th>contact_unknown</th>\n",
       "      <th>poutcome</th>\n",
       "      <th>education</th>\n",
       "      <th>housing_yes</th>\n",
       "      <th>pdays</th>\n",
       "      <th>deposit</th>\n",
       "    </tr>\n",
       "  </thead>\n",
       "  <tbody>\n",
       "    <tr>\n",
       "      <th>0</th>\n",
       "      <td>1042</td>\n",
       "      <td>5</td>\n",
       "      <td>2343</td>\n",
       "      <td>59</td>\n",
       "      <td>1</td>\n",
       "      <td>1</td>\n",
       "      <td>3</td>\n",
       "      <td>1</td>\n",
       "      <td>1</td>\n",
       "      <td>0</td>\n",
       "      <td>1</td>\n",
       "    </tr>\n",
       "    <tr>\n",
       "      <th>1</th>\n",
       "      <td>1467</td>\n",
       "      <td>5</td>\n",
       "      <td>45</td>\n",
       "      <td>56</td>\n",
       "      <td>1</td>\n",
       "      <td>1</td>\n",
       "      <td>3</td>\n",
       "      <td>1</td>\n",
       "      <td>0</td>\n",
       "      <td>0</td>\n",
       "      <td>1</td>\n",
       "    </tr>\n",
       "    <tr>\n",
       "      <th>2</th>\n",
       "      <td>1389</td>\n",
       "      <td>5</td>\n",
       "      <td>1270</td>\n",
       "      <td>41</td>\n",
       "      <td>1</td>\n",
       "      <td>1</td>\n",
       "      <td>3</td>\n",
       "      <td>1</td>\n",
       "      <td>1</td>\n",
       "      <td>0</td>\n",
       "      <td>1</td>\n",
       "    </tr>\n",
       "    <tr>\n",
       "      <th>3</th>\n",
       "      <td>579</td>\n",
       "      <td>5</td>\n",
       "      <td>2476</td>\n",
       "      <td>55</td>\n",
       "      <td>1</td>\n",
       "      <td>1</td>\n",
       "      <td>3</td>\n",
       "      <td>1</td>\n",
       "      <td>1</td>\n",
       "      <td>0</td>\n",
       "      <td>1</td>\n",
       "    </tr>\n",
       "    <tr>\n",
       "      <th>4</th>\n",
       "      <td>673</td>\n",
       "      <td>5</td>\n",
       "      <td>184</td>\n",
       "      <td>54</td>\n",
       "      <td>2</td>\n",
       "      <td>1</td>\n",
       "      <td>3</td>\n",
       "      <td>2</td>\n",
       "      <td>0</td>\n",
       "      <td>0</td>\n",
       "      <td>1</td>\n",
       "    </tr>\n",
       "  </tbody>\n",
       "</table>\n",
       "</div>"
      ],
      "text/plain": [
       "   duration  day  balance  age  campaign  contact_unknown  poutcome  \\\n",
       "0      1042    5     2343   59         1                1         3   \n",
       "1      1467    5       45   56         1                1         3   \n",
       "2      1389    5     1270   41         1                1         3   \n",
       "3       579    5     2476   55         1                1         3   \n",
       "4       673    5      184   54         2                1         3   \n",
       "\n",
       "   education  housing_yes  pdays  deposit  \n",
       "0          1            1      0        1  \n",
       "1          1            0      0        1  \n",
       "2          1            1      0        1  \n",
       "3          1            1      0        1  \n",
       "4          2            0      0        1  "
      ]
     },
     "execution_count": 3,
     "metadata": {},
     "output_type": "execute_result"
    }
   ],
   "source": [
    "df.head()"
   ]
  },
  {
   "cell_type": "code",
   "execution_count": 4,
   "metadata": {},
   "outputs": [
    {
     "name": "stdout",
     "output_type": "stream",
     "text": [
      "<class 'pandas.core.frame.DataFrame'>\n",
      "RangeIndex: 11162 entries, 0 to 11161\n",
      "Data columns (total 11 columns):\n",
      " #   Column           Non-Null Count  Dtype\n",
      "---  ------           --------------  -----\n",
      " 0   duration         11162 non-null  int64\n",
      " 1   day              11162 non-null  int64\n",
      " 2   balance          11162 non-null  int64\n",
      " 3   age              11162 non-null  int64\n",
      " 4   campaign         11162 non-null  int64\n",
      " 5   contact_unknown  11162 non-null  int64\n",
      " 6   poutcome         11162 non-null  int64\n",
      " 7   education        11162 non-null  int64\n",
      " 8   housing_yes      11162 non-null  int64\n",
      " 9   pdays            11162 non-null  int64\n",
      " 10  deposit          11162 non-null  int64\n",
      "dtypes: int64(11)\n",
      "memory usage: 959.4 KB\n"
     ]
    }
   ],
   "source": [
    "df.info()"
   ]
  },
  {
   "cell_type": "markdown",
   "metadata": {},
   "source": [
    "### PARAMETERS"
   ]
  },
  {
   "cell_type": "code",
   "execution_count": 5,
   "metadata": {},
   "outputs": [],
   "source": [
    "# Random Forest Classifier\n",
    "\n",
    "max_depth = [10, 20, 40, 'None']\n",
    "min_samples_leaf = [2, 4, 8]\n",
    "min_samples_split = [2, 10, 100]\n",
    "n_estimators = [10, 100, 500]\n",
    "\n",
    "RFC_param = {'max_depth' : max_depth, \n",
    "             'min_samples_leaf': min_samples_leaf, \n",
    "             'min_samples_split' : min_samples_split, \n",
    "             'n_estimators' : n_estimators}"
   ]
  },
  {
   "cell_type": "code",
   "execution_count": 6,
   "metadata": {},
   "outputs": [],
   "source": [
    "# Support Vector Machine Classifier\n",
    "\n",
    "C = [0.01, 0.1, 1, 10, 100]\n",
    "gamma = [1, 0.1, 0.01, 0.001, 'scale', 'auto']\n",
    "\n",
    "SVM_param= {'C': C, \n",
    "            'gamma': gamma}"
   ]
  },
  {
   "cell_type": "markdown",
   "metadata": {},
   "source": [
    "### SPLIT DATA"
   ]
  },
  {
   "cell_type": "code",
   "execution_count": 7,
   "metadata": {},
   "outputs": [],
   "source": [
    "# Split target predictors\n",
    "\n",
    "X = df.drop(['deposit'], axis = 1)\n",
    "y = df['deposit']"
   ]
  },
  {
   "cell_type": "code",
   "execution_count": 8,
   "metadata": {},
   "outputs": [],
   "source": [
    "# Split 80% train data\n",
    "\n",
    "X_train, X_test, y_train, y_test = train_test_split(X, y, train_size = .8, shuffle = False)"
   ]
  },
  {
   "cell_type": "code",
   "execution_count": 9,
   "metadata": {},
   "outputs": [
    {
     "data": {
      "text/html": [
       "<div>\n",
       "<style scoped>\n",
       "    .dataframe tbody tr th:only-of-type {\n",
       "        vertical-align: middle;\n",
       "    }\n",
       "\n",
       "    .dataframe tbody tr th {\n",
       "        vertical-align: top;\n",
       "    }\n",
       "\n",
       "    .dataframe thead th {\n",
       "        text-align: right;\n",
       "    }\n",
       "</style>\n",
       "<table border=\"1\" class=\"dataframe\">\n",
       "  <thead>\n",
       "    <tr style=\"text-align: right;\">\n",
       "      <th></th>\n",
       "      <th>duration</th>\n",
       "      <th>day</th>\n",
       "      <th>balance</th>\n",
       "      <th>age</th>\n",
       "      <th>campaign</th>\n",
       "      <th>contact_unknown</th>\n",
       "      <th>poutcome</th>\n",
       "      <th>education</th>\n",
       "      <th>housing_yes</th>\n",
       "      <th>pdays</th>\n",
       "    </tr>\n",
       "  </thead>\n",
       "  <tbody>\n",
       "    <tr>\n",
       "      <th>0</th>\n",
       "      <td>1042</td>\n",
       "      <td>5</td>\n",
       "      <td>2343</td>\n",
       "      <td>59</td>\n",
       "      <td>1</td>\n",
       "      <td>1</td>\n",
       "      <td>3</td>\n",
       "      <td>1</td>\n",
       "      <td>1</td>\n",
       "      <td>0</td>\n",
       "    </tr>\n",
       "    <tr>\n",
       "      <th>1</th>\n",
       "      <td>1467</td>\n",
       "      <td>5</td>\n",
       "      <td>45</td>\n",
       "      <td>56</td>\n",
       "      <td>1</td>\n",
       "      <td>1</td>\n",
       "      <td>3</td>\n",
       "      <td>1</td>\n",
       "      <td>0</td>\n",
       "      <td>0</td>\n",
       "    </tr>\n",
       "    <tr>\n",
       "      <th>2</th>\n",
       "      <td>1389</td>\n",
       "      <td>5</td>\n",
       "      <td>1270</td>\n",
       "      <td>41</td>\n",
       "      <td>1</td>\n",
       "      <td>1</td>\n",
       "      <td>3</td>\n",
       "      <td>1</td>\n",
       "      <td>1</td>\n",
       "      <td>0</td>\n",
       "    </tr>\n",
       "    <tr>\n",
       "      <th>3</th>\n",
       "      <td>579</td>\n",
       "      <td>5</td>\n",
       "      <td>2476</td>\n",
       "      <td>55</td>\n",
       "      <td>1</td>\n",
       "      <td>1</td>\n",
       "      <td>3</td>\n",
       "      <td>1</td>\n",
       "      <td>1</td>\n",
       "      <td>0</td>\n",
       "    </tr>\n",
       "    <tr>\n",
       "      <th>4</th>\n",
       "      <td>673</td>\n",
       "      <td>5</td>\n",
       "      <td>184</td>\n",
       "      <td>54</td>\n",
       "      <td>2</td>\n",
       "      <td>1</td>\n",
       "      <td>3</td>\n",
       "      <td>2</td>\n",
       "      <td>0</td>\n",
       "      <td>0</td>\n",
       "    </tr>\n",
       "  </tbody>\n",
       "</table>\n",
       "</div>"
      ],
      "text/plain": [
       "   duration  day  balance  age  campaign  contact_unknown  poutcome  \\\n",
       "0      1042    5     2343   59         1                1         3   \n",
       "1      1467    5       45   56         1                1         3   \n",
       "2      1389    5     1270   41         1                1         3   \n",
       "3       579    5     2476   55         1                1         3   \n",
       "4       673    5      184   54         2                1         3   \n",
       "\n",
       "   education  housing_yes  pdays  \n",
       "0          1            1      0  \n",
       "1          1            0      0  \n",
       "2          1            1      0  \n",
       "3          1            1      0  \n",
       "4          2            0      0  "
      ]
     },
     "execution_count": 9,
     "metadata": {},
     "output_type": "execute_result"
    }
   ],
   "source": [
    "X_train.head()"
   ]
  },
  {
   "cell_type": "code",
   "execution_count": 10,
   "metadata": {},
   "outputs": [
    {
     "data": {
      "text/html": [
       "<div>\n",
       "<style scoped>\n",
       "    .dataframe tbody tr th:only-of-type {\n",
       "        vertical-align: middle;\n",
       "    }\n",
       "\n",
       "    .dataframe tbody tr th {\n",
       "        vertical-align: top;\n",
       "    }\n",
       "\n",
       "    .dataframe thead th {\n",
       "        text-align: right;\n",
       "    }\n",
       "</style>\n",
       "<table border=\"1\" class=\"dataframe\">\n",
       "  <thead>\n",
       "    <tr style=\"text-align: right;\">\n",
       "      <th></th>\n",
       "      <th>duration</th>\n",
       "      <th>day</th>\n",
       "      <th>balance</th>\n",
       "      <th>age</th>\n",
       "      <th>campaign</th>\n",
       "      <th>contact_unknown</th>\n",
       "      <th>poutcome</th>\n",
       "      <th>education</th>\n",
       "      <th>housing_yes</th>\n",
       "      <th>pdays</th>\n",
       "    </tr>\n",
       "  </thead>\n",
       "  <tbody>\n",
       "    <tr>\n",
       "      <th>8929</th>\n",
       "      <td>203</td>\n",
       "      <td>3</td>\n",
       "      <td>183</td>\n",
       "      <td>48</td>\n",
       "      <td>9</td>\n",
       "      <td>1</td>\n",
       "      <td>3</td>\n",
       "      <td>1</td>\n",
       "      <td>1</td>\n",
       "      <td>0</td>\n",
       "    </tr>\n",
       "    <tr>\n",
       "      <th>8930</th>\n",
       "      <td>1075</td>\n",
       "      <td>2</td>\n",
       "      <td>86</td>\n",
       "      <td>24</td>\n",
       "      <td>2</td>\n",
       "      <td>1</td>\n",
       "      <td>3</td>\n",
       "      <td>1</td>\n",
       "      <td>0</td>\n",
       "      <td>0</td>\n",
       "    </tr>\n",
       "    <tr>\n",
       "      <th>8931</th>\n",
       "      <td>217</td>\n",
       "      <td>20</td>\n",
       "      <td>0</td>\n",
       "      <td>59</td>\n",
       "      <td>4</td>\n",
       "      <td>1</td>\n",
       "      <td>3</td>\n",
       "      <td>1</td>\n",
       "      <td>1</td>\n",
       "      <td>0</td>\n",
       "    </tr>\n",
       "    <tr>\n",
       "      <th>8932</th>\n",
       "      <td>317</td>\n",
       "      <td>11</td>\n",
       "      <td>2388</td>\n",
       "      <td>45</td>\n",
       "      <td>2</td>\n",
       "      <td>0</td>\n",
       "      <td>3</td>\n",
       "      <td>0</td>\n",
       "      <td>0</td>\n",
       "      <td>0</td>\n",
       "    </tr>\n",
       "    <tr>\n",
       "      <th>8933</th>\n",
       "      <td>156</td>\n",
       "      <td>5</td>\n",
       "      <td>160</td>\n",
       "      <td>39</td>\n",
       "      <td>1</td>\n",
       "      <td>0</td>\n",
       "      <td>3</td>\n",
       "      <td>1</td>\n",
       "      <td>1</td>\n",
       "      <td>0</td>\n",
       "    </tr>\n",
       "  </tbody>\n",
       "</table>\n",
       "</div>"
      ],
      "text/plain": [
       "      duration  day  balance  age  campaign  contact_unknown  poutcome  \\\n",
       "8929       203    3      183   48         9                1         3   \n",
       "8930      1075    2       86   24         2                1         3   \n",
       "8931       217   20        0   59         4                1         3   \n",
       "8932       317   11     2388   45         2                0         3   \n",
       "8933       156    5      160   39         1                0         3   \n",
       "\n",
       "      education  housing_yes  pdays  \n",
       "8929          1            1      0  \n",
       "8930          1            0      0  \n",
       "8931          1            1      0  \n",
       "8932          0            0      0  \n",
       "8933          1            1      0  "
      ]
     },
     "execution_count": 10,
     "metadata": {},
     "output_type": "execute_result"
    }
   ],
   "source": [
    "X_test.head()"
   ]
  },
  {
   "cell_type": "markdown",
   "metadata": {},
   "source": [
    "### MODEL"
   ]
  },
  {
   "cell_type": "code",
   "execution_count": 11,
   "metadata": {},
   "outputs": [],
   "source": [
    "# Random Forest Classifier\n",
    "\n",
    "RFC = RandomForestClassifier().fit(X_train, y_train)\n",
    "\n",
    "# Support Vector Machine\n",
    "\n",
    "SVM = SVC(kernel='rbf').fit(X_train, y_train)"
   ]
  },
  {
   "cell_type": "markdown",
   "metadata": {},
   "source": [
    "### HYPERPARAMETER TUNING"
   ]
  },
  {
   "cell_type": "code",
   "execution_count": 12,
   "metadata": {},
   "outputs": [],
   "source": [
    "# Random Forest Classifier\n",
    "\n",
    "def CVRFC (est, xtr, ytr):\n",
    "    result = RandomizedSearchCV(estimator = est, \n",
    "                                param_distributions = RFC_param, \n",
    "                                cv=5, scoring = 'accuracy').fit(xtr, ytr)\n",
    "    \n",
    "    return result\n",
    "\n",
    "# Support Vector Machine Classifier\n",
    "\n",
    "def CVSVM (est, xtr, ytr):\n",
    "    result = RandomizedSearchCV(estimator = est, \n",
    "                                param_distributions = SVM_param, \n",
    "                                cv=5, scoring = 'accuracy').fit(xtr, ytr)\n",
    "    \n",
    "    return result"
   ]
  },
  {
   "cell_type": "code",
   "execution_count": 13,
   "metadata": {},
   "outputs": [
    {
     "name": "stdout",
     "output_type": "stream",
     "text": [
      "Hyper Model 1 {'n_estimators': 500, 'min_samples_split': 10, 'min_samples_leaf': 4, 'max_depth': 40}\n",
      "Hyper Model 2 {'n_estimators': 100, 'min_samples_split': 2, 'min_samples_leaf': 8, 'max_depth': 40}\n",
      "Hyper Model 3 {'n_estimators': 100, 'min_samples_split': 10, 'min_samples_leaf': 8, 'max_depth': 40}\n"
     ]
    }
   ],
   "source": [
    "# Random Forest Classifier\n",
    "\n",
    "for i in range(1,4):\n",
    "    cv_rfc = CVRFC(RFC, X_train, y_train)\n",
    "    print('Hyper Model', i, cv_rfc.best_params_)"
   ]
  },
  {
   "cell_type": "code",
   "execution_count": 14,
   "metadata": {
    "scrolled": false
   },
   "outputs": [
    {
     "name": "stdout",
     "output_type": "stream",
     "text": [
      "Hyper Model 1 {'gamma': 'scale', 'C': 100}\n",
      "Hyper Model 2 {'gamma': 'scale', 'C': 100}\n",
      "Hyper Model 3 {'gamma': 'scale', 'C': 10}\n"
     ]
    }
   ],
   "source": [
    "# Support Vector Machine Classifier\n",
    "\n",
    "for i in range(1,4):\n",
    "    cv_svm = CVSVM(SVM, X_train, y_train)\n",
    "    print('Hyper Model', i, cv_svm.best_params_)"
   ]
  },
  {
   "cell_type": "markdown",
   "metadata": {},
   "source": [
    "### APPLY TUNED PARAMETER"
   ]
  },
  {
   "cell_type": "code",
   "execution_count": 16,
   "metadata": {},
   "outputs": [],
   "source": [
    "# Random Forest Classifier\n",
    "\n",
    "hyper_RFC1 = RandomForestClassifier(n_estimators = 500, min_samples_split = 10, min_samples_leaf = 4, max_depth = 40).fit(X_train, y_train)\n",
    "hyper_RFC2 = RandomForestClassifier(n_estimators = 100, min_samples_split = 2, min_samples_leaf = 8, max_depth = 10).fit(X_train, y_train)\n",
    "hyper_RFC3 = RandomForestClassifier(n_estimators = 100, min_samples_split = 10, min_samples_leaf = 8, max_depth = 10).fit(X_train, y_train)"
   ]
  },
  {
   "cell_type": "code",
   "execution_count": 17,
   "metadata": {},
   "outputs": [],
   "source": [
    "# Support Vector Machine Classifier\n",
    "\n",
    "hyper_SVM1 = SVC(kernel='rbf', gamma = 'scale', C = 100).fit(X_train, y_train)\n",
    "hyper_SVM2 = SVC(kernel='rbf', gamma = 'scale', C = 100).fit(X_train, y_train)\n",
    "hyper_SVM3 = SVC(kernel='rbf', gamma = 'scale', C = 10).fit(X_train, y_train)"
   ]
  },
  {
   "cell_type": "code",
   "execution_count": 18,
   "metadata": {},
   "outputs": [],
   "source": [
    "# y_predict for Random Forest Classifier\n",
    "\n",
    "yp_RFC = RFC.predict(X_test)\n",
    "yp_hyper_RFC1 = hyper_RFC1.predict(X_test)\n",
    "yp_hyper_RFC2 = hyper_RFC2.predict(X_test)\n",
    "yp_hyper_RFC3 = hyper_RFC3.predict(X_test)\n",
    "\n",
    "# y_predict for Support Vector Machine Classifier\n",
    "\n",
    "yp_SVM = SVM.predict(X_test)\n",
    "yp_hyper_SVM1 = hyper_SVM1.predict(X_test)\n",
    "yp_hyper_SVM2 = hyper_SVM2.predict(X_test)\n",
    "yp_hyper_SVM3 = hyper_SVM3.predict(X_test)"
   ]
  },
  {
   "cell_type": "markdown",
   "metadata": {},
   "source": [
    "### MEASURE THE DEFAULT VS THE HYPERPARAMETER TUNED"
   ]
  },
  {
   "cell_type": "code",
   "execution_count": 19,
   "metadata": {},
   "outputs": [],
   "source": [
    "# Measure the default vs hyperparameter tuned model score for Random Forest Classifier Model\n",
    "\n",
    "RFC_acc = RFC.score(X_test, y_test)\n",
    "hyper_RFC1_acc = hyper_RFC1.score(X_test, y_test)\n",
    "hyper_RFC2_acc = hyper_RFC2.score(X_test, y_test)\n",
    "hyper_RFC3_acc = hyper_RFC3.score(X_test, y_test)"
   ]
  },
  {
   "cell_type": "code",
   "execution_count": 20,
   "metadata": {},
   "outputs": [],
   "source": [
    "model_RFC_score = pd.DataFrame({'Random Forest Classifier' : ['Default', 'Hyper Test 1', 'Hyper Test 2', 'Hyper Test 3'], \n",
    "                                'Accuracy Score': [RFC_acc, hyper_RFC1_acc, hyper_RFC2_acc, hyper_RFC3_acc]})"
   ]
  },
  {
   "cell_type": "code",
   "execution_count": 21,
   "metadata": {},
   "outputs": [
    {
     "data": {
      "text/html": [
       "<div>\n",
       "<style scoped>\n",
       "    .dataframe tbody tr th:only-of-type {\n",
       "        vertical-align: middle;\n",
       "    }\n",
       "\n",
       "    .dataframe tbody tr th {\n",
       "        vertical-align: top;\n",
       "    }\n",
       "\n",
       "    .dataframe thead th {\n",
       "        text-align: right;\n",
       "    }\n",
       "</style>\n",
       "<table border=\"1\" class=\"dataframe\">\n",
       "  <thead>\n",
       "    <tr style=\"text-align: right;\">\n",
       "      <th></th>\n",
       "      <th>Random Forest Classifier</th>\n",
       "      <th>Accuracy Score</th>\n",
       "    </tr>\n",
       "  </thead>\n",
       "  <tbody>\n",
       "    <tr>\n",
       "      <th>0</th>\n",
       "      <td>Default</td>\n",
       "      <td>0.742499</td>\n",
       "    </tr>\n",
       "    <tr>\n",
       "      <th>1</th>\n",
       "      <td>Hyper Test 1</td>\n",
       "      <td>0.740708</td>\n",
       "    </tr>\n",
       "    <tr>\n",
       "      <th>2</th>\n",
       "      <td>Hyper Test 2</td>\n",
       "      <td>0.738916</td>\n",
       "    </tr>\n",
       "    <tr>\n",
       "      <th>3</th>\n",
       "      <td>Hyper Test 3</td>\n",
       "      <td>0.737573</td>\n",
       "    </tr>\n",
       "  </tbody>\n",
       "</table>\n",
       "</div>"
      ],
      "text/plain": [
       "  Random Forest Classifier  Accuracy Score\n",
       "0                  Default        0.742499\n",
       "1             Hyper Test 1        0.740708\n",
       "2             Hyper Test 2        0.738916\n",
       "3             Hyper Test 3        0.737573"
      ]
     },
     "execution_count": 21,
     "metadata": {},
     "output_type": "execute_result"
    }
   ],
   "source": [
    "model_RFC_score"
   ]
  },
  {
   "cell_type": "code",
   "execution_count": 22,
   "metadata": {},
   "outputs": [],
   "source": [
    "# Measure the default vs hyperparameter tuned model score for Support Vector Machine Classifier Model\n",
    "\n",
    "SVM_acc = SVM.score(X_test, y_test)\n",
    "hyper_SVM1_acc = hyper_SVM1.score(X_test, y_test)\n",
    "hyper_SVM2_acc = hyper_SVM2.score(X_test, y_test)\n",
    "hyper_SVM3_acc = hyper_SVM3.score(X_test, y_test)"
   ]
  },
  {
   "cell_type": "code",
   "execution_count": 25,
   "metadata": {},
   "outputs": [],
   "source": [
    "model_SVM_score = pd.DataFrame({'Support Vector Classifier' : ['Default', 'Hyper Test 1', 'Hyper Test 2', 'Hyper Test 3'], \n",
    "                                'Accuracy Score': [SVM_acc, hyper_SVM1_acc, hyper_SVM2_acc, hyper_SVM3_acc]})"
   ]
  },
  {
   "cell_type": "code",
   "execution_count": 26,
   "metadata": {},
   "outputs": [
    {
     "data": {
      "text/html": [
       "<div>\n",
       "<style scoped>\n",
       "    .dataframe tbody tr th:only-of-type {\n",
       "        vertical-align: middle;\n",
       "    }\n",
       "\n",
       "    .dataframe tbody tr th {\n",
       "        vertical-align: top;\n",
       "    }\n",
       "\n",
       "    .dataframe thead th {\n",
       "        text-align: right;\n",
       "    }\n",
       "</style>\n",
       "<table border=\"1\" class=\"dataframe\">\n",
       "  <thead>\n",
       "    <tr style=\"text-align: right;\">\n",
       "      <th></th>\n",
       "      <th>Support Vector Classifier</th>\n",
       "      <th>Accuracy Score</th>\n",
       "    </tr>\n",
       "  </thead>\n",
       "  <tbody>\n",
       "    <tr>\n",
       "      <th>0</th>\n",
       "      <td>Default</td>\n",
       "      <td>0.640394</td>\n",
       "    </tr>\n",
       "    <tr>\n",
       "      <th>1</th>\n",
       "      <td>Hyper Test 1</td>\n",
       "      <td>0.652485</td>\n",
       "    </tr>\n",
       "    <tr>\n",
       "      <th>2</th>\n",
       "      <td>Hyper Test 2</td>\n",
       "      <td>0.652485</td>\n",
       "    </tr>\n",
       "    <tr>\n",
       "      <th>3</th>\n",
       "      <td>Hyper Test 3</td>\n",
       "      <td>0.672638</td>\n",
       "    </tr>\n",
       "  </tbody>\n",
       "</table>\n",
       "</div>"
      ],
      "text/plain": [
       "  Support Vector Classifier  Accuracy Score\n",
       "0                   Default        0.640394\n",
       "1              Hyper Test 1        0.652485\n",
       "2              Hyper Test 2        0.652485\n",
       "3              Hyper Test 3        0.672638"
      ]
     },
     "execution_count": 26,
     "metadata": {},
     "output_type": "execute_result"
    }
   ],
   "source": [
    "model_SVM_score"
   ]
  }
 ],
 "metadata": {
  "kernelspec": {
   "display_name": "Python 3",
   "language": "python",
   "name": "python3"
  },
  "language_info": {
   "codemirror_mode": {
    "name": "ipython",
    "version": 3
   },
   "file_extension": ".py",
   "mimetype": "text/x-python",
   "name": "python",
   "nbconvert_exporter": "python",
   "pygments_lexer": "ipython3",
   "version": "3.7.4"
  }
 },
 "nbformat": 4,
 "nbformat_minor": 2
}
